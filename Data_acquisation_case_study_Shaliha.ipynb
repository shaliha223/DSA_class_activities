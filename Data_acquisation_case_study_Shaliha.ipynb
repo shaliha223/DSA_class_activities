{
  "nbformat": 4,
  "nbformat_minor": 0,
  "metadata": {
    "colab": {
      "provenance": [],
      "authorship_tag": "ABX9TyMND8vFWWnyXCkEkCwbJPb0",
      "include_colab_link": true
    },
    "kernelspec": {
      "name": "python3",
      "display_name": "Python 3"
    },
    "language_info": {
      "name": "python"
    }
  },
  "cells": [
    {
      "cell_type": "markdown",
      "metadata": {
        "id": "view-in-github",
        "colab_type": "text"
      },
      "source": [
        "<a href=\"https://colab.research.google.com/github/shaliha223/DSA_class_activities/blob/main/Data_acquisation_case_study_Shaliha.ipynb\" target=\"_parent\"><img src=\"https://colab.research.google.com/assets/colab-badge.svg\" alt=\"Open In Colab\"/></a>"
      ]
    },
    {
      "cell_type": "code",
      "execution_count": 1,
      "metadata": {
        "id": "E3Zl1LUVq9Ws"
      },
      "outputs": [],
      "source": [
        "import pandas as pd\n",
        "import json"
      ]
    },
    {
      "cell_type": "markdown",
      "source": [
        "Extract Data:"
      ],
      "metadata": {
        "id": "92Jb2R3RcjTu"
      }
    },
    {
      "cell_type": "code",
      "source": [
        "df_pop = pd.read_csv(\"/content/population.csv\")\n",
        "df_gdp = pd.read_excel(\"/content/gdp.xlsx\")\n",
        "df_int = pd.read_json(\"/content/internet_users.json\")\n",
        "df_lit = pd.read_xml(\"/content/literacy_rate.xml\")"
      ],
      "metadata": {
        "id": "G-0ksZUBrdFW"
      },
      "execution_count": 11,
      "outputs": []
    },
    {
      "cell_type": "markdown",
      "source": [
        "Transform Data:"
      ],
      "metadata": {
        "id": "jXG-9TZXc0RS"
      }
    },
    {
      "cell_type": "code",
      "source": [
        "print(df_gdp.columns)"
      ],
      "metadata": {
        "colab": {
          "base_uri": "https://localhost:8080/"
        },
        "id": "FknlrO6nvAxL",
        "outputId": "ef967779-98bc-4f66-8fd6-ccb2eb2433d2"
      },
      "execution_count": 12,
      "outputs": [
        {
          "output_type": "stream",
          "name": "stdout",
          "text": [
            "Index(['Country', 'GDP'], dtype='object')\n"
          ]
        }
      ]
    },
    {
      "cell_type": "code",
      "source": [
        "print(df_gdp['Country'].unique())"
      ],
      "metadata": {
        "colab": {
          "base_uri": "https://localhost:8080/"
        },
        "id": "fmQz0CSnshpT",
        "outputId": "48b57f8c-11e7-4c7d-f14a-c6219c0d78fd"
      },
      "execution_count": 13,
      "outputs": [
        {
          "output_type": "stream",
          "name": "stdout",
          "text": [
            "['United States' 'China' 'India' 'Japan' 'Germany' 'Russia' 'Brazil'\n",
            " 'United Kingdom' 'France' 'Italy' 'Canada' 'Australia' 'South Korea'\n",
            " 'Spain' 'Mexico' 'Indonesia' 'Turkey' 'Saudi Arabia' 'Argentina'\n",
            " 'South Africa']\n"
          ]
        }
      ]
    },
    {
      "cell_type": "code",
      "source": [
        "df_pop.columns"
      ],
      "metadata": {
        "colab": {
          "base_uri": "https://localhost:8080/"
        },
        "id": "qv7PqxbHvcFn",
        "outputId": "d380b148-b27a-4512-de5f-b615daa08322"
      },
      "execution_count": 14,
      "outputs": [
        {
          "output_type": "execute_result",
          "data": {
            "text/plain": [
              "Index(['country', 'population'], dtype='object')"
            ]
          },
          "metadata": {},
          "execution_count": 14
        }
      ]
    },
    {
      "cell_type": "code",
      "source": [
        "df_pop['country'].unique()"
      ],
      "metadata": {
        "colab": {
          "base_uri": "https://localhost:8080/"
        },
        "id": "Z_b9FkNqv1dZ",
        "outputId": "799e07f5-bebf-47d7-bea5-b06776104a44"
      },
      "execution_count": 17,
      "outputs": [
        {
          "output_type": "execute_result",
          "data": {
            "text/plain": [
              "array(['United States', 'China', 'India', 'Japan', 'Germany', 'Russia',\n",
              "       'Brazil', 'United Kingdom', 'France', 'Italy', 'Canada',\n",
              "       'Australia', 'South Korea', 'Spain', 'Mexico', 'Indonesia',\n",
              "       'Turkey', 'Saudi Arabia', 'Argentina', 'South Africa'],\n",
              "      dtype=object)"
            ]
          },
          "metadata": {},
          "execution_count": 17
        }
      ]
    },
    {
      "cell_type": "code",
      "source": [
        "df_int.columns"
      ],
      "metadata": {
        "colab": {
          "base_uri": "https://localhost:8080/"
        },
        "id": "aDw4XOdGvi4O",
        "outputId": "2e624575-a548-4acc-80c1-b7dbae3c5616"
      },
      "execution_count": 15,
      "outputs": [
        {
          "output_type": "execute_result",
          "data": {
            "text/plain": [
              "Index(['country', 'internet_users'], dtype='object')"
            ]
          },
          "metadata": {},
          "execution_count": 15
        }
      ]
    },
    {
      "cell_type": "code",
      "source": [
        "df_int['country'].unique()"
      ],
      "metadata": {
        "colab": {
          "base_uri": "https://localhost:8080/"
        },
        "id": "OfV6rFCQwL_U",
        "outputId": "95e96a44-7ef4-4e55-c37e-7d5897a031bb"
      },
      "execution_count": 18,
      "outputs": [
        {
          "output_type": "execute_result",
          "data": {
            "text/plain": [
              "array(['United States', 'China', 'India', 'Japan', 'Germany', 'Russia',\n",
              "       'Brazil', 'United Kingdom', 'France', 'Italy', 'Canada',\n",
              "       'Australia', 'South Korea', 'Spain', 'Mexico', 'Indonesia',\n",
              "       'Turkey', 'Saudi Arabia', 'Argentina', 'South Africa'],\n",
              "      dtype=object)"
            ]
          },
          "metadata": {},
          "execution_count": 18
        }
      ]
    },
    {
      "cell_type": "code",
      "source": [
        "df_lit.columns"
      ],
      "metadata": {
        "colab": {
          "base_uri": "https://localhost:8080/"
        },
        "id": "LxY7QTg0vtc9",
        "outputId": "56fa757d-e5b8-444d-e56c-6d816d246aa0"
      },
      "execution_count": 16,
      "outputs": [
        {
          "output_type": "execute_result",
          "data": {
            "text/plain": [
              "Index(['name', 'literacy_rate'], dtype='object')"
            ]
          },
          "metadata": {},
          "execution_count": 16
        }
      ]
    },
    {
      "cell_type": "code",
      "source": [
        "df_lit['name'].unique()"
      ],
      "metadata": {
        "colab": {
          "base_uri": "https://localhost:8080/"
        },
        "id": "heOMqW63wmzj",
        "outputId": "21fc5394-6d89-4e67-8f15-985bab25c0e7"
      },
      "execution_count": 20,
      "outputs": [
        {
          "output_type": "execute_result",
          "data": {
            "text/plain": [
              "array(['United States', 'China', 'India', 'Japan', 'Germany', 'Russia',\n",
              "       'Brazil', 'United Kingdom', 'France', 'Italy', 'Canada',\n",
              "       'Australia', 'South Korea', 'Spain', 'Mexico', 'Indonesia',\n",
              "       'Turkey', 'Saudi Arabia', 'Argentina', 'South Africa'],\n",
              "      dtype=object)"
            ]
          },
          "metadata": {},
          "execution_count": 20
        }
      ]
    },
    {
      "cell_type": "code",
      "source": [
        "df_lit.info()"
      ],
      "metadata": {
        "colab": {
          "base_uri": "https://localhost:8080/"
        },
        "id": "89jbYvjFxxyb",
        "outputId": "ddd4e347-1a4b-4965-d7af-7ec08be02965"
      },
      "execution_count": 21,
      "outputs": [
        {
          "output_type": "stream",
          "name": "stdout",
          "text": [
            "<class 'pandas.core.frame.DataFrame'>\n",
            "RangeIndex: 20 entries, 0 to 19\n",
            "Data columns (total 2 columns):\n",
            " #   Column         Non-Null Count  Dtype  \n",
            "---  ------         --------------  -----  \n",
            " 0   name           20 non-null     object \n",
            " 1   literacy_rate  20 non-null     float64\n",
            "dtypes: float64(1), object(1)\n",
            "memory usage: 452.0+ bytes\n"
          ]
        }
      ]
    },
    {
      "cell_type": "code",
      "source": [
        "df_gdp.info()"
      ],
      "metadata": {
        "colab": {
          "base_uri": "https://localhost:8080/"
        },
        "id": "ujOnvTvRx8xu",
        "outputId": "9fba7882-96b8-49f3-8717-f01e822d5d1f"
      },
      "execution_count": 22,
      "outputs": [
        {
          "output_type": "stream",
          "name": "stdout",
          "text": [
            "<class 'pandas.core.frame.DataFrame'>\n",
            "RangeIndex: 20 entries, 0 to 19\n",
            "Data columns (total 2 columns):\n",
            " #   Column   Non-Null Count  Dtype \n",
            "---  ------   --------------  ----- \n",
            " 0   Country  20 non-null     object\n",
            " 1   GDP      20 non-null     int64 \n",
            "dtypes: int64(1), object(1)\n",
            "memory usage: 452.0+ bytes\n"
          ]
        }
      ]
    },
    {
      "cell_type": "code",
      "source": [
        "df_int.info()"
      ],
      "metadata": {
        "colab": {
          "base_uri": "https://localhost:8080/"
        },
        "id": "UPZETu_lyYkY",
        "outputId": "5fe5fe7b-51a6-434e-a260-77e70154ecb7"
      },
      "execution_count": 23,
      "outputs": [
        {
          "output_type": "stream",
          "name": "stdout",
          "text": [
            "<class 'pandas.core.frame.DataFrame'>\n",
            "RangeIndex: 20 entries, 0 to 19\n",
            "Data columns (total 2 columns):\n",
            " #   Column          Non-Null Count  Dtype \n",
            "---  ------          --------------  ----- \n",
            " 0   country         20 non-null     object\n",
            " 1   internet_users  20 non-null     int64 \n",
            "dtypes: int64(1), object(1)\n",
            "memory usage: 452.0+ bytes\n"
          ]
        }
      ]
    },
    {
      "cell_type": "code",
      "source": [
        "df_pop.info()"
      ],
      "metadata": {
        "colab": {
          "base_uri": "https://localhost:8080/"
        },
        "id": "7HSOb1ZPyeAB",
        "outputId": "fed1b69d-6f3b-465d-ea6a-cec30e3d15c0"
      },
      "execution_count": 24,
      "outputs": [
        {
          "output_type": "stream",
          "name": "stdout",
          "text": [
            "<class 'pandas.core.frame.DataFrame'>\n",
            "RangeIndex: 20 entries, 0 to 19\n",
            "Data columns (total 2 columns):\n",
            " #   Column      Non-Null Count  Dtype \n",
            "---  ------      --------------  ----- \n",
            " 0   country     20 non-null     object\n",
            " 1   population  20 non-null     int64 \n",
            "dtypes: int64(1), object(1)\n",
            "memory usage: 452.0+ bytes\n"
          ]
        }
      ]
    },
    {
      "cell_type": "code",
      "source": [
        "#checking missing value\n",
        "\n",
        "print(df_pop.isna().sum())\n",
        "print(df_int.isna().sum())\n",
        "print(df_lit.isna().sum())\n",
        "print(df_pop.isna().sum())"
      ],
      "metadata": {
        "colab": {
          "base_uri": "https://localhost:8080/"
        },
        "id": "m6gMv3sEynAG",
        "outputId": "ad7d8f62-f9d9-4a57-8e43-498828d921bb"
      },
      "execution_count": 25,
      "outputs": [
        {
          "output_type": "stream",
          "name": "stdout",
          "text": [
            "country       0\n",
            "population    0\n",
            "dtype: int64\n",
            "country           0\n",
            "internet_users    0\n",
            "dtype: int64\n",
            "name             0\n",
            "literacy_rate    0\n",
            "dtype: int64\n",
            "country       0\n",
            "population    0\n",
            "dtype: int64\n"
          ]
        }
      ]
    },
    {
      "cell_type": "code",
      "source": [
        "#Create new columns such as internet penetration rate (internet users / population × 100)\n",
        "\n",
        "df_int['penetration_rate'] = df_int['internet_users'] * 100/ df_pop['population']\n",
        "\n",
        "df_int.head()"
      ],
      "metadata": {
        "colab": {
          "base_uri": "https://localhost:8080/",
          "height": 206
        },
        "id": "_rO0G7TrzkEY",
        "outputId": "b2891514-5c0d-4ed5-da6c-1b4b0f13c09c"
      },
      "execution_count": 28,
      "outputs": [
        {
          "output_type": "execute_result",
          "data": {
            "text/plain": [
              "         country  internet_users  penetration_rate\n",
              "0  United States       745595490         58.311493\n",
              "1          China       685275917         86.432366\n",
              "2          India       606850704         60.599844\n",
              "3          Japan      1112451555         92.222917\n",
              "4        Germany       246827121         57.571026"
            ],
            "text/html": [
              "\n",
              "  <div id=\"df-4509b603-30ce-4b62-aba1-76e84430703a\" class=\"colab-df-container\">\n",
              "    <div>\n",
              "<style scoped>\n",
              "    .dataframe tbody tr th:only-of-type {\n",
              "        vertical-align: middle;\n",
              "    }\n",
              "\n",
              "    .dataframe tbody tr th {\n",
              "        vertical-align: top;\n",
              "    }\n",
              "\n",
              "    .dataframe thead th {\n",
              "        text-align: right;\n",
              "    }\n",
              "</style>\n",
              "<table border=\"1\" class=\"dataframe\">\n",
              "  <thead>\n",
              "    <tr style=\"text-align: right;\">\n",
              "      <th></th>\n",
              "      <th>country</th>\n",
              "      <th>internet_users</th>\n",
              "      <th>penetration_rate</th>\n",
              "    </tr>\n",
              "  </thead>\n",
              "  <tbody>\n",
              "    <tr>\n",
              "      <th>0</th>\n",
              "      <td>United States</td>\n",
              "      <td>745595490</td>\n",
              "      <td>58.311493</td>\n",
              "    </tr>\n",
              "    <tr>\n",
              "      <th>1</th>\n",
              "      <td>China</td>\n",
              "      <td>685275917</td>\n",
              "      <td>86.432366</td>\n",
              "    </tr>\n",
              "    <tr>\n",
              "      <th>2</th>\n",
              "      <td>India</td>\n",
              "      <td>606850704</td>\n",
              "      <td>60.599844</td>\n",
              "    </tr>\n",
              "    <tr>\n",
              "      <th>3</th>\n",
              "      <td>Japan</td>\n",
              "      <td>1112451555</td>\n",
              "      <td>92.222917</td>\n",
              "    </tr>\n",
              "    <tr>\n",
              "      <th>4</th>\n",
              "      <td>Germany</td>\n",
              "      <td>246827121</td>\n",
              "      <td>57.571026</td>\n",
              "    </tr>\n",
              "  </tbody>\n",
              "</table>\n",
              "</div>\n",
              "    <div class=\"colab-df-buttons\">\n",
              "\n",
              "  <div class=\"colab-df-container\">\n",
              "    <button class=\"colab-df-convert\" onclick=\"convertToInteractive('df-4509b603-30ce-4b62-aba1-76e84430703a')\"\n",
              "            title=\"Convert this dataframe to an interactive table.\"\n",
              "            style=\"display:none;\">\n",
              "\n",
              "  <svg xmlns=\"http://www.w3.org/2000/svg\" height=\"24px\" viewBox=\"0 -960 960 960\">\n",
              "    <path d=\"M120-120v-720h720v720H120Zm60-500h600v-160H180v160Zm220 220h160v-160H400v160Zm0 220h160v-160H400v160ZM180-400h160v-160H180v160Zm440 0h160v-160H620v160ZM180-180h160v-160H180v160Zm440 0h160v-160H620v160Z\"/>\n",
              "  </svg>\n",
              "    </button>\n",
              "\n",
              "  <style>\n",
              "    .colab-df-container {\n",
              "      display:flex;\n",
              "      gap: 12px;\n",
              "    }\n",
              "\n",
              "    .colab-df-convert {\n",
              "      background-color: #E8F0FE;\n",
              "      border: none;\n",
              "      border-radius: 50%;\n",
              "      cursor: pointer;\n",
              "      display: none;\n",
              "      fill: #1967D2;\n",
              "      height: 32px;\n",
              "      padding: 0 0 0 0;\n",
              "      width: 32px;\n",
              "    }\n",
              "\n",
              "    .colab-df-convert:hover {\n",
              "      background-color: #E2EBFA;\n",
              "      box-shadow: 0px 1px 2px rgba(60, 64, 67, 0.3), 0px 1px 3px 1px rgba(60, 64, 67, 0.15);\n",
              "      fill: #174EA6;\n",
              "    }\n",
              "\n",
              "    .colab-df-buttons div {\n",
              "      margin-bottom: 4px;\n",
              "    }\n",
              "\n",
              "    [theme=dark] .colab-df-convert {\n",
              "      background-color: #3B4455;\n",
              "      fill: #D2E3FC;\n",
              "    }\n",
              "\n",
              "    [theme=dark] .colab-df-convert:hover {\n",
              "      background-color: #434B5C;\n",
              "      box-shadow: 0px 1px 3px 1px rgba(0, 0, 0, 0.15);\n",
              "      filter: drop-shadow(0px 1px 2px rgba(0, 0, 0, 0.3));\n",
              "      fill: #FFFFFF;\n",
              "    }\n",
              "  </style>\n",
              "\n",
              "    <script>\n",
              "      const buttonEl =\n",
              "        document.querySelector('#df-4509b603-30ce-4b62-aba1-76e84430703a button.colab-df-convert');\n",
              "      buttonEl.style.display =\n",
              "        google.colab.kernel.accessAllowed ? 'block' : 'none';\n",
              "\n",
              "      async function convertToInteractive(key) {\n",
              "        const element = document.querySelector('#df-4509b603-30ce-4b62-aba1-76e84430703a');\n",
              "        const dataTable =\n",
              "          await google.colab.kernel.invokeFunction('convertToInteractive',\n",
              "                                                    [key], {});\n",
              "        if (!dataTable) return;\n",
              "\n",
              "        const docLinkHtml = 'Like what you see? Visit the ' +\n",
              "          '<a target=\"_blank\" href=https://colab.research.google.com/notebooks/data_table.ipynb>data table notebook</a>'\n",
              "          + ' to learn more about interactive tables.';\n",
              "        element.innerHTML = '';\n",
              "        dataTable['output_type'] = 'display_data';\n",
              "        await google.colab.output.renderOutput(dataTable, element);\n",
              "        const docLink = document.createElement('div');\n",
              "        docLink.innerHTML = docLinkHtml;\n",
              "        element.appendChild(docLink);\n",
              "      }\n",
              "    </script>\n",
              "  </div>\n",
              "\n",
              "\n",
              "    <div id=\"df-d6e67c46-60fc-4e27-bb88-1f4c5c646375\">\n",
              "      <button class=\"colab-df-quickchart\" onclick=\"quickchart('df-d6e67c46-60fc-4e27-bb88-1f4c5c646375')\"\n",
              "                title=\"Suggest charts\"\n",
              "                style=\"display:none;\">\n",
              "\n",
              "<svg xmlns=\"http://www.w3.org/2000/svg\" height=\"24px\"viewBox=\"0 0 24 24\"\n",
              "     width=\"24px\">\n",
              "    <g>\n",
              "        <path d=\"M19 3H5c-1.1 0-2 .9-2 2v14c0 1.1.9 2 2 2h14c1.1 0 2-.9 2-2V5c0-1.1-.9-2-2-2zM9 17H7v-7h2v7zm4 0h-2V7h2v10zm4 0h-2v-4h2v4z\"/>\n",
              "    </g>\n",
              "</svg>\n",
              "      </button>\n",
              "\n",
              "<style>\n",
              "  .colab-df-quickchart {\n",
              "      --bg-color: #E8F0FE;\n",
              "      --fill-color: #1967D2;\n",
              "      --hover-bg-color: #E2EBFA;\n",
              "      --hover-fill-color: #174EA6;\n",
              "      --disabled-fill-color: #AAA;\n",
              "      --disabled-bg-color: #DDD;\n",
              "  }\n",
              "\n",
              "  [theme=dark] .colab-df-quickchart {\n",
              "      --bg-color: #3B4455;\n",
              "      --fill-color: #D2E3FC;\n",
              "      --hover-bg-color: #434B5C;\n",
              "      --hover-fill-color: #FFFFFF;\n",
              "      --disabled-bg-color: #3B4455;\n",
              "      --disabled-fill-color: #666;\n",
              "  }\n",
              "\n",
              "  .colab-df-quickchart {\n",
              "    background-color: var(--bg-color);\n",
              "    border: none;\n",
              "    border-radius: 50%;\n",
              "    cursor: pointer;\n",
              "    display: none;\n",
              "    fill: var(--fill-color);\n",
              "    height: 32px;\n",
              "    padding: 0;\n",
              "    width: 32px;\n",
              "  }\n",
              "\n",
              "  .colab-df-quickchart:hover {\n",
              "    background-color: var(--hover-bg-color);\n",
              "    box-shadow: 0 1px 2px rgba(60, 64, 67, 0.3), 0 1px 3px 1px rgba(60, 64, 67, 0.15);\n",
              "    fill: var(--button-hover-fill-color);\n",
              "  }\n",
              "\n",
              "  .colab-df-quickchart-complete:disabled,\n",
              "  .colab-df-quickchart-complete:disabled:hover {\n",
              "    background-color: var(--disabled-bg-color);\n",
              "    fill: var(--disabled-fill-color);\n",
              "    box-shadow: none;\n",
              "  }\n",
              "\n",
              "  .colab-df-spinner {\n",
              "    border: 2px solid var(--fill-color);\n",
              "    border-color: transparent;\n",
              "    border-bottom-color: var(--fill-color);\n",
              "    animation:\n",
              "      spin 1s steps(1) infinite;\n",
              "  }\n",
              "\n",
              "  @keyframes spin {\n",
              "    0% {\n",
              "      border-color: transparent;\n",
              "      border-bottom-color: var(--fill-color);\n",
              "      border-left-color: var(--fill-color);\n",
              "    }\n",
              "    20% {\n",
              "      border-color: transparent;\n",
              "      border-left-color: var(--fill-color);\n",
              "      border-top-color: var(--fill-color);\n",
              "    }\n",
              "    30% {\n",
              "      border-color: transparent;\n",
              "      border-left-color: var(--fill-color);\n",
              "      border-top-color: var(--fill-color);\n",
              "      border-right-color: var(--fill-color);\n",
              "    }\n",
              "    40% {\n",
              "      border-color: transparent;\n",
              "      border-right-color: var(--fill-color);\n",
              "      border-top-color: var(--fill-color);\n",
              "    }\n",
              "    60% {\n",
              "      border-color: transparent;\n",
              "      border-right-color: var(--fill-color);\n",
              "    }\n",
              "    80% {\n",
              "      border-color: transparent;\n",
              "      border-right-color: var(--fill-color);\n",
              "      border-bottom-color: var(--fill-color);\n",
              "    }\n",
              "    90% {\n",
              "      border-color: transparent;\n",
              "      border-bottom-color: var(--fill-color);\n",
              "    }\n",
              "  }\n",
              "</style>\n",
              "\n",
              "      <script>\n",
              "        async function quickchart(key) {\n",
              "          const quickchartButtonEl =\n",
              "            document.querySelector('#' + key + ' button');\n",
              "          quickchartButtonEl.disabled = true;  // To prevent multiple clicks.\n",
              "          quickchartButtonEl.classList.add('colab-df-spinner');\n",
              "          try {\n",
              "            const charts = await google.colab.kernel.invokeFunction(\n",
              "                'suggestCharts', [key], {});\n",
              "          } catch (error) {\n",
              "            console.error('Error during call to suggestCharts:', error);\n",
              "          }\n",
              "          quickchartButtonEl.classList.remove('colab-df-spinner');\n",
              "          quickchartButtonEl.classList.add('colab-df-quickchart-complete');\n",
              "        }\n",
              "        (() => {\n",
              "          let quickchartButtonEl =\n",
              "            document.querySelector('#df-d6e67c46-60fc-4e27-bb88-1f4c5c646375 button');\n",
              "          quickchartButtonEl.style.display =\n",
              "            google.colab.kernel.accessAllowed ? 'block' : 'none';\n",
              "        })();\n",
              "      </script>\n",
              "    </div>\n",
              "\n",
              "    </div>\n",
              "  </div>\n"
            ],
            "application/vnd.google.colaboratory.intrinsic+json": {
              "type": "dataframe",
              "variable_name": "df_int",
              "summary": "{\n  \"name\": \"df_int\",\n  \"rows\": 20,\n  \"fields\": [\n    {\n      \"column\": \"country\",\n      \"properties\": {\n        \"dtype\": \"string\",\n        \"num_unique_values\": 20,\n        \"samples\": [\n          \"United States\",\n          \"Saudi Arabia\",\n          \"Indonesia\"\n        ],\n        \"semantic_type\": \"\",\n        \"description\": \"\"\n      }\n    },\n    {\n      \"column\": \"internet_users\",\n      \"properties\": {\n        \"dtype\": \"number\",\n        \"std\": 330270577,\n        \"min\": 4584702,\n        \"max\": 1112451555,\n        \"num_unique_values\": 20,\n        \"samples\": [\n          745595490,\n          108944665,\n          4584702\n        ],\n        \"semantic_type\": \"\",\n        \"description\": \"\"\n      }\n    },\n    {\n      \"column\": \"penetration_rate\",\n      \"properties\": {\n        \"dtype\": \"number\",\n        \"std\": 26.486916909355703,\n        \"min\": 3.5590660247125236,\n        \"max\": 92.22291667974251,\n        \"num_unique_values\": 20,\n        \"samples\": [\n          58.311493418395656,\n          11.36642948901554,\n          4.908162209064495\n        ],\n        \"semantic_type\": \"\",\n        \"description\": \"\"\n      }\n    }\n  ]\n}"
            }
          },
          "metadata": {},
          "execution_count": 28
        }
      ]
    },
    {
      "cell_type": "code",
      "source": [
        "#Merge the datasets based on the country name\n",
        "\n",
        "df_gdp = df_gdp.rename(columns={'Country':'country'})\n",
        "df_lit = df_lit.rename(columns={'name':'country'})\n",
        "\n",
        "merged_df = df_gdp.merge(df_pop, on='country').merge(df_int, on='country').merge(df_lit, on='country')\n",
        "print(merged_df)\n"
      ],
      "metadata": {
        "colab": {
          "base_uri": "https://localhost:8080/"
        },
        "id": "9n79BUln0xyK",
        "outputId": "5dafd675-4f28-49b6-fce0-d7ef9ca87166"
      },
      "execution_count": 30,
      "outputs": [
        {
          "output_type": "stream",
          "name": "stdout",
          "text": [
            "           country             GDP  population  internet_users  \\\n",
            "0    United States  10450436373455  1278642419       745595490   \n",
            "1            China   5086547998939   792846414       685275917   \n",
            "2            India  14540718118693  1001406378       606850704   \n",
            "3            Japan  12473835857216  1206263687      1112451555   \n",
            "4          Germany   2038442396490   428734972       246827121   \n",
            "5           Russia  10987125474745   420968276       162156967   \n",
            "6           Brazil   8793052816619   675094950        24027075   \n",
            "7   United Kingdom  11799848684255   674991378       266047041   \n",
            "8           France   7758669752269   434389014       216417853   \n",
            "9            Italy  12907234326850   254467210        87191493   \n",
            "10          Canada   8158351525190  1438267572       894102645   \n",
            "11       Australia   5444267975247   439285667       201619113   \n",
            "12     South Korea   6562909541266   618608295       291770691   \n",
            "13           Spain  15275513099842   898664919       794943861   \n",
            "14          Mexico   2775281278756   653061058       135489564   \n",
            "15       Indonesia  12404144955318    93409749         4584702   \n",
            "16          Turkey   2581127745611   247285876       128924625   \n",
            "17    Saudi Arabia   8855399647233   958477463       108944665   \n",
            "18       Argentina   8767336567320  1432830251       421477197   \n",
            "19    South Africa   3328747361982   916989541       739194223   \n",
            "\n",
            "    penetration_rate  literacy_rate  \n",
            "0          58.311493           72.7  \n",
            "1          86.432366           82.2  \n",
            "2          60.599844           80.3  \n",
            "3          92.222917           97.5  \n",
            "4          57.571026           92.9  \n",
            "5          38.519997           89.1  \n",
            "6           3.559066           81.0  \n",
            "7          39.414880           82.9  \n",
            "8          49.821208           97.6  \n",
            "9          34.264333           83.7  \n",
            "10         62.165251           70.8  \n",
            "11         45.897039           71.6  \n",
            "12         47.165661           66.4  \n",
            "13         88.458317           60.6  \n",
            "14         20.746845           76.5  \n",
            "15          4.908162           75.4  \n",
            "16         52.135863           71.4  \n",
            "17         11.366429           60.5  \n",
            "18         29.415710           67.8  \n",
            "19         80.610976           87.7  \n"
          ]
        }
      ]
    },
    {
      "cell_type": "code",
      "source": [
        "#Handle unmatched or missing records\n",
        "\n",
        "merged_df.info()"
      ],
      "metadata": {
        "colab": {
          "base_uri": "https://localhost:8080/"
        },
        "id": "ACKyg1U33kT0",
        "outputId": "5d112d36-2be8-4c5b-bcfc-cf413029d691"
      },
      "execution_count": 31,
      "outputs": [
        {
          "output_type": "stream",
          "name": "stdout",
          "text": [
            "<class 'pandas.core.frame.DataFrame'>\n",
            "RangeIndex: 20 entries, 0 to 19\n",
            "Data columns (total 6 columns):\n",
            " #   Column            Non-Null Count  Dtype  \n",
            "---  ------            --------------  -----  \n",
            " 0   country           20 non-null     object \n",
            " 1   GDP               20 non-null     int64  \n",
            " 2   population        20 non-null     int64  \n",
            " 3   internet_users    20 non-null     int64  \n",
            " 4   penetration_rate  20 non-null     float64\n",
            " 5   literacy_rate     20 non-null     float64\n",
            "dtypes: float64(2), int64(3), object(1)\n",
            "memory usage: 1.1+ KB\n"
          ]
        }
      ]
    },
    {
      "cell_type": "markdown",
      "source": [
        "there is no missing value in merged dataset"
      ],
      "metadata": {
        "id": "b6MrHzzL5ANF"
      }
    },
    {
      "cell_type": "code",
      "source": [
        "#Validate the data for consistency and completeness\n",
        "\n",
        "print(merged_df.isnull().sum())\n",
        "print(merged_df[merged_df.isnull().any(axis=1)])"
      ],
      "metadata": {
        "colab": {
          "base_uri": "https://localhost:8080/"
        },
        "id": "NJz2O6u75IIk",
        "outputId": "f8608f79-f44d-470e-feec-3ccbd3deab83"
      },
      "execution_count": 32,
      "outputs": [
        {
          "output_type": "stream",
          "name": "stdout",
          "text": [
            "country             0\n",
            "GDP                 0\n",
            "population          0\n",
            "internet_users      0\n",
            "penetration_rate    0\n",
            "literacy_rate       0\n",
            "dtype: int64\n",
            "Empty DataFrame\n",
            "Columns: [country, GDP, population, internet_users, penetration_rate, literacy_rate]\n",
            "Index: []\n"
          ]
        }
      ]
    },
    {
      "cell_type": "code",
      "source": [
        "print(merged_df.dtypes)"
      ],
      "metadata": {
        "colab": {
          "base_uri": "https://localhost:8080/"
        },
        "id": "bkq-vvgB577L",
        "outputId": "30224716-694d-4dd0-fd20-90a9f85cff7f"
      },
      "execution_count": 33,
      "outputs": [
        {
          "output_type": "stream",
          "name": "stdout",
          "text": [
            "country              object\n",
            "GDP                   int64\n",
            "population            int64\n",
            "internet_users        int64\n",
            "penetration_rate    float64\n",
            "literacy_rate       float64\n",
            "dtype: object\n"
          ]
        }
      ]
    },
    {
      "cell_type": "code",
      "source": [
        "print(merged_df[merged_df.duplicated(subset=['country'], keep=False)])\n"
      ],
      "metadata": {
        "colab": {
          "base_uri": "https://localhost:8080/"
        },
        "id": "s7fxPjXc6NnX",
        "outputId": "26d7adb6-6344-4990-9222-3dbbb07ffe74"
      },
      "execution_count": 34,
      "outputs": [
        {
          "output_type": "stream",
          "name": "stdout",
          "text": [
            "Empty DataFrame\n",
            "Columns: [country, GDP, population, internet_users, penetration_rate, literacy_rate]\n",
            "Index: []\n"
          ]
        }
      ]
    },
    {
      "cell_type": "code",
      "source": [
        "#Find countries with highest internet penetration rates\n",
        "\n",
        "max_rate = merged_df['penetration_rate'].max()\n",
        "\n",
        "# Filter countries that have the highest rate\n",
        "top_countries = merged_df[merged_df['penetration_rate'] == max_rate]\n",
        "\n",
        "print(top_countries['country'])\n"
      ],
      "metadata": {
        "colab": {
          "base_uri": "https://localhost:8080/"
        },
        "id": "yMxI8y607BTD",
        "outputId": "18a59c0f-85b1-4304-d734-3d6e265c369b"
      },
      "execution_count": 36,
      "outputs": [
        {
          "output_type": "stream",
          "name": "stdout",
          "text": [
            "3    Japan\n",
            "Name: country, dtype: object\n"
          ]
        }
      ]
    },
    {
      "cell_type": "code",
      "source": [
        "#Calculate average literacy rate across countries\n",
        "\n",
        "average_literacy = merged_df['literacy_rate'].mean()\n",
        "\n",
        "print(f\"Average literacy rate across countries: {average_literacy:.2f}%\")\n"
      ],
      "metadata": {
        "colab": {
          "base_uri": "https://localhost:8080/"
        },
        "id": "WbVYCxS47gm8",
        "outputId": "132a0b12-94f1-46f1-daea-3c1d04322c0c"
      },
      "execution_count": 37,
      "outputs": [
        {
          "output_type": "stream",
          "name": "stdout",
          "text": [
            "Average literacy rate across countries: 78.43%\n"
          ]
        }
      ]
    },
    {
      "cell_type": "code",
      "source": [
        "#nvestigate relationships between GDP, population, literacy, and internet usage\n",
        "\n",
        "merged_df.describe()"
      ],
      "metadata": {
        "colab": {
          "base_uri": "https://localhost:8080/",
          "height": 300
        },
        "id": "uhYkL13b72cr",
        "outputId": "b5701378-ec44-4cce-bb90-a8b14b992a69"
      },
      "execution_count": 38,
      "outputs": [
        {
          "output_type": "execute_result",
          "data": {
            "text/plain": [
              "                GDP    population  internet_users  penetration_rate  \\\n",
              "count  2.000000e+01  2.000000e+01    2.000000e+01         20.000000   \n",
              "mean   8.549450e+12  7.432343e+08    3.936946e+08         48.179369   \n",
              "std    4.076091e+12  3.947080e+08    3.302706e+08         26.486917   \n",
              "min    2.038442e+12  9.340975e+07    4.584702e+06          3.559066   \n",
              "25%    5.354838e+12  4.329755e+08    1.338483e+08         33.052178   \n",
              "50%    8.780195e+12  6.750432e+08    2.564371e+08         48.493434   \n",
              "75%    1.195092e+13  9.692097e+08    6.987555e+08         60.991196   \n",
              "max    1.527551e+13  1.438268e+09    1.112452e+09         92.222917   \n",
              "\n",
              "       literacy_rate  \n",
              "count      20.000000  \n",
              "mean       78.430000  \n",
              "std        11.025144  \n",
              "min        60.500000  \n",
              "25%        71.250000  \n",
              "50%        78.400000  \n",
              "75%        84.700000  \n",
              "max        97.600000  "
            ],
            "text/html": [
              "\n",
              "  <div id=\"df-83300490-4f16-4d91-b8be-1eb944f9a62c\" class=\"colab-df-container\">\n",
              "    <div>\n",
              "<style scoped>\n",
              "    .dataframe tbody tr th:only-of-type {\n",
              "        vertical-align: middle;\n",
              "    }\n",
              "\n",
              "    .dataframe tbody tr th {\n",
              "        vertical-align: top;\n",
              "    }\n",
              "\n",
              "    .dataframe thead th {\n",
              "        text-align: right;\n",
              "    }\n",
              "</style>\n",
              "<table border=\"1\" class=\"dataframe\">\n",
              "  <thead>\n",
              "    <tr style=\"text-align: right;\">\n",
              "      <th></th>\n",
              "      <th>GDP</th>\n",
              "      <th>population</th>\n",
              "      <th>internet_users</th>\n",
              "      <th>penetration_rate</th>\n",
              "      <th>literacy_rate</th>\n",
              "    </tr>\n",
              "  </thead>\n",
              "  <tbody>\n",
              "    <tr>\n",
              "      <th>count</th>\n",
              "      <td>2.000000e+01</td>\n",
              "      <td>2.000000e+01</td>\n",
              "      <td>2.000000e+01</td>\n",
              "      <td>20.000000</td>\n",
              "      <td>20.000000</td>\n",
              "    </tr>\n",
              "    <tr>\n",
              "      <th>mean</th>\n",
              "      <td>8.549450e+12</td>\n",
              "      <td>7.432343e+08</td>\n",
              "      <td>3.936946e+08</td>\n",
              "      <td>48.179369</td>\n",
              "      <td>78.430000</td>\n",
              "    </tr>\n",
              "    <tr>\n",
              "      <th>std</th>\n",
              "      <td>4.076091e+12</td>\n",
              "      <td>3.947080e+08</td>\n",
              "      <td>3.302706e+08</td>\n",
              "      <td>26.486917</td>\n",
              "      <td>11.025144</td>\n",
              "    </tr>\n",
              "    <tr>\n",
              "      <th>min</th>\n",
              "      <td>2.038442e+12</td>\n",
              "      <td>9.340975e+07</td>\n",
              "      <td>4.584702e+06</td>\n",
              "      <td>3.559066</td>\n",
              "      <td>60.500000</td>\n",
              "    </tr>\n",
              "    <tr>\n",
              "      <th>25%</th>\n",
              "      <td>5.354838e+12</td>\n",
              "      <td>4.329755e+08</td>\n",
              "      <td>1.338483e+08</td>\n",
              "      <td>33.052178</td>\n",
              "      <td>71.250000</td>\n",
              "    </tr>\n",
              "    <tr>\n",
              "      <th>50%</th>\n",
              "      <td>8.780195e+12</td>\n",
              "      <td>6.750432e+08</td>\n",
              "      <td>2.564371e+08</td>\n",
              "      <td>48.493434</td>\n",
              "      <td>78.400000</td>\n",
              "    </tr>\n",
              "    <tr>\n",
              "      <th>75%</th>\n",
              "      <td>1.195092e+13</td>\n",
              "      <td>9.692097e+08</td>\n",
              "      <td>6.987555e+08</td>\n",
              "      <td>60.991196</td>\n",
              "      <td>84.700000</td>\n",
              "    </tr>\n",
              "    <tr>\n",
              "      <th>max</th>\n",
              "      <td>1.527551e+13</td>\n",
              "      <td>1.438268e+09</td>\n",
              "      <td>1.112452e+09</td>\n",
              "      <td>92.222917</td>\n",
              "      <td>97.600000</td>\n",
              "    </tr>\n",
              "  </tbody>\n",
              "</table>\n",
              "</div>\n",
              "    <div class=\"colab-df-buttons\">\n",
              "\n",
              "  <div class=\"colab-df-container\">\n",
              "    <button class=\"colab-df-convert\" onclick=\"convertToInteractive('df-83300490-4f16-4d91-b8be-1eb944f9a62c')\"\n",
              "            title=\"Convert this dataframe to an interactive table.\"\n",
              "            style=\"display:none;\">\n",
              "\n",
              "  <svg xmlns=\"http://www.w3.org/2000/svg\" height=\"24px\" viewBox=\"0 -960 960 960\">\n",
              "    <path d=\"M120-120v-720h720v720H120Zm60-500h600v-160H180v160Zm220 220h160v-160H400v160Zm0 220h160v-160H400v160ZM180-400h160v-160H180v160Zm440 0h160v-160H620v160ZM180-180h160v-160H180v160Zm440 0h160v-160H620v160Z\"/>\n",
              "  </svg>\n",
              "    </button>\n",
              "\n",
              "  <style>\n",
              "    .colab-df-container {\n",
              "      display:flex;\n",
              "      gap: 12px;\n",
              "    }\n",
              "\n",
              "    .colab-df-convert {\n",
              "      background-color: #E8F0FE;\n",
              "      border: none;\n",
              "      border-radius: 50%;\n",
              "      cursor: pointer;\n",
              "      display: none;\n",
              "      fill: #1967D2;\n",
              "      height: 32px;\n",
              "      padding: 0 0 0 0;\n",
              "      width: 32px;\n",
              "    }\n",
              "\n",
              "    .colab-df-convert:hover {\n",
              "      background-color: #E2EBFA;\n",
              "      box-shadow: 0px 1px 2px rgba(60, 64, 67, 0.3), 0px 1px 3px 1px rgba(60, 64, 67, 0.15);\n",
              "      fill: #174EA6;\n",
              "    }\n",
              "\n",
              "    .colab-df-buttons div {\n",
              "      margin-bottom: 4px;\n",
              "    }\n",
              "\n",
              "    [theme=dark] .colab-df-convert {\n",
              "      background-color: #3B4455;\n",
              "      fill: #D2E3FC;\n",
              "    }\n",
              "\n",
              "    [theme=dark] .colab-df-convert:hover {\n",
              "      background-color: #434B5C;\n",
              "      box-shadow: 0px 1px 3px 1px rgba(0, 0, 0, 0.15);\n",
              "      filter: drop-shadow(0px 1px 2px rgba(0, 0, 0, 0.3));\n",
              "      fill: #FFFFFF;\n",
              "    }\n",
              "  </style>\n",
              "\n",
              "    <script>\n",
              "      const buttonEl =\n",
              "        document.querySelector('#df-83300490-4f16-4d91-b8be-1eb944f9a62c button.colab-df-convert');\n",
              "      buttonEl.style.display =\n",
              "        google.colab.kernel.accessAllowed ? 'block' : 'none';\n",
              "\n",
              "      async function convertToInteractive(key) {\n",
              "        const element = document.querySelector('#df-83300490-4f16-4d91-b8be-1eb944f9a62c');\n",
              "        const dataTable =\n",
              "          await google.colab.kernel.invokeFunction('convertToInteractive',\n",
              "                                                    [key], {});\n",
              "        if (!dataTable) return;\n",
              "\n",
              "        const docLinkHtml = 'Like what you see? Visit the ' +\n",
              "          '<a target=\"_blank\" href=https://colab.research.google.com/notebooks/data_table.ipynb>data table notebook</a>'\n",
              "          + ' to learn more about interactive tables.';\n",
              "        element.innerHTML = '';\n",
              "        dataTable['output_type'] = 'display_data';\n",
              "        await google.colab.output.renderOutput(dataTable, element);\n",
              "        const docLink = document.createElement('div');\n",
              "        docLink.innerHTML = docLinkHtml;\n",
              "        element.appendChild(docLink);\n",
              "      }\n",
              "    </script>\n",
              "  </div>\n",
              "\n",
              "\n",
              "    <div id=\"df-44ac7fbf-765a-42e3-b6a9-198cb86805eb\">\n",
              "      <button class=\"colab-df-quickchart\" onclick=\"quickchart('df-44ac7fbf-765a-42e3-b6a9-198cb86805eb')\"\n",
              "                title=\"Suggest charts\"\n",
              "                style=\"display:none;\">\n",
              "\n",
              "<svg xmlns=\"http://www.w3.org/2000/svg\" height=\"24px\"viewBox=\"0 0 24 24\"\n",
              "     width=\"24px\">\n",
              "    <g>\n",
              "        <path d=\"M19 3H5c-1.1 0-2 .9-2 2v14c0 1.1.9 2 2 2h14c1.1 0 2-.9 2-2V5c0-1.1-.9-2-2-2zM9 17H7v-7h2v7zm4 0h-2V7h2v10zm4 0h-2v-4h2v4z\"/>\n",
              "    </g>\n",
              "</svg>\n",
              "      </button>\n",
              "\n",
              "<style>\n",
              "  .colab-df-quickchart {\n",
              "      --bg-color: #E8F0FE;\n",
              "      --fill-color: #1967D2;\n",
              "      --hover-bg-color: #E2EBFA;\n",
              "      --hover-fill-color: #174EA6;\n",
              "      --disabled-fill-color: #AAA;\n",
              "      --disabled-bg-color: #DDD;\n",
              "  }\n",
              "\n",
              "  [theme=dark] .colab-df-quickchart {\n",
              "      --bg-color: #3B4455;\n",
              "      --fill-color: #D2E3FC;\n",
              "      --hover-bg-color: #434B5C;\n",
              "      --hover-fill-color: #FFFFFF;\n",
              "      --disabled-bg-color: #3B4455;\n",
              "      --disabled-fill-color: #666;\n",
              "  }\n",
              "\n",
              "  .colab-df-quickchart {\n",
              "    background-color: var(--bg-color);\n",
              "    border: none;\n",
              "    border-radius: 50%;\n",
              "    cursor: pointer;\n",
              "    display: none;\n",
              "    fill: var(--fill-color);\n",
              "    height: 32px;\n",
              "    padding: 0;\n",
              "    width: 32px;\n",
              "  }\n",
              "\n",
              "  .colab-df-quickchart:hover {\n",
              "    background-color: var(--hover-bg-color);\n",
              "    box-shadow: 0 1px 2px rgba(60, 64, 67, 0.3), 0 1px 3px 1px rgba(60, 64, 67, 0.15);\n",
              "    fill: var(--button-hover-fill-color);\n",
              "  }\n",
              "\n",
              "  .colab-df-quickchart-complete:disabled,\n",
              "  .colab-df-quickchart-complete:disabled:hover {\n",
              "    background-color: var(--disabled-bg-color);\n",
              "    fill: var(--disabled-fill-color);\n",
              "    box-shadow: none;\n",
              "  }\n",
              "\n",
              "  .colab-df-spinner {\n",
              "    border: 2px solid var(--fill-color);\n",
              "    border-color: transparent;\n",
              "    border-bottom-color: var(--fill-color);\n",
              "    animation:\n",
              "      spin 1s steps(1) infinite;\n",
              "  }\n",
              "\n",
              "  @keyframes spin {\n",
              "    0% {\n",
              "      border-color: transparent;\n",
              "      border-bottom-color: var(--fill-color);\n",
              "      border-left-color: var(--fill-color);\n",
              "    }\n",
              "    20% {\n",
              "      border-color: transparent;\n",
              "      border-left-color: var(--fill-color);\n",
              "      border-top-color: var(--fill-color);\n",
              "    }\n",
              "    30% {\n",
              "      border-color: transparent;\n",
              "      border-left-color: var(--fill-color);\n",
              "      border-top-color: var(--fill-color);\n",
              "      border-right-color: var(--fill-color);\n",
              "    }\n",
              "    40% {\n",
              "      border-color: transparent;\n",
              "      border-right-color: var(--fill-color);\n",
              "      border-top-color: var(--fill-color);\n",
              "    }\n",
              "    60% {\n",
              "      border-color: transparent;\n",
              "      border-right-color: var(--fill-color);\n",
              "    }\n",
              "    80% {\n",
              "      border-color: transparent;\n",
              "      border-right-color: var(--fill-color);\n",
              "      border-bottom-color: var(--fill-color);\n",
              "    }\n",
              "    90% {\n",
              "      border-color: transparent;\n",
              "      border-bottom-color: var(--fill-color);\n",
              "    }\n",
              "  }\n",
              "</style>\n",
              "\n",
              "      <script>\n",
              "        async function quickchart(key) {\n",
              "          const quickchartButtonEl =\n",
              "            document.querySelector('#' + key + ' button');\n",
              "          quickchartButtonEl.disabled = true;  // To prevent multiple clicks.\n",
              "          quickchartButtonEl.classList.add('colab-df-spinner');\n",
              "          try {\n",
              "            const charts = await google.colab.kernel.invokeFunction(\n",
              "                'suggestCharts', [key], {});\n",
              "          } catch (error) {\n",
              "            console.error('Error during call to suggestCharts:', error);\n",
              "          }\n",
              "          quickchartButtonEl.classList.remove('colab-df-spinner');\n",
              "          quickchartButtonEl.classList.add('colab-df-quickchart-complete');\n",
              "        }\n",
              "        (() => {\n",
              "          let quickchartButtonEl =\n",
              "            document.querySelector('#df-44ac7fbf-765a-42e3-b6a9-198cb86805eb button');\n",
              "          quickchartButtonEl.style.display =\n",
              "            google.colab.kernel.accessAllowed ? 'block' : 'none';\n",
              "        })();\n",
              "      </script>\n",
              "    </div>\n",
              "\n",
              "    </div>\n",
              "  </div>\n"
            ],
            "application/vnd.google.colaboratory.intrinsic+json": {
              "type": "dataframe",
              "summary": "{\n  \"name\": \"merged_df\",\n  \"rows\": 8,\n  \"fields\": [\n    {\n      \"column\": \"GDP\",\n      \"properties\": {\n        \"dtype\": \"number\",\n        \"std\": 5119129602223.638,\n        \"min\": 20.0,\n        \"max\": 15275513099842.0,\n        \"num_unique_values\": 8,\n        \"samples\": [\n          8549449574864.8,\n          8780194691969.5,\n          20.0\n        ],\n        \"semantic_type\": \"\",\n        \"description\": \"\"\n      }\n    },\n    {\n      \"column\": \"population\",\n      \"properties\": {\n        \"dtype\": \"number\",\n        \"std\": 470786325.8518447,\n        \"min\": 20.0,\n        \"max\": 1438267572.0,\n        \"num_unique_values\": 8,\n        \"samples\": [\n          743234254.45,\n          675043164.0,\n          20.0\n        ],\n        \"semantic_type\": \"\",\n        \"description\": \"\"\n      }\n    },\n    {\n      \"column\": \"internet_users\",\n      \"properties\": {\n        \"dtype\": \"number\",\n        \"std\": 378046603.1985604,\n        \"min\": 20.0,\n        \"max\": 1112451555.0,\n        \"num_unique_values\": 8,\n        \"samples\": [\n          393694625.1,\n          256437081.0,\n          20.0\n        ],\n        \"semantic_type\": \"\",\n        \"description\": \"\"\n      }\n    },\n    {\n      \"column\": \"penetration_rate\",\n      \"properties\": {\n        \"dtype\": \"number\",\n        \"std\": 27.372156417856566,\n        \"min\": 3.5590660247125236,\n        \"max\": 92.22291667974251,\n        \"num_unique_values\": 8,\n        \"samples\": [\n          48.17936918595822,\n          48.49343433526989,\n          20.0\n        ],\n        \"semantic_type\": \"\",\n        \"description\": \"\"\n      }\n    },\n    {\n      \"column\": \"literacy_rate\",\n      \"properties\": {\n        \"dtype\": \"number\",\n        \"std\": 31.093050564674332,\n        \"min\": 11.025143512611715,\n        \"max\": 97.6,\n        \"num_unique_values\": 8,\n        \"samples\": [\n          78.43,\n          78.4,\n          20.0\n        ],\n        \"semantic_type\": \"\",\n        \"description\": \"\"\n      }\n    }\n  ]\n}"
            }
          },
          "metadata": {},
          "execution_count": 38
        }
      ]
    },
    {
      "cell_type": "code",
      "source": [
        "import seaborn as sns\n",
        "import matplotlib.pyplot as plt\n",
        "\n",
        "corr = merged_df[['GDP', 'population', 'literacy_rate', 'internet_users']].corr()\n",
        "sns.heatmap(corr, annot=True, cmap='coolwarm')\n",
        "plt.title('Correlation between GDP, Population, Literacy, and Internet Users')\n",
        "plt.show()"
      ],
      "metadata": {
        "colab": {
          "base_uri": "https://localhost:8080/",
          "height": 452
        },
        "id": "2W-zHE1b9Jsl",
        "outputId": "467fa0b7-2d3f-4cff-c02a-56ca107bf3d1"
      },
      "execution_count": 44,
      "outputs": [
        {
          "output_type": "display_data",
          "data": {
            "text/plain": [
              "<Figure size 640x480 with 2 Axes>"
            ],
            "image/png": "[encoded data removed]"
          },
          "metadata": {}
        }
      ]
    },
    {
      "cell_type": "code",
      "source": [
        "print(corr)"
      ],
      "metadata": {
        "colab": {
          "base_uri": "https://localhost:8080/"
        },
        "id": "jaq3ax8g95lX",
        "outputId": "3ac3a4b3-76e1-4981-f278-6fa53bbdf418"
      },
      "execution_count": 45,
      "outputs": [
        {
          "output_type": "stream",
          "name": "stdout",
          "text": [
            "                     GDP  population  literacy_rate  internet_users\n",
            "GDP             1.000000    0.183118      -0.081700        0.212559\n",
            "population      0.183118    1.000000      -0.229585        0.749573\n",
            "literacy_rate  -0.081700   -0.229585       1.000000        0.074808\n",
            "internet_users  0.212559    0.749573       0.074808        1.000000\n"
          ]
        }
      ]
    },
    {
      "cell_type": "code",
      "source": [
        "import sqlite3"
      ],
      "metadata": {
        "id": "lfOslD8N-RA5"
      },
      "execution_count": 46,
      "outputs": []
    },
    {
      "cell_type": "code",
      "source": [
        "conn = sqlite3.connect(\"country_info.db\")\n",
        "cursor = conn.cursor()"
      ],
      "metadata": {
        "id": "h3_Qq4mvHaE9"
      },
      "execution_count": 47,
      "outputs": []
    },
    {
      "cell_type": "code",
      "source": [
        "merged_df.to_sql(\"final_dataset\",conn,if_exists=\"replace\",index=False)"
      ],
      "metadata": {
        "colab": {
          "base_uri": "https://localhost:8080/"
        },
        "id": "C9mUdtegHriF",
        "outputId": "6d5df021-3c85-4311-c3cf-e1f7792ed763"
      },
      "execution_count": 49,
      "outputs": [
        {
          "output_type": "execute_result",
          "data": {
            "text/plain": [
              "20"
            ]
          },
          "metadata": {},
          "execution_count": 49
        }
      ]
    },
    {
      "cell_type": "code",
      "source": [
        "cursor.execute(\"select * from final_dataset\")"
      ],
      "metadata": {
        "colab": {
          "base_uri": "https://localhost:8080/"
        },
        "id": "6-avUSArIQuD",
        "outputId": "951c420a-2261-4444-fd18-ebe84dcb280c"
      },
      "execution_count": 50,
      "outputs": [
        {
          "output_type": "execute_result",
          "data": {
            "text/plain": [
              "<sqlite3.Cursor at 0x78ff5d6d04c0>"
            ]
          },
          "metadata": {},
          "execution_count": 50
        }
      ]
    },
    {
      "cell_type": "code",
      "source": [
        "print(cursor.fetchall())"
      ],
      "metadata": {
        "colab": {
          "base_uri": "https://localhost:8080/"
        },
        "id": "v7KJ1L03Ivnr",
        "outputId": "3b429413-beb2-4ad7-f343-838dc51e5a3a"
      },
      "execution_count": 52,
      "outputs": [
        {
          "output_type": "stream",
          "name": "stdout",
          "text": [
            "[('United States', 10450436373455, 1278642419, 745595490, 58.311493418395656, 72.7), ('China', 5086547998939, 792846414, 685275917, 86.4323663321759, 82.2), ('India', 14540718118693, 1001406378, 606850704, 60.59984411243684, 80.3), ('Japan', 12473835857216, 1206263687, 1112451555, 92.22291667974251, 97.5), ('Germany', 2038442396490, 428734972, 246827121, 57.57102571982395, 92.9), ('Russia', 10987125474745, 420968276, 162156967, 38.51999693202535, 89.1), ('Brazil', 8793052816619, 675094950, 24027075, 3.5590660247125236, 81.0), ('United Kingdom', 11799848684255, 674991378, 266047041, 39.41487990384375, 82.9), ('France', 7758669752269, 434389014, 216417853, 49.82120772511065, 97.6), ('Italy', 12907234326850, 254467210, 87191493, 34.264333310370326, 83.7), ('Canada', 8158351525190, 1438267572, 894102645, 62.165250917581005, 70.8), ('Australia', 5444267975247, 439285667, 201619113, 45.89703879412027, 71.6), ('South Korea', 6562909541266, 618608295, 291770691, 47.165660945429124, 66.4), ('Spain', 15275513099842, 898664919, 794943861, 88.45831679783197, 60.6), ('Mexico', 2775281278756, 653061058, 135489564, 20.74684477664874, 76.5), ('Indonesia', 12404144955318, 93409749, 4584702, 4.908162209064495, 75.4), ('Turkey', 2581127745611, 247285876, 128924625, 52.135862785790486, 71.4), ('Saudi Arabia', 8855399647233, 958477463, 108944665, 11.36642948901554, 60.5), ('Argentina', 8767336567320, 1432830251, 421477197, 29.415710388990107, 67.8), ('South Africa', 3328747361982, 916989541, 739194223, 80.61097645605535, 87.7)]\n"
          ]
        }
      ]
    },
    {
      "cell_type": "code",
      "source": [
        "#Countries with highest internet penetration\n",
        "\n",
        "cursor.execute(\"select country from final_dataset order by penetration_rate desc limit 1 \")\n",
        "print(cursor.fetchall())"
      ],
      "metadata": {
        "colab": {
          "base_uri": "https://localhost:8080/"
        },
        "id": "0iQWXGwEJCHN",
        "outputId": "af8c503e-b137-4b42-d44b-9986e0514853"
      },
      "execution_count": 55,
      "outputs": [
        {
          "output_type": "stream",
          "name": "stdout",
          "text": [
            "[('Japan',)]\n"
          ]
        }
      ]
    },
    {
      "cell_type": "code",
      "source": [
        "#Average literacy rate\n",
        "\n",
        "cursor.execute(\"select AVG(literacy_rate) from final_dataset\")\n",
        "print(cursor.fetchall())"
      ],
      "metadata": {
        "colab": {
          "base_uri": "https://localhost:8080/"
        },
        "id": "iORYRh3iKYid",
        "outputId": "e7378245-2a6c-41f6-dc0b-1996b8cd5bbc"
      },
      "execution_count": 57,
      "outputs": [
        {
          "output_type": "stream",
          "name": "stdout",
          "text": [
            "[(78.43,)]\n"
          ]
        }
      ]
    },
    {
      "cell_type": "code",
      "source": [
        "#Correlation between literacy rate and internet penetration\n",
        "\n",
        "cursor.execute(\"\"\"SELECT\n",
        "    (COUNT(*) * SUM(literacy_rate * penetration_rate) - SUM(literacy_rate) * SUM(penetration_rate)) /\n",
        "    (SQRT(COUNT(*) * SUM(literacy_rate * literacy_rate) - SUM(literacy_rate) * SUM(literacy_rate)) *\n",
        "     SQRT(COUNT(*) * SUM(penetration_rate * penetration_rate) - SUM(penetration_rate) * SUM(penetration_rate))\n",
        "    ) AS correlation\n",
        "FROM final_dataset;\"\"\")\n",
        "print(cursor.fetchall())"
      ],
      "metadata": {
        "colab": {
          "base_uri": "https://localhost:8080/"
        },
        "id": "f-aPKo9aKu33",
        "outputId": "acc5a4ba-54f8-4aa9-e7bb-5c4cb077b04b"
      },
      "execution_count": 59,
      "outputs": [
        {
          "output_type": "stream",
          "name": "stdout",
          "text": [
            "[(0.2353300920270708,)]\n"
          ]
        }
      ]
    },
    {
      "cell_type": "code",
      "source": [
        "#GDP per capita analysis\n",
        "\n",
        "cursor.execute(\"SELECT country,(GDP / population) AS GDP_per_capita FROM final_dataset order by GDP_per_capita desc\")\n",
        "print(cursor.fetchall())"
      ],
      "metadata": {
        "colab": {
          "base_uri": "https://localhost:8080/"
        },
        "id": "Vhxgru1XMpDT",
        "outputId": "68be096d-80b8-49e3-facc-12d6a48caac3"
      },
      "execution_count": 65,
      "outputs": [
        {
          "output_type": "stream",
          "name": "stdout",
          "text": [
            "[('Indonesia', 132792), ('Italy', 50722), ('Russia', 26099), ('France', 17861), ('United Kingdom', 17481), ('Spain', 16998), ('India', 14520), ('Brazil', 13024), ('Australia', 12393), ('South Korea', 10609), ('Turkey', 10437), ('Japan', 10340), ('Saudi Arabia', 9239), ('United States', 8173), ('China', 6415), ('Argentina', 6118), ('Canada', 5672), ('Germany', 4754), ('Mexico', 4249), ('South Africa', 3630)]\n"
          ]
        }
      ]
    },
    {
      "cell_type": "code",
      "source": [
        "#Which countries have a GDP per capita above $10,000?\n",
        "\n",
        "cursor.execute(\"SELECT country,(GDP / population) AS GDP_per_capita FROM final_dataset WHERE GDP_per_capita>10000\")\n",
        "print(cursor.fetchall())"
      ],
      "metadata": {
        "colab": {
          "base_uri": "https://localhost:8080/"
        },
        "id": "Vu0zCZUqOJa8",
        "outputId": "c2f00ab0-64c9-4db9-c7db-9a11c2b5c998"
      },
      "execution_count": 67,
      "outputs": [
        {
          "output_type": "stream",
          "name": "stdout",
          "text": [
            "[('India', 14520), ('Japan', 10340), ('Russia', 26099), ('Brazil', 13024), ('United Kingdom', 17481), ('France', 17861), ('Italy', 50722), ('Australia', 12393), ('South Korea', 10609), ('Spain', 16998), ('Indonesia', 132792), ('Turkey', 10437)]\n"
          ]
        }
      ]
    },
    {
      "cell_type": "code",
      "source": [
        "#What is the total population covered in the dataset?\n",
        "\n",
        "cursor.execute(\"SELECT SUM(population) FROM final_dataset\")\n",
        "print(cursor.fetchall())"
      ],
      "metadata": {
        "colab": {
          "base_uri": "https://localhost:8080/"
        },
        "id": "HKSV2F-KPVtl",
        "outputId": "18388be8-deb2-4dda-aebe-0d6c49d2df3a"
      },
      "execution_count": 68,
      "outputs": [
        {
          "output_type": "stream",
          "name": "stdout",
          "text": [
            "[(14864685089,)]\n"
          ]
        }
      ]
    },
    {
      "cell_type": "code",
      "source": [
        "#Which countries have the lowest literacy rates, and how does that impact internet access?\n",
        "\n",
        "cursor.execute(\"SELECT country from final_dataset order by literacy_rate asc limit 1\")\n",
        "print(\"country which has lowest literacy_rate=\",cursor.fetchone())\n",
        "\n",
        "cursor.execute(\"SELECT country,literacy_rate,internet_users FROM final_dataset order by literacy_rate\")\n",
        "cursor.fetchall()"
      ],
      "metadata": {
        "colab": {
          "base_uri": "https://localhost:8080/"
        },
        "id": "LzBQkBEZPlKx",
        "outputId": "9167465a-477e-4e82-f0fa-36f41d179e30"
      },
      "execution_count": 72,
      "outputs": [
        {
          "output_type": "stream",
          "name": "stdout",
          "text": [
            "country which has lowest literacy_rate= ('Saudi Arabia',)\n"
          ]
        },
        {
          "output_type": "execute_result",
          "data": {
            "text/plain": [
              "[('Saudi Arabia', 60.5, 108944665),\n",
              " ('Spain', 60.6, 794943861),\n",
              " ('South Korea', 66.4, 291770691),\n",
              " ('Argentina', 67.8, 421477197),\n",
              " ('Canada', 70.8, 894102645),\n",
              " ('Turkey', 71.4, 128924625),\n",
              " ('Australia', 71.6, 201619113),\n",
              " ('United States', 72.7, 745595490),\n",
              " ('Indonesia', 75.4, 4584702),\n",
              " ('Mexico', 76.5, 135489564),\n",
              " ('India', 80.3, 606850704),\n",
              " ('Brazil', 81.0, 24027075),\n",
              " ('China', 82.2, 685275917),\n",
              " ('United Kingdom', 82.9, 266047041),\n",
              " ('Italy', 83.7, 87191493),\n",
              " ('South Africa', 87.7, 739194223),\n",
              " ('Russia', 89.1, 162156967),\n",
              " ('Germany', 92.9, 246827121),\n",
              " ('Japan', 97.5, 1112451555),\n",
              " ('France', 97.6, 216417853)]"
            ]
          },
          "metadata": {},
          "execution_count": 72
        }
      ]
    },
    {
      "cell_type": "markdown",
      "source": [
        "The literacy rate and internet users are positively correlated for Saudi Arabia, which has the lowest literacy rate and the lowest internet users. This also affects the population; when the population is large and the literacy rate is low, the number of internet users is higher compared to other countries that have a literacy rate lower than that country."
      ],
      "metadata": {
        "id": "3h9rgPXKTIDq"
      }
    },
    {
      "cell_type": "code",
      "source": [
        "#What are the top 5 wealthiest countries by total GDP, and how does that compare with population size?\n",
        "\n",
        "cursor.execute(\"SELECT country,GDP,population FROM final_dataset order by GDP desc limit 5\")\n",
        "print(cursor.fetchall())"
      ],
      "metadata": {
        "colab": {
          "base_uri": "https://localhost:8080/"
        },
        "id": "gSDlc2SaUAG6",
        "outputId": "e623c50a-053a-4c08-e526-383fdff1bcb5"
      },
      "execution_count": 73,
      "outputs": [
        {
          "output_type": "stream",
          "name": "stdout",
          "text": [
            "[('Spain', 15275513099842, 898664919), ('India', 14540718118693, 1001406378), ('Italy', 12907234326850, 254467210), ('Japan', 12473835857216, 1206263687), ('Indonesia', 12404144955318, 93409749)]\n"
          ]
        }
      ]
    },
    {
      "cell_type": "markdown",
      "source": [
        "India has hidher population and lower gdp compared to spain therfore, A large population doesn’t always mean a higher total GDP.\n",
        "Countries with smaller populations like Spain or Italy may have higher GDP per person.\n",
        " Population size can magnify or obscure wealth distribution patterns.\n",
        "This visualization helps compare both economic size and demographic scale."
      ],
      "metadata": {
        "id": "aaq8Nh4NasuF"
      }
    },
    {
      "cell_type": "code",
      "source": [
        "#Find countries where internet users exceed 70% of the population\n",
        "\n",
        "cursor.execute(\"SELECT country,(internet_users*100/population) as percent from final_dataset WHERE percent>70\")\n",
        "print(cursor.fetchall())"
      ],
      "metadata": {
        "colab": {
          "base_uri": "https://localhost:8080/"
        },
        "id": "HZfyoDl2ViXs",
        "outputId": "80ac7b15-581c-4d25-86d7-1cba263bfc5a"
      },
      "execution_count": 74,
      "outputs": [
        {
          "output_type": "stream",
          "name": "stdout",
          "text": [
            "[('China', 86), ('Japan', 92), ('Spain', 88), ('South Africa', 80)]\n"
          ]
        }
      ]
    },
    {
      "cell_type": "code",
      "source": [
        "#What is the average GDP per capita for countries with internet penetration above 50%?\n",
        "\n",
        "cursor.execute(\"SELECT AVG(GDP/population) from final_dataset WHERE penetration_rate>50\")\n",
        "print(cursor.fetchone())"
      ],
      "metadata": {
        "colab": {
          "base_uri": "https://localhost:8080/"
        },
        "id": "j-77bmnPWLa_",
        "outputId": "c00c3b48-7c91-4b8a-aa85-4236066b8b19"
      },
      "execution_count": 77,
      "outputs": [
        {
          "output_type": "stream",
          "name": "stdout",
          "text": [
            "(8993.222222222223,)\n"
          ]
        }
      ]
    },
    {
      "cell_type": "code",
      "source": [
        "#How many countries have a literacy rate above 90%, and what is their average internet penetration?\n",
        "\n",
        "cursor.execute(\"SELECT COUNT(*),Avg(penetration_rate) FROM final_dataset WHERE literacy_rate>90 \")\n",
        "print(cursor.fetchall())"
      ],
      "metadata": {
        "colab": {
          "base_uri": "https://localhost:8080/"
        },
        "id": "iumTCZzQXIo-",
        "outputId": "7342cf60-8e27-442c-d717-83cf60c36638"
      },
      "execution_count": 79,
      "outputs": [
        {
          "output_type": "stream",
          "name": "stdout",
          "text": [
            "[(3, 66.53838337489236)]\n"
          ]
        }
      ]
    }
  ]
}