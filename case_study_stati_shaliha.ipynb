{
  "nbformat": 4,
  "nbformat_minor": 0,
  "metadata": {
    "colab": {
      "provenance": [],
      "authorship_tag": "ABX9TyMLZ2qaVHFqlgr7BaGgl7cV",
      "include_colab_link": true
    },
    "kernelspec": {
      "name": "python3",
      "display_name": "Python 3"
    },
    "language_info": {
      "name": "python"
    }
  },
  "cells": [
    {
      "cell_type": "markdown",
      "metadata": {
        "id": "view-in-github",
        "colab_type": "text"
      },
      "source": [
        "<a href=\"https://colab.research.google.com/github/shaliha223/DSA_class_activities/blob/main/case_study_stati_shaliha.ipynb\" target=\"_parent\"><img src=\"https://colab.research.google.com/assets/colab-badge.svg\" alt=\"Open In Colab\"/></a>"
      ]
    },
    {
      "cell_type": "markdown",
      "source": [
        "1. Dataset: Monthly temperatures in a city (in °C): 12, 15, 14, 16, 18, 20, 22, 19,\n",
        "17, 15, 13, 10 Questions:\n",
        "a) Calculate the mean temperature.\n",
        "b) Calculate the median temperature.\n",
        "c) Find the mode of the temperature data.\n",
        "d) Range and Variance"
      ],
      "metadata": {
        "id": "0Ul4cw3Ijca2"
      }
    },
    {
      "cell_type": "code",
      "execution_count": 1,
      "metadata": {
        "colab": {
          "base_uri": "https://localhost:8080/"
        },
        "id": "ILC5QxrYjZS5",
        "outputId": "e6a486e2-2d68-4bd2-a9e7-db8514ed3c0b"
      },
      "outputs": [
        {
          "output_type": "stream",
          "name": "stdout",
          "text": [
            "mean temperature: 15.916666666666666\n"
          ]
        }
      ],
      "source": [
        "Temperature = [12, 15, 14, 16, 18, 20, 22, 19, 17, 15, 13, 10]\n",
        "\n",
        "def mean(x):\n",
        "  m = 0\n",
        "\n",
        "  for i in x:\n",
        "    m+= i\n",
        "  mean = m / len(x)\n",
        "\n",
        "  return mean\n",
        "\n",
        "print(\"mean temperature:\",mean(Temperature))"
      ]
    },
    {
      "cell_type": "code",
      "source": [
        "def median(x):\n",
        "\n",
        "  x.sort()\n",
        "  l = len(x)\n",
        "\n",
        "  if l % 2 != 0:\n",
        "    mid = l // 2\n",
        "    median = x[mid]\n",
        "\n",
        "  else:\n",
        "    mid = l // 2\n",
        "    median = (x[mid - 1] + x[mid]) / 2\n",
        "\n",
        "  return median\n",
        "\n",
        "print(\"median of temperature:\",median(Temperature))"
      ],
      "metadata": {
        "colab": {
          "base_uri": "https://localhost:8080/"
        },
        "id": "x6mXdO_vlKSw",
        "outputId": "3495ca9f-a3bb-4676-9159-ff9f26edb4bd"
      },
      "execution_count": null,
      "outputs": [
        {
          "output_type": "stream",
          "name": "stdout",
          "text": [
            "median of temperature: 15.5\n"
          ]
        }
      ]
    },
    {
      "cell_type": "code",
      "source": [
        "def mode(x):\n",
        "\n",
        "  count={}\n",
        "\n",
        "  for i in x:\n",
        "    if i in count:\n",
        "      count[i]+=1\n",
        "\n",
        "    else:\n",
        "      count[i]=1\n",
        "\n",
        "\n",
        "  max_count=max(count.values())\n",
        "\n",
        "  if max_count == 1:\n",
        "    mode = None\n",
        "\n",
        "  else:\n",
        "    mode = []\n",
        "\n",
        "    for a, b in count.items():\n",
        "      if b == max_count:\n",
        "          mode.append(a)\n",
        "\n",
        "  return mode\n",
        "\n",
        "print(\"mode of the temperature:\", mode(Temperature))"
      ],
      "metadata": {
        "colab": {
          "base_uri": "https://localhost:8080/"
        },
        "id": "GOSFPvsZlz2h",
        "outputId": "1baec38e-40aa-4e34-89c5-4d27461380d4"
      },
      "execution_count": null,
      "outputs": [
        {
          "output_type": "stream",
          "name": "stdout",
          "text": [
            "mode of the temperature: [15]\n"
          ]
        }
      ]
    },
    {
      "cell_type": "code",
      "source": [
        "def range(x):\n",
        "\n",
        "  range = max(Temperature) - min(Temperature)\n",
        "\n",
        "  return range\n",
        "\n",
        "print(\"range of the temperature:\", range(Temperature))\n",
        "\n",
        "def variance(x):\n",
        "\n",
        "  m = 0\n",
        "  v=0\n",
        "\n",
        "  for i in x:\n",
        "    m+= i\n",
        "\n",
        "  mean = m / len(x)\n",
        "\n",
        "  for i in x:\n",
        "    v+=((i-mean)**2)\n",
        "  variance=v/len(x)\n",
        "\n",
        "  return variance\n",
        "\n",
        "print(\"variance of the temperature:\",variance(Temperature))"
      ],
      "metadata": {
        "colab": {
          "base_uri": "https://localhost:8080/"
        },
        "id": "XVSqsJ-pmIGC",
        "outputId": "d6e07b8c-2fde-41ce-a4e2-fae2cb7e9ba7"
      },
      "execution_count": 3,
      "outputs": [
        {
          "output_type": "stream",
          "name": "stdout",
          "text": [
            "range of the temperature: 12\n",
            "variance of the temperature: 11.076388888888888\n"
          ]
        }
      ]
    },
    {
      "cell_type": "code",
      "source": [
        "def standard_deviation(x):\n",
        "\n",
        "  s_d=variance(x)**(1/2)\n",
        "\n",
        "  return s_d"
      ],
      "metadata": {
        "id": "dgBRng6Zn6sm"
      },
      "execution_count": 4,
      "outputs": []
    },
    {
      "cell_type": "markdown",
      "source": [
        "2. Dataset: Heights of students (in cm): 150, 160, 165, 170, 155, 160, 162, 168\n",
        "Questions: a) Calculate the range of the heights.\n",
        "b) Calculate the variance of the heights.\n",
        "c) Standard Deviation"
      ],
      "metadata": {
        "id": "lGRBXfjBnDH9"
      }
    },
    {
      "cell_type": "code",
      "source": [
        "Height = [150, 160, 165, 170, 155, 160, 162, 168 ]\n",
        "\n",
        "print(\"range of the Heights:\",range(Height))\n",
        "print(\"variance of the heights:\",variance(Height))\n",
        "print(\"standard deviation :\",standard_deviation(Height))"
      ],
      "metadata": {
        "colab": {
          "base_uri": "https://localhost:8080/"
        },
        "id": "HixN-mAdnK3C",
        "outputId": "30096110-6fed-4284-8064-c926ecb84573"
      },
      "execution_count": null,
      "outputs": [
        {
          "output_type": "stream",
          "name": "stdout",
          "text": [
            "range of the Heights: 12\n",
            "variance of the heights: 38.1875\n",
            "standard deviation : 6.179603547154137\n"
          ]
        }
      ]
    },
    {
      "cell_type": "markdown",
      "source": [
        "3. Dataset: Weekly expenses (in $): 200, 250, 300, 220, 270, 290, 310\n",
        "Questions: a) Calculate the standard deviation of the weekly expenses.\n"
      ],
      "metadata": {
        "id": "_U68-tZHoP1p"
      }
    },
    {
      "cell_type": "code",
      "source": [
        "we=[ 200, 250, 300, 220, 270, 290, 310]\n",
        "\n",
        "print(\"standard deviation of the weekly expenses:\",standard_deviation(we))"
      ],
      "metadata": {
        "colab": {
          "base_uri": "https://localhost:8080/"
        },
        "id": "KdCtgbjOobym",
        "outputId": "af3f6a9c-e4f4-4157-fa76-908e394d76a4"
      },
      "execution_count": null,
      "outputs": [
        {
          "output_type": "stream",
          "name": "stdout",
          "text": [
            "standard deviation of the weekly expenses: 38.438925848782034\n"
          ]
        }
      ]
    },
    {
      "cell_type": "markdown",
      "source": [
        "4. Dataset: Advertising Spending (in $1000s): 10, 20, 15, 25, 30; Sales (in\n",
        "$1000s): 100, 150, 120, 180, 200\n",
        "Questions: a) Calculate the covariance between advertising spending and sales.\n",
        "b) Correlation"
      ],
      "metadata": {
        "id": "5ip2fNAdo1pJ"
      }
    },
    {
      "cell_type": "code",
      "source": [
        "def pearson_coefficient(x, y):\n",
        "\n",
        "  cov=0\n",
        "\n",
        "  for a, b in enumerate(x):\n",
        "\n",
        "    for c, d in enumerate(y):\n",
        "\n",
        "      if a == c:\n",
        "\n",
        "        cov+= (b - mean(x))*(d - mean(y))\n",
        "\n",
        "  covariance = cov / len(x)\n",
        "  p_c_c = covariance /(standard_deviation(x)*standard_deviation(y))\n",
        "\n",
        "  return covariance, p_c_c\n"
      ],
      "metadata": {
        "id": "GIUTUXlao8cS"
      },
      "execution_count": 9,
      "outputs": []
    },
    {
      "cell_type": "code",
      "source": [
        "AS = [10,20,15,25,30]\n",
        "S = [100, 150, 120, 180, 200]\n",
        "\n",
        "print(\"covariance between advertising and sales:\",pearson_coefficient(AS,S)[0])\n",
        "print(\"correlation:\",pearson_coefficient(AS,S)[1])"
      ],
      "metadata": {
        "colab": {
          "base_uri": "https://localhost:8080/"
        },
        "id": "Cc6lpHsEpUSk",
        "outputId": "8e8c7c5a-b69c-4285-952f-a99fdf58a52d"
      },
      "execution_count": null,
      "outputs": [
        {
          "output_type": "stream",
          "name": "stdout",
          "text": [
            "covariance between advertising and sales: 260.0\n",
            "correlation: 0.9970544855015816\n"
          ]
        }
      ]
    },
    {
      "cell_type": "markdown",
      "source": [
        "5. Dataset: Study Hours: 2, 4, 6, 8, 10; Exam Scores: 55, 60, 65, 70, 75\n",
        "Questions: a) Calculate the correlation coefficient between study hours and exam\n",
        "scores.\n",
        "b) Interpret the result.\n",
        "c) Quartiles and IQR"
      ],
      "metadata": {
        "id": "Z6GbZeytqTRm"
      }
    },
    {
      "cell_type": "code",
      "source": [
        "SH = [2, 4, 6, 8, 10]\n",
        "S = [55, 60, 65, 70, 75 ]\n",
        "\n",
        "print(\"correlation coeffcient:\",pearson_coefficient(SH,S)[1])"
      ],
      "metadata": {
        "colab": {
          "base_uri": "https://localhost:8080/"
        },
        "id": "3hsA5jwdqopi",
        "outputId": "95e1d5d3-e5ec-4953-8c58-51bc61e95551"
      },
      "execution_count": 10,
      "outputs": [
        {
          "output_type": "stream",
          "name": "stdout",
          "text": [
            "correlation coeffcient: 0.9999999999999998\n"
          ]
        }
      ]
    },
    {
      "cell_type": "markdown",
      "source": [
        "the correlatioon coefficient between study hour and score are 0.9999 it is  very close to 1 so the correlation is highly positively correlated"
      ],
      "metadata": {
        "id": "enWzJQqrsHeO"
      }
    },
    {
      "cell_type": "code",
      "source": [
        "import statistics as stats\n",
        "\n",
        "\n",
        "q1_sh = stats.quantiles(SH, n=4)[0]\n",
        "q2_sh = stats.median(SH)\n",
        "q3_sh = stats.quantiles(SH, n=4)[2]\n",
        "IQR_sh = q3_sh - q1_sh\n",
        "print(\"Quartiles and IQR of study hours: Q1:\", q1_sh, \"Q2:\", q2_sh, \"Q3:\", q3_sh,\"IQR:\",IQR_sh)\n",
        "\n",
        "q1_s = stats.quantiles(S, n=4)[0]\n",
        "q2_s = stats.median(S)\n",
        "q3_s = stats.quantiles(S, n=4)[2]\n",
        "IQR_s = q3_s - q1_s\n",
        "print(\"Quartiles and IQR of scores: Q1:\", q1_s, \"Q2:\", q2_s, \"Q3:\", q3_s,\"IQR:\",IQR_s)"
      ],
      "metadata": {
        "colab": {
          "base_uri": "https://localhost:8080/"
        },
        "id": "CQkW3CiAsjsx",
        "outputId": "59049249-1bdb-4132-f783-c28aee13a4f1"
      },
      "execution_count": 11,
      "outputs": [
        {
          "output_type": "stream",
          "name": "stdout",
          "text": [
            "Quartiles and IQR of study hours: Q1: 3.0 Q2: 6 Q3: 9.0 IQR: 6.0\n",
            "Quartiles and IQR of scores: Q1: 57.5 Q2: 65 Q3: 72.5 IQR: 15.0\n"
          ]
        }
      ]
    },
    {
      "cell_type": "markdown",
      "source": [
        "6. Dataset: Monthly savings (in $): 200, 300, 400, 500, 600, 700, 800, 900, 1000,\n",
        "1100 Questions: a) Calculate the first quartile (Q1) and third quartile (Q3).\n",
        "b) Calculate the interquartile range (IQR).\n",
        "c) Detecting Outliers\n"
      ],
      "metadata": {
        "id": "hLVMcZbpx0RY"
      }
    },
    {
      "cell_type": "code",
      "source": [
        "ms = [200, 300, 400, 500, 600, 700, 800, 900, 1000, 1100]\n",
        "\n",
        "q1 = stats.quantiles(ms, n=4)[0]\n",
        "q3 = stats.quantiles(ms, n=4)[2]\n",
        "\n",
        "print(\"First quartile (Q1) and third quartile (Q3)\",q1 ,\"and\",q3)"
      ],
      "metadata": {
        "colab": {
          "base_uri": "https://localhost:8080/"
        },
        "id": "ldwaSwbzx6fa",
        "outputId": "df211704-8b28-4a7f-d5ff-1d22deec03a6"
      },
      "execution_count": 12,
      "outputs": [
        {
          "output_type": "stream",
          "name": "stdout",
          "text": [
            "First quartile (Q1) and third quartile (Q3) 375.0 and 925.0\n"
          ]
        }
      ]
    },
    {
      "cell_type": "code",
      "source": [
        "def outliers(x):\n",
        "\n",
        "  outliers=[]\n",
        "\n",
        "  x.sort()\n",
        "  l = len(x)\n",
        "  Q1 = x[int(l*0.25) - 1]\n",
        "  Q3 = x[int(l*0.75)-1]\n",
        "  IQR = Q3 -Q1\n",
        "  lower_limit = Q1 - IQR*1.5\n",
        "  upper_limit = Q3 + 1.5*IQR\n",
        "\n",
        "  for i in x:\n",
        "\n",
        "    if i >upper_limit or i < lower_limit:\n",
        "       outliers.append(i)\n",
        "\n",
        "  return outliers\n"
      ],
      "metadata": {
        "id": "fnIy1Bc1zC7S"
      },
      "execution_count": null,
      "outputs": []
    },
    {
      "cell_type": "code",
      "source": [
        "IQR = q3 -q1\n",
        "print(\"IQR:\",IQR)"
      ],
      "metadata": {
        "colab": {
          "base_uri": "https://localhost:8080/"
        },
        "id": "9t3hmdPEzbd8",
        "outputId": "f6c191fd-2204-4cf6-ce5f-79249c1c2b32"
      },
      "execution_count": null,
      "outputs": [
        {
          "output_type": "stream",
          "name": "stdout",
          "text": [
            "IQR: 550.0\n"
          ]
        }
      ]
    },
    {
      "cell_type": "code",
      "source": [
        "outliers(ms)"
      ],
      "metadata": {
        "colab": {
          "base_uri": "https://localhost:8080/"
        },
        "id": "Ekc9pjFvzONu",
        "outputId": "702cb832-f7d1-4705-f983-092a1e224d8b"
      },
      "execution_count": null,
      "outputs": [
        {
          "output_type": "execute_result",
          "data": {
            "text/plain": [
              "[]"
            ]
          },
          "metadata": {},
          "execution_count": 32
        }
      ]
    },
    {
      "cell_type": "markdown",
      "source": [
        "7. Dataset: Ages of employees: 22, 25, 28, 30, 35, 40, 45, 50, 55, 100\n",
        "Questions: a) Identify any outliers using the IQR method.\n"
      ],
      "metadata": {
        "id": "osWI3t-Hzlfq"
      }
    },
    {
      "cell_type": "code",
      "source": [
        "Age = [22, 25, 28, 30, 35, 40, 45, 50, 55, 100 ]\n",
        "\n",
        "outliers(Age)"
      ],
      "metadata": {
        "colab": {
          "base_uri": "https://localhost:8080/"
        },
        "id": "3ZHDpLuYzsaT",
        "outputId": "c7a1b867-fd62-444f-a8e0-e800459f759f"
      },
      "execution_count": null,
      "outputs": [
        {
          "output_type": "execute_result",
          "data": {
            "text/plain": [
              "[100]"
            ]
          },
          "metadata": {},
          "execution_count": 35
        }
      ]
    },
    {
      "cell_type": "markdown",
      "source": [
        "10. Dataset: Annual salaries of employees (in $1000s): 40, 42, 45, 47, 50, 52, 55,\n",
        "57, 60, 62 Questions: a) Calculate the z-scores for each salary.\n",
        "b) Interpret the z-scores.\n",
        "c) Normal Distribution"
      ],
      "metadata": {
        "id": "swwzGmSfHJyR"
      }
    },
    {
      "cell_type": "code",
      "source": [
        "def z_score(x):\n",
        "\n",
        "  z=[]\n",
        "  m=0\n",
        "  v=0\n",
        "\n",
        "  for i in x:\n",
        "    m+= i\n",
        "  mean = m / len(x)\n",
        "\n",
        "  for i in x:\n",
        "    v+=((i-mean)**2)\n",
        "\n",
        "  variance=v/len(x)\n",
        "  s_d=variance**(1/2)\n",
        "\n",
        "\n",
        "  for i in x:\n",
        "    Z = (i-mean) / s_d\n",
        "    z.append(Z)\n",
        "\n",
        "  return z\n"
      ],
      "metadata": {
        "id": "rX34ppLjHKWv"
      },
      "execution_count": null,
      "outputs": []
    },
    {
      "cell_type": "code",
      "source": [
        "l = [40, 42, 45, 47, 50, 52, 55, 57, 60, 62]"
      ],
      "metadata": {
        "id": "xrenz1vfGDIT"
      },
      "execution_count": 13,
      "outputs": []
    },
    {
      "cell_type": "code",
      "source": [
        "mean(l)"
      ],
      "metadata": {
        "colab": {
          "base_uri": "https://localhost:8080/"
        },
        "id": "W2YifVAOGXjX",
        "outputId": "40c84b7d-b1c4-4bb6-a814-91dcc4ad7b91"
      },
      "execution_count": 14,
      "outputs": [
        {
          "output_type": "execute_result",
          "data": {
            "text/plain": [
              "51.0"
            ]
          },
          "metadata": {},
          "execution_count": 14
        }
      ]
    },
    {
      "cell_type": "code",
      "source": [
        "standard_deviation(l)"
      ],
      "metadata": {
        "colab": {
          "base_uri": "https://localhost:8080/"
        },
        "id": "s6XXaQcnGZ2D",
        "outputId": "92043942-6c8f-4d1f-bae1-f70d123db7a1"
      },
      "execution_count": 15,
      "outputs": [
        {
          "output_type": "execute_result",
          "data": {
            "text/plain": [
              "7.14142842854285"
            ]
          },
          "metadata": {},
          "execution_count": 15
        }
      ]
    },
    {
      "cell_type": "code",
      "source": [
        "z_score(l)"
      ],
      "metadata": {
        "colab": {
          "base_uri": "https://localhost:8080/"
        },
        "id": "VVThUVW4HPty",
        "outputId": "43d997b6-41dd-4e78-8e94-3571838fa794"
      },
      "execution_count": null,
      "outputs": [
        {
          "output_type": "execute_result",
          "data": {
            "text/plain": [
              "[-1.5403080924308108,\n",
              " -1.2602520756252087,\n",
              " -0.8401680504168059,\n",
              " -0.5601120336112039,\n",
              " -0.14002800840280097,\n",
              " 0.14002800840280097,\n",
              " 0.5601120336112039,\n",
              " 0.8401680504168059,\n",
              " 1.2602520756252087,\n",
              " 1.5403080924308108]"
            ]
          },
          "metadata": {},
          "execution_count": 37
        }
      ]
    },
    {
      "cell_type": "markdown",
      "source": [
        "\n",
        "\n",
        "*   A negative z-score means the salary is below the mean.here 40k has z = -1.54, meaning it is 1.54 standard deviations below average.\n",
        "*   A positive z-score means the salary is above the mean.Here 62k has z = 1.54, meaning it is 1.54 standard deviations above average.\n",
        "*  Salaries close to 51k have z-scores near 0 (e.g., 50k = -0.14, 52k = 0.14)."
      ],
      "metadata": {
        "id": "twG-sHAdEDXQ"
      }
    },
    {
      "cell_type": "markdown",
      "source": [
        "The distribution of the given salary data is approximately normal because, the data is symmetrically spread around the mean salary of 51 ($1000s),the z-scores range between -1.54 and +1.54.In a normal distribution, about 95% of data lies within ±2σ and 99.7% within ±3σ. Here, all values fall inside this range, so there are no extreme outliers.so the shape of the distribution is bell-like"
      ],
      "metadata": {
        "id": "MBdPYCUdGqbk"
      }
    },
    {
      "cell_type": "markdown",
      "source": [
        "8. Dataset: Observed frequencies of customer preferences for three products:\n",
        "Product A: 50, 55, 60\n",
        "Product B: 30, 25, 35\n",
        "Product C: 20, 20, 25\n",
        "a)  Perform a chi-square test to determine if there is a significant\n",
        "difference in customer preferences among the three products.  \n",
        "b)   Hypothesis Testing\n",
        "\n",
        "\n"
      ],
      "metadata": {
        "id": "8Gw2yItX0LGs"
      }
    },
    {
      "cell_type": "code",
      "source": [
        "l=[[50, 55, 60],\n",
        "   [30, 25, 35],\n",
        "   [20, 20, 25]]\n",
        "a=0\n",
        "c=0\n",
        "row_sum=[]\n",
        "for i in l:\n",
        "  for j in i:\n",
        "    c=c+j\n",
        "print(c)\n",
        "for i in l:\n",
        "  for j in i:\n",
        "    a=a+j\n",
        "  row_sum.append(a)\n",
        "  a=0\n",
        "print(row_sum)\n",
        "s=0\n",
        "col_sums=[]\n",
        "for col in range(len(l[0])):   # loop over columns\n",
        "    s = 0\n",
        "    for row in range(len(l)):  # loop over rows\n",
        "        s= s + l[row][col]\n",
        "    col_sums.append(s)\n",
        "\n",
        "print(\"Column sums:\", col_sums)\n",
        "p=[]\n",
        "for i in row_sum:\n",
        "  E=[]\n",
        "  for j in col_sums:\n",
        "    e=i*j/c\n",
        "    E.append(e)\n",
        "  p.append(E)\n",
        "print(p)\n",
        "g=0\n",
        "for i in range (len(l)):\n",
        "  for j in range (len(p)):\n",
        "    o=l[i][j]\n",
        "    e=p[i][j]\n",
        "    chi=(o-e)**2/e\n",
        "    chi_sq=g+chi\n",
        "print(\"Chi square:\",chi_sq)\n",
        "print(\"Degree of freedom\",(len(row_sum)-1)*(len(col_sums)-1))\n",
        "critical_value=9.488 #from chi-square table df=4 and alpha=0.05\n",
        "if chi_sq>critical_value:\n",
        "  print(\"Reject H0 (No difference)\")\n",
        "else:\n",
        "  print(\"Accept H0: there is no difference\")"
      ],
      "metadata": {
        "colab": {
          "base_uri": "https://localhost:8080/"
        },
        "id": "pfSr96B10qrn",
        "outputId": "5cbbf74f-d17c-4fd4-c9c8-0c52458cd8e4"
      },
      "execution_count": 2,
      "outputs": [
        {
          "output_type": "stream",
          "name": "stdout",
          "text": [
            "320\n",
            "[165, 90, 65]\n",
            "Column sums: [100, 100, 120]\n",
            "[[51.5625, 51.5625, 61.875], [28.125, 28.125, 33.75], [20.3125, 20.3125, 24.375]]\n",
            "Chi square: 0.016025641025641024\n",
            "Degree of freedom 4\n",
            "Accept H0: there is no difference\n"
          ]
        }
      ]
    },
    {
      "cell_type": "markdown",
      "source": [
        "9. Dataset: Sample weights (in kg) of a new diet program: 70, 68, 72, 71, 69, 73,\n",
        "72, 74, 70, 71 Questions: a) Test the hypothesis that the mean weight after the\n",
        "diet program is equal to 70 kg at a 5% significance level. b) Z-Scores"
      ],
      "metadata": {
        "id": "GGpsAQXWK-ga"
      }
    },
    {
      "cell_type": "code",
      "source": [
        "A = [70, 68, 72, 71, 69, 73, 72, 74, 70, 71]\n",
        "Z = z_score(A)\n",
        "print(Z)"
      ],
      "metadata": {
        "colab": {
          "base_uri": "https://localhost:8080/"
        },
        "id": "ZRqJevRNLEB7",
        "outputId": "89075817-6cd6-4047-fea7-18cbb1d5f1cb"
      },
      "execution_count": null,
      "outputs": [
        {
          "output_type": "stream",
          "name": "stdout",
          "text": [
            "[-0.5773502691896258, -1.7320508075688774, 0.5773502691896258, 0.0, -1.1547005383792517, 1.1547005383792517, 0.5773502691896258, 1.7320508075688774, -0.5773502691896258, 0.0]\n"
          ]
        }
      ]
    },
    {
      "cell_type": "code",
      "source": [
        "m = mean(A)\n",
        "sd = standard_deviation(A)\n",
        "n = len(A)\n",
        "mu0 = 70\n",
        "z = (m - mu0) / (sd / (n**0.5))\n",
        "\n",
        "print(\"Sample mean:\", m)\n",
        "print(\"Sample std dev:\", sd)\n",
        "print(\"Z statistic:\", z)\n",
        "\n",
        "# Decision\n",
        "if abs(z) > 1.96:  # critical value at 5% two-tailed\n",
        "    print(\"Reject H0: significant difference\")\n",
        "else:\n",
        "    print(\"Fail to reject H0: no significant difference\")"
      ],
      "metadata": {
        "colab": {
          "base_uri": "https://localhost:8080/"
        },
        "id": "-RzzmxXjOQfW",
        "outputId": "c945a99c-6f67-48f9-cdf1-51c28bc2a5c9"
      },
      "execution_count": null,
      "outputs": [
        {
          "output_type": "stream",
          "name": "stdout",
          "text": [
            "Sample mean: 71.0\n",
            "Sample std dev: 1.7320508075688772\n",
            "Z statistic: 1.8257418583505538\n",
            "Fail to reject H0: no significant difference\n"
          ]
        }
      ]
    },
    {
      "cell_type": "markdown",
      "source": [
        "13. Dataset: Monthly income of individuals (in $1000s): 3.5, 4.0, 4.2, 4.5, 4.7, 5.0,5.3, 5.5, 5.7, 6.0\n",
        "Questions: a) Calculate the 95% confidence interval for the mean monthly\n",
        "income"
      ],
      "metadata": {
        "id": "9o3wZJ40R32s"
      }
    },
    {
      "cell_type": "code",
      "source": [
        "import scipy.stats as stats\n",
        "\n",
        "B = [3.5, 4.0, 4.2, 4.5, 4.7, 5.0,5.3, 5.5, 5.7, 6.0 ]\n",
        "m = mean(B)\n",
        "sd = standard_deviation(B)\n",
        "n = len(B)\n",
        "alpha = 0.05\n",
        "t_critical = stats.t.ppf(1 - alpha/2, df=n-1)\n",
        "margin_of_error = t_critical * (sd/ (n**0.5))\n",
        "lower_bound = m - margin_of_error\n",
        "upper_bound = m + margin_of_error\n",
        "\n",
        "print(f\"Sample Mean = {m:.2f}\")\n",
        "print(f\"95% Confidence Interval = ({lower_bound:.2f}, {upper_bound:.2f})\")"
      ],
      "metadata": {
        "colab": {
          "base_uri": "https://localhost:8080/"
        },
        "id": "h1ijYZAkR4jP",
        "outputId": "4738822e-748f-4636-880c-188443868539"
      },
      "execution_count": null,
      "outputs": [
        {
          "output_type": "stream",
          "name": "stdout",
          "text": [
            "Sample Mean = 4.84\n",
            "95% Confidence Interval = (4.30, 5.38)\n"
          ]
        }
      ]
    },
    {
      "cell_type": "markdown",
      "source": [
        "12. Dataset: Sample data of a new drug's effect on blood pressure reduction (in\n",
        "mmHg): 10, 12, 14, 15, 13, 16, 18, 17, 19, 20\n",
        "Questions: a) Perform a t-test to determine if the new drug has a significant effect\n",
        "on blood pressure reduction. b) Report the p-value and interpret the results. c)\n",
        "Confidence Intervals"
      ],
      "metadata": {
        "id": "Ht28BgK4I8Np"
      }
    },
    {
      "cell_type": "code",
      "source": [
        "\n",
        "from scipy import stats\n",
        "import numpy as np\n",
        "\n",
        "# Data (blood pressure reduction in mmHg)\n",
        "data = [10, 12, 14, 15, 13, 16, 18, 17, 19, 20]\n",
        "\n",
        "# Hypothesized population mean (H0: mean = 0, no reduction)\n",
        "# Since we are checking if drug has an effect, we compare against 0\n",
        "t_stat, p_value = stats.ttest_1samp(data, popmean=0)\n",
        "\n",
        "# Calculate 95% Confidence Interval for the mean\n",
        "n = len(data)\n",
        "m = mean(data)\n",
        "sd = standard_deviation(data)\n",
        "se = sd / (n**0.5) # Standard error of mean\n",
        "ci = stats.t.interval(0.95, df=n-1, loc=m, scale=se)\n",
        "\n",
        "print(\"Sample Mean:\", m)\n",
        "print(\"t-statistic:\", t_stat)\n",
        "print(\"p-value:\", p_value)\n",
        "print(f\"95% Confidence Interval: ({ci[0]:.2f}, {ci[1]:.2f})\")\n",
        "\n"
      ],
      "metadata": {
        "colab": {
          "base_uri": "https://localhost:8080/"
        },
        "id": "np5gnT3JJN4M",
        "outputId": "dfd3dbc0-7500-4f8a-c8b9-d589c62fc97b"
      },
      "execution_count": 7,
      "outputs": [
        {
          "output_type": "stream",
          "name": "stdout",
          "text": [
            "Sample Mean: 15.4\n",
            "t-statistic: 15.198684153570664\n",
            "p-value: 1.0062192292419559e-07\n",
            "95% Confidence Interval: (13.23, 17.57)\n"
          ]
        }
      ]
    },
    {
      "cell_type": "markdown",
      "source": [
        "The p value is very close to 0 (because p value is 1.006*10^-7)This value is much smaller than significance level 0.05.so reject reject the null hypothesis\n",
        "𝐻0:𝜇=0.It means the drug has a highly significant effect on reducing blood pressure."
      ],
      "metadata": {
        "id": "VKzUN33QLqOm"
      }
    }
  ]
}