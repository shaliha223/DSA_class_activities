{
  "nbformat": 4,
  "nbformat_minor": 0,
  "metadata": {
    "colab": {
      "provenance": [],
      "authorship_tag": "ABX9TyMDu5s81KInIx+lZ4xr8/Q9",
      "include_colab_link": true
    },
    "kernelspec": {
      "name": "python3",
      "display_name": "Python 3"
    },
    "language_info": {
      "name": "python"
    }
  },
  "cells": [
    {
      "cell_type": "markdown",
      "metadata": {
        "id": "view-in-github",
        "colab_type": "text"
      },
      "source": [
        "<a href=\"https://colab.research.google.com/github/shaliha223/python_activities/blob/main/Untitled20.ipynb\" target=\"_parent\"><img src=\"https://colab.research.google.com/assets/colab-badge.svg\" alt=\"Open In Colab\"/></a>"
      ]
    },
    {
      "cell_type": "markdown",
      "source": [
        "Create a program that greets a user by name. Ask for the user's name and print\n",
        "a personalized message, such as \"Welcome to Data Analytics, [Name]!\"\n"
      ],
      "metadata": {
        "id": "m7s939HMGVWj"
      }
    },
    {
      "cell_type": "code",
      "execution_count": null,
      "metadata": {
        "colab": {
          "base_uri": "https://localhost:8080/"
        },
        "id": "5q2lTBocGUXR",
        "outputId": "d9a9509b-dd83-4b8a-d9fd-ba049faf4b16"
      },
      "outputs": [
        {
          "output_type": "stream",
          "name": "stdout",
          "text": [
            "Enter you nameShaliha\n",
            "Welcome to Data Analytics, Shaliha!\n"
          ]
        }
      ],
      "source": [
        "name=input(\"Enter you name\")\n",
        "print(f\"Welcome to Data Analytics, {name}!\")"
      ]
    },
    {
      "cell_type": "markdown",
      "source": [
        "Define a variable for your favorite snack. Print a fun sentence that includes this\n",
        "variable, like \"I love munching on [Snack] during meetings!\""
      ],
      "metadata": {
        "id": "cMdodyzcG-hf"
      }
    },
    {
      "cell_type": "code",
      "source": [
        "s=\"samosas\"\n",
        "print(s,\" are the snack that can steal your heart\")\n"
      ],
      "metadata": {
        "colab": {
          "base_uri": "https://localhost:8080/"
        },
        "id": "yvF4r7srHHAD",
        "outputId": "cf501af3-5caa-4ede-a5f4-1de38b30c87e"
      },
      "execution_count": null,
      "outputs": [
        {
          "output_type": "stream",
          "name": "stdout",
          "text": [
            "samosas  are the snack that can steal your heart\n"
          ]
        }
      ]
    },
    {
      "cell_type": "markdown",
      "source": [
        "If your team completed 15 tasks in a week and plans to double that next week,\n",
        "calculate and print how many tasks you expect to complete next week.\n"
      ],
      "metadata": {
        "id": "HCHRgcC0IEpg"
      }
    },
    {
      "cell_type": "code",
      "source": [
        "tasks=15\n",
        "print(f\"{2*tasks} tasks are expected to be completed next week\")"
      ],
      "metadata": {
        "colab": {
          "base_uri": "https://localhost:8080/"
        },
        "id": "ZdZvXHMwIB4w",
        "outputId": "29b7f013-4779-4c70-dc3f-1192fc572500"
      },
      "execution_count": null,
      "outputs": [
        {
          "output_type": "stream",
          "name": "stdout",
          "text": [
            "30 tasks are expected to be completed next week\n"
          ]
        }
      ]
    },
    {
      "cell_type": "markdown",
      "source": [
        "Create two variables for income and expenses. Calculate and print your savings\n",
        "for the month using the formula: Savings = Income - Expenses. Use realistic\n",
        "numbers.\n"
      ],
      "metadata": {
        "id": "xN-E0FUdJE0b"
      }
    },
    {
      "cell_type": "code",
      "source": [
        "a=int(input(\"Enter your income\"))\n",
        "b=int(input(\"Enter your expenses\"))\n",
        "s=a-b\n",
        "print(\"your savings for this month is\",s)"
      ],
      "metadata": {
        "colab": {
          "base_uri": "https://localhost:8080/"
        },
        "id": "1RR2dm2LJNE4",
        "outputId": "49d077d6-020c-4e22-8b9e-2966d8005a9c"
      },
      "execution_count": null,
      "outputs": [
        {
          "output_type": "stream",
          "name": "stdout",
          "text": [
            "Enter your income12345\n",
            "Enter your expenses9876\n",
            "your savings for this month is 2469\n"
          ]
        }
      ]
    },
    {
      "cell_type": "markdown",
      "source": [
        "Imagine you're organizing a movie night. Create variables for the number of\n",
        "friends invited and the number of popcorn bags you need per friend. Calculate\n",
        "the total number of popcorn bags needed.\n"
      ],
      "metadata": {
        "id": "-73b8ilhKSB0"
      }
    },
    {
      "cell_type": "code",
      "source": [
        "i=int(input(\"Enter the number of invited friends\"))\n",
        "p=int(input(\"Enter the number of popcorn bags you need per friend\"))\n",
        "print(\"total popcorn bags=\",i*p)"
      ],
      "metadata": {
        "colab": {
          "base_uri": "https://localhost:8080/"
        },
        "id": "ARrZwJCrKRM8",
        "outputId": "45262150-51f5-4d18-9c12-37de2126e8b2"
      },
      "execution_count": null,
      "outputs": [
        {
          "output_type": "stream",
          "name": "stdout",
          "text": [
            "Enter the number of invited friends8\n",
            "Enter the number of popcorn bags you need per friend2\n",
            "total popcorn bags= 16\n"
          ]
        }
      ]
    },
    {
      "cell_type": "markdown",
      "source": [
        "Write a program that asks for a product rating (1-5) and checks if the rating is\n",
        "above average (greater than 3). Print a message based on the rating"
      ],
      "metadata": {
        "id": "vg8sqx4vLInE"
      }
    },
    {
      "cell_type": "code",
      "source": [
        "r=float(input(\"Enter your rating of product 1-5\"))\n",
        "if r>3:\n",
        "  print(\"the product is good\")\n",
        "else:\n",
        "  print(\"the product is not good\")"
      ],
      "metadata": {
        "colab": {
          "base_uri": "https://localhost:8080/"
        },
        "id": "BkaDqwyKLTHw",
        "outputId": "2dbf82d0-1c71-4fbf-b5f2-011de140edca"
      },
      "execution_count": null,
      "outputs": [
        {
          "output_type": "stream",
          "name": "stdout",
          "text": [
            "Enter your rating of product 1-53.6\n",
            "the product is good\n"
          ]
        }
      ]
    },
    {
      "cell_type": "markdown",
      "source": [
        "You sold 50 items last month, 75 items this month, and 100 items next month.\n",
        "Write a program to calculate the average number of items sold over these three\n",
        "months.\n"
      ],
      "metadata": {
        "id": "yw02WgVbL9Jc"
      }
    },
    {
      "cell_type": "code",
      "source": [
        "a,b,c=50,75,100\n",
        "avg=(a+b+c)/3\n",
        "print(\"average number of items sold over these three years=\",avg)"
      ],
      "metadata": {
        "colab": {
          "base_uri": "https://localhost:8080/"
        },
        "id": "pW6736T2MVvA",
        "outputId": "5342e4b7-892f-4b08-dacb-0847a50a4875"
      },
      "execution_count": null,
      "outputs": [
        {
          "output_type": "stream",
          "name": "stdout",
          "text": [
            "average number of items sold over these three years= 75.0\n"
          ]
        }
      ]
    },
    {
      "cell_type": "markdown",
      "source": [
        "If you invest $500 with a return rate of 4% per year for 3 years, calculate and\n",
        "print the total amount you will have using simple interest."
      ],
      "metadata": {
        "id": "NR7T5SRRM4Sj"
      }
    },
    {
      "cell_type": "code",
      "source": [
        "p,i,t=500,4,3\n",
        "amount=p+p*i*t/100\n",
        "print(\"the total amount will have=\",amount)"
      ],
      "metadata": {
        "colab": {
          "base_uri": "https://localhost:8080/"
        },
        "id": "dXwnbyrMMHCb",
        "outputId": "961d67ba-77c9-44e9-db21-72d6755c6431"
      },
      "execution_count": null,
      "outputs": [
        {
          "output_type": "stream",
          "name": "stdout",
          "text": [
            "the total amount will have= 560.0\n"
          ]
        }
      ]
    },
    {
      "cell_type": "markdown",
      "source": [
        "For a party, calculate how much cake you need if each guest (you have 10) eats\n",
        "1 slice and each cake has 8 slices. Print how many cakes you need."
      ],
      "metadata": {
        "id": "3fUwJtJqNkRk"
      }
    },
    {
      "cell_type": "code",
      "source": [
        "guest,cake=10,8\n",
        "a=guest//cake\n",
        "if guest%cake>0:\n",
        "  print(\"number of cakes need=\",a+1)\n",
        "else:\n",
        "  print(\"number of cakes need=\",a)"
      ],
      "metadata": {
        "colab": {
          "base_uri": "https://localhost:8080/"
        },
        "id": "5msvATTNNs04",
        "outputId": "63c803e1-559e-4258-b9b1-a6fa58787bad"
      },
      "execution_count": null,
      "outputs": [
        {
          "output_type": "stream",
          "name": "stdout",
          "text": [
            "number of cakes need= 2\n"
          ]
        }
      ]
    },
    {
      "cell_type": "markdown",
      "source": [
        "Write a program that analyzes a short text of your choice (like a company slogan)\n",
        "and checks if it has more than 10 characters. Print a fun message based on this\n",
        "check.\n"
      ],
      "metadata": {
        "id": "3wEMeRbBPvCs"
      }
    },
    {
      "cell_type": "code",
      "source": [
        "t=input(\"Write a slogon \")\n",
        "if len(t)>10:\n",
        "  print(\"Wow, that's a long slogan! \")\n",
        "else:\n",
        "  print(\"Short and sweet!\")"
      ],
      "metadata": {
        "colab": {
          "base_uri": "https://localhost:8080/"
        },
        "id": "SVG8NPDEP05U",
        "outputId": "8ce3bc92-82c0-423c-be47-635df7dfe79b"
      },
      "execution_count": null,
      "outputs": [
        {
          "output_type": "stream",
          "name": "stdout",
          "text": [
            "Write a slogon Innovate for a Better Tomorrow\n",
            "Wow, that's a long slogan! \n"
          ]
        }
      ]
    },
    {
      "cell_type": "markdown",
      "source": [
        "Imagine you have two products with sales figures: product_A_sales = 250\n",
        "and product_B_sales = 300. Write a program to determine which product\n",
        "sold more.\n"
      ],
      "metadata": {
        "id": "m2bHa3EIRKtK"
      }
    },
    {
      "cell_type": "code",
      "source": [
        "product_A,product_B=250,300\n",
        "if product_A>product_B:\n",
        "  print(product_A,\" sales more\")\n",
        "else:\n",
        "  print(product_B,\" sales more\")"
      ],
      "metadata": {
        "colab": {
          "base_uri": "https://localhost:8080/"
        },
        "id": "_duwqk1lRls2",
        "outputId": "5a8633ee-a5cf-41b4-9c7d-93a7abed66c4"
      },
      "execution_count": null,
      "outputs": [
        {
          "output_type": "stream",
          "name": "stdout",
          "text": [
            "300  sales more\n"
          ]
        }
      ]
    },
    {
      "cell_type": "markdown",
      "source": [
        "If a student received $750 out of a total of $1000 as a scholarship, calculate the\n",
        "percentage of the scholarship and print a congratulatory message.\n"
      ],
      "metadata": {
        "id": "z8zDIf5nRReD"
      }
    },
    {
      "cell_type": "code",
      "source": [
        "s_amount=750\n",
        "st_amount=1000\n",
        "s_percentage=750*100/1000\n",
        "print(f\" congratulations, you got {s_percentage}% scholarship\")"
      ],
      "metadata": {
        "colab": {
          "base_uri": "https://localhost:8080/"
        },
        "id": "xNTt9EdVSYKm",
        "outputId": "e7ef1f89-68e9-441c-b118-e4ad890fbcc1"
      },
      "execution_count": null,
      "outputs": [
        {
          "output_type": "stream",
          "name": "stdout",
          "text": [
            " congratulations, you got 75.0% scholarship\n"
          ]
        }
      ]
    },
    {
      "cell_type": "markdown",
      "source": [
        "Create a variable named favorite_color and assign it your favorite color.\n",
        "Print the variable"
      ],
      "metadata": {
        "id": "hHafo-hbTlpy"
      }
    },
    {
      "cell_type": "code",
      "source": [
        "favorite_color=\"green\"\n",
        "print(favorite_color)"
      ],
      "metadata": {
        "colab": {
          "base_uri": "https://localhost:8080/"
        },
        "id": "1pyvSMIRT0lF",
        "outputId": "a7583943-c848-4353-e672-0e895b213164"
      },
      "execution_count": null,
      "outputs": [
        {
          "output_type": "stream",
          "name": "stdout",
          "text": [
            "green\n"
          ]
        }
      ]
    },
    {
      "cell_type": "markdown",
      "source": [
        "Calculate the sum of two numbers, a = 10 and b = 20, and print the result.\n"
      ],
      "metadata": {
        "id": "y5ZSaIqMUaso"
      }
    },
    {
      "cell_type": "code",
      "source": [
        "a,b=10,20\n",
        "print(f\"{a}+{b}={a+b}\")"
      ],
      "metadata": {
        "colab": {
          "base_uri": "https://localhost:8080/"
        },
        "id": "D4X4B42TUf2H",
        "outputId": "8acf5d03-1e05-431c-c32a-f6588c12eaa4"
      },
      "execution_count": null,
      "outputs": [
        {
          "output_type": "stream",
          "name": "stdout",
          "text": [
            "10+20=30\n"
          ]
        }
      ]
    },
    {
      "cell_type": "markdown",
      "source": [
        "Create variables for the length and width of a rectangle. Calculate and print the\n",
        "area"
      ],
      "metadata": {
        "id": "49n4kO1MUr-J"
      }
    },
    {
      "cell_type": "code",
      "source": [
        "a=float(input(\"enter the length of a rectangle:\"))\n",
        "b=float(input(\"enter the width of a rectangle:\"))\n",
        "print(\"area of the rectangle=\",a*b)"
      ],
      "metadata": {
        "id": "BvtJp3AWVNqI",
        "colab": {
          "base_uri": "https://localhost:8080/"
        },
        "outputId": "0d07f857-1639-4f44-f2d3-555956ee9c3b"
      },
      "execution_count": null,
      "outputs": [
        {
          "output_type": "stream",
          "name": "stdout",
          "text": [
            "enter the length of a rectangle:4.5\n",
            "enter the width of a rectangle:5\n",
            "area of the rectangle= 22.5\n"
          ]
        }
      ]
    },
    {
      "cell_type": "markdown",
      "source": [
        "Write a program that checks if a number (e.g., num = 15) is even or odd."
      ],
      "metadata": {
        "id": "1vr2d63QXE4c"
      }
    },
    {
      "cell_type": "code",
      "source": [
        "num=int(input(\"enter a number\"))\n",
        "if num%2!=0:\n",
        "  print(\"odd number\")\n",
        "else:\n",
        "  print(\"not odd\")"
      ],
      "metadata": {
        "id": "PB6bPoMBXLDs",
        "colab": {
          "base_uri": "https://localhost:8080/"
        },
        "outputId": "3b50b33f-e752-41e9-b2aa-282faa67c413"
      },
      "execution_count": null,
      "outputs": [
        {
          "output_type": "stream",
          "name": "stdout",
          "text": [
            "enter a number53\n",
            "odd number\n"
          ]
        }
      ]
    },
    {
      "cell_type": "markdown",
      "source": [
        "Create a program that calculates the average of three numbers: 10, 20, and 30,\n",
        "and prints the result.\n"
      ],
      "metadata": {
        "id": "_LEPzwfoXfp1"
      }
    },
    {
      "cell_type": "code",
      "source": [
        "a,b,c=10,20,30\n",
        "print(\"average=\",(a+b+c)/3)"
      ],
      "metadata": {
        "id": "mt4Irw0iXkSL",
        "colab": {
          "base_uri": "https://localhost:8080/"
        },
        "outputId": "24423725-5d22-41f0-89fa-2155c3fe08df"
      },
      "execution_count": null,
      "outputs": [
        {
          "output_type": "stream",
          "name": "stdout",
          "text": [
            "average= 20.0\n"
          ]
        }
      ]
    },
    {
      "cell_type": "markdown",
      "source": [
        "Create a program that calculates the area of a circle with a radius of 7. Use the\n",
        "formula: Area=π×r2\\text{Area} = \\pi \\times r^2Area=π×r2."
      ],
      "metadata": {
        "id": "YWt9KndrX9G1"
      }
    },
    {
      "cell_type": "code",
      "source": [
        "r=7\n",
        "pi=3.14\n",
        "area=pi*r**2\n",
        "print(area)"
      ],
      "metadata": {
        "id": "8fa1AILSYEYH",
        "colab": {
          "base_uri": "https://localhost:8080/"
        },
        "outputId": "365df1ca-5cf2-467c-f795-f1ad96936f17"
      },
      "execution_count": null,
      "outputs": [
        {
          "output_type": "stream",
          "name": "stdout",
          "text": [
            "153.86\n"
          ]
        }
      ]
    },
    {
      "cell_type": "markdown",
      "source": [
        " Write a program that checks if a given string text = \"Python\" has more than\n",
        "6 characters."
      ],
      "metadata": {
        "id": "JjDbNRVRYSbR"
      }
    },
    {
      "cell_type": "code",
      "source": [
        "s='python'\n",
        "if len(s)>6:\n",
        "  print(\"it has more than 6 characters\")\n",
        "else:\n",
        "  print(\"no more than 6 characters\")"
      ],
      "metadata": {
        "id": "EOww2bIcYWsp",
        "colab": {
          "base_uri": "https://localhost:8080/"
        },
        "outputId": "45508fc0-972a-4c6c-ffc7-bc67ce3e0703"
      },
      "execution_count": null,
      "outputs": [
        {
          "output_type": "stream",
          "name": "stdout",
          "text": [
            "no more than 6 characters\n"
          ]
        }
      ]
    },
    {
      "cell_type": "markdown",
      "source": [
        "Write a program that finds the maximum of two numbers, num1 = 15 and num2\n",
        "= 25"
      ],
      "metadata": {
        "id": "TUC2mweOYvXI"
      }
    },
    {
      "cell_type": "code",
      "source": [
        "num1,num2=15,25\n",
        "if num1>num2:\n",
        "  print(f\"{num1} is greater\")\n",
        "else:\n",
        "  print(f\"{num2} is greater\")"
      ],
      "metadata": {
        "id": "Y3QF9GBnY0UF",
        "colab": {
          "base_uri": "https://localhost:8080/"
        },
        "outputId": "0f19bb48-ab69-4818-f19f-d96de8e7ee24"
      },
      "execution_count": null,
      "outputs": [
        {
          "output_type": "stream",
          "name": "stdout",
          "text": [
            "25 is greater\n"
          ]
        }
      ]
    },
    {
      "cell_type": "markdown",
      "source": [
        "Write a program that calculates the percentage of a student's marks. If the total\n",
        "marks are 500 and the obtained marks are 400, print the percentage."
      ],
      "metadata": {
        "id": "-WWVVePWZMGz"
      }
    },
    {
      "cell_type": "code",
      "source": [
        "total_mark=500\n",
        "obtained_mark=400\n",
        "perc=obtained_mark*100/total_mark\n",
        "print(\"the percentage obtained=\",perc)"
      ],
      "metadata": {
        "id": "-F96cSX9ZRhG",
        "colab": {
          "base_uri": "https://localhost:8080/"
        },
        "outputId": "f5eaf520-cfad-4e98-978d-b29192927555"
      },
      "execution_count": null,
      "outputs": [
        {
          "output_type": "stream",
          "name": "stdout",
          "text": [
            "the percentage obtained= 80.0\n"
          ]
        }
      ]
    },
    {
      "cell_type": "markdown",
      "source": [
        "Write a Python program to check whether a given number is positive, negative, or\n",
        "zero."
      ],
      "metadata": {
        "id": "8SjpQivviX4J"
      }
    },
    {
      "cell_type": "code",
      "source": [
        "a=int(input(\"enter the number:\"))\n",
        "if a==0:\n",
        "  print(\"the given number is zero\")\n",
        "elif a>0:\n",
        "  print(\"the given number is positive\")\n",
        "else:\n",
        "  print(\"the given number is negative\")"
      ],
      "metadata": {
        "colab": {
          "base_uri": "https://localhost:8080/"
        },
        "id": "GHGuoBmYi-Xl",
        "outputId": "b8af7d83-9054-403c-914c-b58a0866ed0e"
      },
      "execution_count": null,
      "outputs": [
        {
          "output_type": "stream",
          "name": "stdout",
          "text": [
            "enter the number:-15\n",
            "the given number is negative\n"
          ]
        }
      ]
    },
    {
      "cell_type": "markdown",
      "source": [
        "Write a program that takes an integer as input and prints whether it is odd or even.\n"
      ],
      "metadata": {
        "id": "J9VANPVrjoiV"
      }
    },
    {
      "cell_type": "code",
      "source": [
        "num=int(input(\"enter a number\"))\n",
        "if num%2!=0:\n",
        "  print(\"the given number is odd\")\n",
        "else:\n",
        "  print(\"the given number is even\")"
      ],
      "metadata": {
        "colab": {
          "base_uri": "https://localhost:8080/"
        },
        "id": "_quZt1uMjtl6",
        "outputId": "60f8e8db-76de-4dd9-f521-1e30ba0c90b4"
      },
      "execution_count": null,
      "outputs": [
        {
          "output_type": "stream",
          "name": "stdout",
          "text": [
            "enter a number66\n",
            "the given number is even\n"
          ]
        }
      ]
    },
    {
      "cell_type": "markdown",
      "source": [
        "Take a student's marks as input and print their grade based on the following:\n",
        "▪ 90-100 → A\n",
        "▪ 80-89 → B\n",
        "▪ 70-79 → C\n",
        "▪ 60-69 → D\n",
        "▪ Below 60 → Fail"
      ],
      "metadata": {
        "id": "co6WsyOzkHmE"
      }
    },
    {
      "cell_type": "code",
      "source": [
        "mark=float(input(\"Enter your mark\"))\n",
        "if 90<=mark<=100:\n",
        "  print(\"grade A\")\n",
        "elif 80<=mark<90:\n",
        "  print(\"grade B\")\n",
        "elif 70<=mark<80:\n",
        "  print(\"grade C\")\n",
        "elif 60<=mark<70:\n",
        "  print(\"grade D\")\n",
        "else:\n",
        "  print(\"Fail\")"
      ],
      "metadata": {
        "colab": {
          "base_uri": "https://localhost:8080/"
        },
        "id": "VX8M8tJlkTvM",
        "outputId": "01783977-1780-473f-d1f2-bb4edd707487"
      },
      "execution_count": null,
      "outputs": [
        {
          "output_type": "stream",
          "name": "stdout",
          "text": [
            "Enter your mark60.5\n",
            "grade D\n"
          ]
        }
      ]
    },
    {
      "cell_type": "markdown",
      "source": [
        "Write a program to check if a given year is a leap year or not."
      ],
      "metadata": {
        "id": "E4e60lgblo43"
      }
    },
    {
      "cell_type": "code",
      "source": [
        "n=int(input(\"Enter year\"))\n",
        "if (n%4==0 and n%100!=0) or n%400==0:\n",
        "  print(\"the given year is leap year\")\n",
        "else:\n",
        "  print(\"its not a leap year\")"
      ],
      "metadata": {
        "colab": {
          "base_uri": "https://localhost:8080/"
        },
        "id": "WrU-uRJ5lxaA",
        "outputId": "a37f2f2d-a451-40fd-d668-812bcd6d937c"
      },
      "execution_count": null,
      "outputs": [
        {
          "output_type": "stream",
          "name": "stdout",
          "text": [
            "Enter year2000\n",
            "the given year is leap year\n"
          ]
        }
      ]
    },
    {
      "cell_type": "markdown",
      "source": [
        "Take an integer input N and print all numbers from 1 to N using a for loop."
      ],
      "metadata": {
        "id": "jcEUm91VoWk0"
      }
    },
    {
      "cell_type": "code",
      "source": [
        "N=int(input(\"Enter a number\"))\n",
        "l=[]\n",
        "for i in range(1, N+1):\n",
        "  l.append(i)\n",
        "  i+=1\n",
        "print(l)"
      ],
      "metadata": {
        "colab": {
          "base_uri": "https://localhost:8080/"
        },
        "id": "75xQw_ZIoplv",
        "outputId": "f66c6621-9f10-4068-98ab-df9695ee28c7"
      },
      "execution_count": null,
      "outputs": [
        {
          "output_type": "stream",
          "name": "stdout",
          "text": [
            "Enter a number8\n",
            "[1, 2, 3, 4, 5, 6, 7, 8]\n"
          ]
        }
      ]
    },
    {
      "cell_type": "markdown",
      "source": [
        "o Write a program that takes an integer N as input and prints the sum of the first N\n",
        "natural numbers."
      ],
      "metadata": {
        "id": "XdOizBmdpUh-"
      }
    },
    {
      "cell_type": "code",
      "source": [
        "N=int(input(\"Enter a number\"))\n",
        "s=0\n",
        "for i in range(1,N+1):\n",
        "  s+=i\n",
        "  i+=1\n",
        "print(\"sum=\",s)"
      ],
      "metadata": {
        "colab": {
          "base_uri": "https://localhost:8080/"
        },
        "id": "kF3cBZnLpXXM",
        "outputId": "8cee0e8a-bd68-43da-848f-4fb678df86de"
      },
      "execution_count": null,
      "outputs": [
        {
          "output_type": "stream",
          "name": "stdout",
          "text": [
            "Enter a number48\n",
            "sum= 1176\n"
          ]
        }
      ]
    },
    {
      "cell_type": "markdown",
      "source": [
        "Take a number as input and print its multiplication table up to 10."
      ],
      "metadata": {
        "id": "9N_oAN2cqUBa"
      }
    },
    {
      "cell_type": "code",
      "source": [
        "n=int(input(\"enter a number\"))\n",
        "for i in range(1,11):\n",
        "  print(f\"{n}*{i}={n*i}\")"
      ],
      "metadata": {
        "colab": {
          "base_uri": "https://localhost:8080/"
        },
        "id": "ofX7HGqtqX9t",
        "outputId": "01c9c08c-d821-4026-d0a0-29be660a6706"
      },
      "execution_count": null,
      "outputs": [
        {
          "output_type": "stream",
          "name": "stdout",
          "text": [
            "enter a number6\n",
            "6*1=6\n",
            "6*2=12\n",
            "6*3=18\n",
            "6*4=24\n",
            "6*5=30\n",
            "6*6=36\n",
            "6*7=42\n",
            "6*8=48\n",
            "6*9=54\n",
            "6*10=60\n"
          ]
        }
      ]
    },
    {
      "cell_type": "markdown",
      "source": [
        "Write a Python program to calculate the factorial of a given number using a loop"
      ],
      "metadata": {
        "id": "7SHl7MGKq1LI"
      }
    },
    {
      "cell_type": "code",
      "source": [
        "n=int(input(\"enter a number\"))\n",
        "s=1\n",
        "for i in range(1,n+1):\n",
        "  s=s*i\n",
        "print(\"factorial=\",s)"
      ],
      "metadata": {
        "colab": {
          "base_uri": "https://localhost:8080/"
        },
        "id": "cx53Jyaxq4nG",
        "outputId": "9e6bb6c6-9f48-4c71-b31b-37fdb5df8480"
      },
      "execution_count": null,
      "outputs": [
        {
          "output_type": "stream",
          "name": "stdout",
          "text": [
            "enter a number3\n",
            "factorial= 6\n"
          ]
        }
      ]
    },
    {
      "cell_type": "markdown",
      "source": [
        "Take an integer input and print its reverse."
      ],
      "metadata": {
        "id": "PQSM0cbjrnB8"
      }
    },
    {
      "cell_type": "code",
      "source": [
        "n=int(input(\"enter a number\"))\n",
        "s=0\n",
        "while n>0:\n",
        "  r=n%10\n",
        "  n=n//10\n",
        "  s=s*10+r\n",
        "print(s)"
      ],
      "metadata": {
        "colab": {
          "base_uri": "https://localhost:8080/"
        },
        "id": "R06eWVLHrs0O",
        "outputId": "5c352d70-6eb7-4da7-e5bd-36dcf15db43e"
      },
      "execution_count": null,
      "outputs": [
        {
          "output_type": "stream",
          "name": "stdout",
          "text": [
            "enter a number1234\n",
            "4321\n"
          ]
        }
      ]
    },
    {
      "cell_type": "markdown",
      "source": [
        "Write a program that takes a number and prints the count of its digits."
      ],
      "metadata": {
        "id": "dAS2amXaW46P"
      }
    },
    {
      "cell_type": "code",
      "source": [
        "n=int(input(\"Enter a number\"))\n",
        "digit_count=1\n",
        "while n>0:\n",
        "  n=n//10\n",
        "  if n!=0:\n",
        "    digit_count+=1\n",
        "  else:\n",
        "    print(\"digit count=\",digit_count)"
      ],
      "metadata": {
        "colab": {
          "base_uri": "https://localhost:8080/"
        },
        "id": "_sAWLqTqXaKk",
        "outputId": "e3fbaaf1-4210-4a90-aa9e-288ffbc28ba8"
      },
      "execution_count": null,
      "outputs": [
        {
          "output_type": "stream",
          "name": "stdout",
          "text": [
            "Enter a number12345\n",
            "digit count= 5\n"
          ]
        }
      ]
    },
    {
      "cell_type": "markdown",
      "source": [
        "Right-Angled Triangle Pattern-Take an integer N as input and print a right-angled triangle of stars.\n"
      ],
      "metadata": {
        "id": "Pae_m3fBYj65"
      }
    },
    {
      "cell_type": "code",
      "source": [
        "n=int(input(\"Enter a number\"))\n",
        "for i in range(1,n+1):\n",
        "  for j in range(1,i+1):\n",
        "    print(\"*\",end=\"\")\n",
        "  print()\n"
      ],
      "metadata": {
        "colab": {
          "base_uri": "https://localhost:8080/"
        },
        "id": "CabOP8LuYt0F",
        "outputId": "716d477a-0131-42a5-e653-e4ffd4477412"
      },
      "execution_count": null,
      "outputs": [
        {
          "output_type": "stream",
          "name": "stdout",
          "text": [
            "Enter a number5\n",
            "*\n",
            "**\n",
            "***\n",
            "****\n",
            "*****\n"
          ]
        }
      ]
    },
    {
      "cell_type": "markdown",
      "source": [
        "Number Pyramid Pattern:Write a program that takes an integer N and prints a pyramid pattern.\n"
      ],
      "metadata": {
        "id": "PfcQA8GUckQW"
      }
    },
    {
      "cell_type": "code",
      "source": [
        "n=int(input(\"Enter a number:\"))\n",
        "for i in range(1,n+1):\n",
        "  for j in range(1,i+1):\n",
        "    print(j,end=\"\")\n",
        "  for k in range(i-1,0,-1):\n",
        "    print(k,end=\"\")\n",
        "  print()\n"
      ],
      "metadata": {
        "colab": {
          "base_uri": "https://localhost:8080/"
        },
        "id": "Gmhyx5Prcvu2",
        "outputId": "4b84f580-bd5b-4cfa-db95-4f6b7a83799c"
      },
      "execution_count": null,
      "outputs": [
        {
          "output_type": "stream",
          "name": "stdout",
          "text": [
            "Enter a number:5\n",
            "1\n",
            "121\n",
            "12321\n",
            "1234321\n",
            "123454321\n"
          ]
        }
      ]
    },
    {
      "cell_type": "markdown",
      "source": [
        "Print the first 5 odd numbers using a loop and break statement"
      ],
      "metadata": {
        "id": "gOhtATKphcq7"
      }
    },
    {
      "cell_type": "code",
      "source": [
        "n=int(input(\"Enter a number\"))\n",
        "a=0\n",
        "for i in range(1,n+1):\n",
        "  if i%2==1:\n",
        "    a+=1\n",
        "    print(i)\n",
        "    if a==5:\n",
        "      break"
      ],
      "metadata": {
        "colab": {
          "base_uri": "https://localhost:8080/"
        },
        "id": "0ZgIUWQKhl3N",
        "outputId": "693774bb-e3f1-4b11-fb9a-c15b508bf585"
      },
      "execution_count": null,
      "outputs": [
        {
          "output_type": "stream",
          "name": "stdout",
          "text": [
            "Enter a number20\n",
            "1\n",
            "3\n",
            "5\n",
            "7\n",
            "9\n"
          ]
        }
      ]
    },
    {
      "cell_type": "markdown",
      "source": [
        "Print numbers from 1 to 20 but skip the ones that are multiples of 3."
      ],
      "metadata": {
        "id": "UpOacjenjYKD"
      }
    },
    {
      "cell_type": "code",
      "source": [
        "for i in range(1,21):\n",
        "  if i%3==0:\n",
        "    continue\n",
        "  else:\n",
        "    print(i)"
      ],
      "metadata": {
        "colab": {
          "base_uri": "https://localhost:8080/"
        },
        "id": "riJSS-6ljY5t",
        "outputId": "86f85ced-eb54-42ef-ea84-672dc089b771"
      },
      "execution_count": null,
      "outputs": [
        {
          "output_type": "stream",
          "name": "stdout",
          "text": [
            "1\n",
            "2\n",
            "4\n",
            "5\n",
            "7\n",
            "8\n",
            "10\n",
            "11\n",
            "13\n",
            "14\n",
            "16\n",
            "17\n",
            "19\n",
            "20\n"
          ]
        }
      ]
    },
    {
      "cell_type": "markdown",
      "source": [
        "Write a program where pass is used in an if condition, but the loop continues\n",
        "execution"
      ],
      "metadata": {
        "id": "JhqfmIDoj4p_"
      }
    },
    {
      "cell_type": "code",
      "source": [
        "for i in range(1, 6):\n",
        "    if i == 3:\n",
        "        pass\n",
        "    print(i)"
      ],
      "metadata": {
        "colab": {
          "base_uri": "https://localhost:8080/"
        },
        "id": "CLDXdU-Ej8PH",
        "outputId": "5d5cbc30-ac6b-4427-cf8e-ecdfb4c4ae5d"
      },
      "execution_count": null,
      "outputs": [
        {
          "output_type": "stream",
          "name": "stdout",
          "text": [
            "1\n",
            "2\n",
            "3\n",
            "4\n",
            "5\n"
          ]
        }
      ]
    },
    {
      "cell_type": "markdown",
      "source": [
        "Print the first N terms of the Fibonacci sequence."
      ],
      "metadata": {
        "id": "Mm6iEVPZkRAM"
      }
    },
    {
      "cell_type": "code",
      "source": [
        "n = int(input(\"Enter the number of terms: \"))\n",
        "a, b = 0, 1\n",
        "print(\"Fibonacci sequence:\")\n",
        "for i in range(n):\n",
        "    print(a)\n",
        "    a, b = b, a + b\n",
        "\n"
      ],
      "metadata": {
        "colab": {
          "base_uri": "https://localhost:8080/"
        },
        "id": "zSvpiP_nlGso",
        "outputId": "7bf88184-84dc-4320-c298-277314c3c762"
      },
      "execution_count": null,
      "outputs": [
        {
          "output_type": "stream",
          "name": "stdout",
          "text": [
            "Enter the number of terms: 5\n",
            "Fibonacci sequence:\n",
            "0\n",
            "1\n",
            "1\n",
            "2\n",
            "3\n"
          ]
        }
      ]
    },
    {
      "cell_type": "markdown",
      "source": [
        "Write a program to calculate the sum of the digits of a given number."
      ],
      "metadata": {
        "id": "uQIk2WDonUu3"
      }
    },
    {
      "cell_type": "code",
      "source": [
        "N=int(input(\"Enter a number\"))\n",
        "s=0\n",
        "while N>0:\n",
        "  r=N%10\n",
        "  s+=r\n",
        "  N=N//10\n",
        "print(s)"
      ],
      "metadata": {
        "colab": {
          "base_uri": "https://localhost:8080/"
        },
        "id": "BPWOS-_unEF5",
        "outputId": "7eb5eb5e-a22a-47a8-c011-1056740dc266"
      },
      "execution_count": null,
      "outputs": [
        {
          "output_type": "stream",
          "name": "stdout",
          "text": [
            "Enter a number1234\n",
            "10\n"
          ]
        }
      ]
    },
    {
      "cell_type": "markdown",
      "source": [
        "Write a program to check if a given number is prime."
      ],
      "metadata": {
        "id": "qS9Bw5Vmm-t4"
      }
    },
    {
      "cell_type": "code",
      "source": [
        "N=int(input(\"Enter a number\"))\n",
        "for i in range(2,N):\n",
        "  if N%i==0:\n",
        "    print(\"The given number is not a prime number\")\n",
        "    break\n",
        "else:\n",
        "  print(\"the given number is prime number\")\n"
      ],
      "metadata": {
        "colab": {
          "base_uri": "https://localhost:8080/"
        },
        "id": "d1PeqdrmnfSl",
        "outputId": "b4578d4a-58ad-4ddc-b6db-8ea3c7e4a293"
      },
      "execution_count": null,
      "outputs": [
        {
          "output_type": "stream",
          "name": "stdout",
          "text": [
            "Enter a number9\n",
            "The given number is not a prime number\n"
          ]
        }
      ]
    },
    {
      "cell_type": "markdown",
      "source": [
        "Check if a given number is an Armstrong number (e.g., 153 → 1³ + 5³ + 3³ = 153)."
      ],
      "metadata": {
        "id": "x40J07GFrl14"
      }
    },
    {
      "cell_type": "code",
      "source": [
        "\"\"\" finding armstrong number\n",
        "  using user input\"\"\"\n",
        "n=input(\"enter a number\")\n",
        "p=len(n)#power is selected according to the length of input\n",
        "t=0\n",
        "n1=int(n)\n",
        "n2=n1\n",
        "while n1>0:\n",
        "  r=n1%10\n",
        "  n1=n1//10\n",
        "  t=t+r**p\n",
        "if t==n2:\n",
        "  print(\"the given number is armstrong\")\n",
        "else:\n",
        "  print(\"not armstrong\")"
      ],
      "metadata": {
        "colab": {
          "base_uri": "https://localhost:8080/"
        },
        "id": "fywyzVU6rpBy",
        "outputId": "bed161a6-7493-453e-ce35-469aaf3dc979"
      },
      "execution_count": null,
      "outputs": [
        {
          "output_type": "stream",
          "name": "stdout",
          "text": [
            "enter a number153\n",
            "the given number is armstrong\n"
          ]
        }
      ]
    },
    {
      "cell_type": "markdown",
      "source": [
        "Take a string as input and print it in reverse order using a loop."
      ],
      "metadata": {
        "id": "dHgJBsTPtrx_"
      }
    },
    {
      "cell_type": "code",
      "source": [
        "text = input(\"Enter a string: \")\n",
        "reversed_text = \"\"\n",
        "\n",
        "for char in text:\n",
        "    reversed_text = char + reversed_text\n",
        "\n",
        "print(\"Reversed string:\", reversed_text)\n"
      ],
      "metadata": {
        "colab": {
          "base_uri": "https://localhost:8080/"
        },
        "id": "-9tgawbAtyoM",
        "outputId": "5215649b-1b14-45fd-c98d-2a16d131b3a0"
      },
      "execution_count": null,
      "outputs": [
        {
          "output_type": "stream",
          "name": "stdout",
          "text": [
            "Enter a string: python\n",
            "Reversed string: nohtyp\n"
          ]
        }
      ]
    },
    {
      "cell_type": "markdown",
      "source": [
        "Write a Python Program to accept the details of a student like name, roll\n",
        "number and mark and display it."
      ],
      "metadata": {
        "id": "aOR7i2xiuv_l"
      }
    },
    {
      "cell_type": "code",
      "source": [
        "name=input(\"Enter name\")\n",
        "roll_no=int(input(\"Enter roll number\"))\n",
        "mark=int(input(\"Enter your mark\"))\n",
        "print(f\"name:{name}\\n roll number:{roll_no}\\n mark:{mark}\")"
      ],
      "metadata": {
        "colab": {
          "base_uri": "https://localhost:8080/"
        },
        "id": "RmbgwOzZuwgI",
        "outputId": "b02e0932-2bec-407a-e164-3baed21b026d"
      },
      "execution_count": null,
      "outputs": [
        {
          "output_type": "stream",
          "name": "stdout",
          "text": [
            "Enter nameShaliha\n",
            "Enter roll number19\n",
            "Enter your mark77\n",
            "name:Shaliha\n",
            " roll number:19\n",
            " mark:77\n"
          ]
        }
      ]
    },
    {
      "cell_type": "markdown",
      "source": [
        "Write a Python program to get the largest number from a list."
      ],
      "metadata": {
        "id": "hsceCYeLObJO"
      }
    },
    {
      "cell_type": "code",
      "source": [
        "l=[12,3,47,9]\n",
        "a=l[0]\n",
        "for i in l:\n",
        "  if a<i:\n",
        "    a=i\n",
        "print(\"the largest number=\",a)"
      ],
      "metadata": {
        "colab": {
          "base_uri": "https://localhost:8080/"
        },
        "id": "mUDLV3Q8OkR0",
        "outputId": "854381e2-ef8b-4510-8fb9-a9d8cb0e1f5d"
      },
      "execution_count": null,
      "outputs": [
        {
          "output_type": "stream",
          "name": "stdout",
          "text": [
            "the largest number= 47\n"
          ]
        }
      ]
    },
    {
      "cell_type": "markdown",
      "source": [
        "Given a range of first 10 numbers, write a Python program to iterate from start number to the end number and print the sum of the current number and previous number."
      ],
      "metadata": {
        "id": "GFXI-SouPS2p"
      }
    },
    {
      "cell_type": "code",
      "source": [
        "for i in range(1,11):\n",
        "  print(f\"current number:{i}, previous number {i-1}, sum {2*i-1}  \")"
      ],
      "metadata": {
        "colab": {
          "base_uri": "https://localhost:8080/"
        },
        "id": "uHJwBdc7Pa_5",
        "outputId": "bc0b9e7e-51f2-42c9-a1ef-25bfe9078e08"
      },
      "execution_count": null,
      "outputs": [
        {
          "output_type": "stream",
          "name": "stdout",
          "text": [
            "current number:1, previous number 0, sum 1  \n",
            "current number:2, previous number 1, sum 3  \n",
            "current number:3, previous number 2, sum 5  \n",
            "current number:4, previous number 3, sum 7  \n",
            "current number:5, previous number 4, sum 9  \n",
            "current number:6, previous number 5, sum 11  \n",
            "current number:7, previous number 6, sum 13  \n",
            "current number:8, previous number 7, sum 15  \n",
            "current number:9, previous number 8, sum 17  \n",
            "current number:10, previous number 9, sum 19  \n"
          ]
        }
      ]
    },
    {
      "cell_type": "markdown",
      "source": [
        "Write a Python program to print only those numbers which are divisible of 5."
      ],
      "metadata": {
        "id": "RILHt4lLQEeQ"
      }
    },
    {
      "cell_type": "code",
      "source": [
        "l=[10,23,55,34,67,90,30,35]\n",
        "for i in l:\n",
        "  if i%5==0:\n",
        "    print(i)"
      ],
      "metadata": {
        "colab": {
          "base_uri": "https://localhost:8080/"
        },
        "id": "gztKlYBfQNoL",
        "outputId": "b0c3e26e-634d-4cfb-8c73-1c5853af83dc"
      },
      "execution_count": null,
      "outputs": [
        {
          "output_type": "stream",
          "name": "stdout",
          "text": [
            "10\n",
            "55\n",
            "90\n",
            "30\n",
            "35\n"
          ]
        }
      ]
    },
    {
      "cell_type": "markdown",
      "source": [
        "Write a Python program to reverse a list using for loop."
      ],
      "metadata": {
        "id": "G0ih0zcoQ-Ld"
      }
    },
    {
      "cell_type": "code",
      "source": [
        "l=[10,20,30,40,34]\n",
        "a=[]\n",
        "for i in range(len(l)-1,-1,-1):\n",
        "  a.append(l[i])\n",
        "print(a)"
      ],
      "metadata": {
        "colab": {
          "base_uri": "https://localhost:8080/"
        },
        "id": "eOfySGOtQl-Z",
        "outputId": "308f4687-59d7-40af-8d2c-8472df4ba422"
      },
      "execution_count": null,
      "outputs": [
        {
          "output_type": "stream",
          "name": "stdout",
          "text": [
            "[34, 40, 30, 20, 10]\n"
          ]
        }
      ]
    },
    {
      "cell_type": "markdown",
      "source": [
        "Write a Python program to find the maximum of three numbers"
      ],
      "metadata": {
        "id": "kQW_zV2YSKx9"
      }
    },
    {
      "cell_type": "code",
      "source": [
        "a,b,c=10,34,67\n",
        "if a<=b:\n",
        "  if b<=c:\n",
        "    print(\"the max. number of 10,34,67 is\",c)\n",
        "  else:\n",
        "    print(\"the max. number of 10,34,67  is\",b)\n",
        "else:\n",
        "  if a<=c:\n",
        "    print(\"the max number of 10,34,67  is\",c)\n",
        "  else:\n",
        "    print(\"the max number of 10,34,67  is\",a)"
      ],
      "metadata": {
        "colab": {
          "base_uri": "https://localhost:8080/"
        },
        "id": "Leyy6vykSQxh",
        "outputId": "1c3323d8-657b-4a77-f44c-1632cd678fe8"
      },
      "execution_count": null,
      "outputs": [
        {
          "output_type": "stream",
          "name": "stdout",
          "text": [
            "the max. number of 10,34,67 is 67\n"
          ]
        }
      ]
    },
    {
      "cell_type": "markdown",
      "source": [
        "Write a Python program to construct the following pattern, using a nested for loop."
      ],
      "metadata": {
        "id": "jZEopSvvTBqA"
      }
    },
    {
      "cell_type": "code",
      "source": [
        "for i in range(1,6):\n",
        "  for j in range(1,i+1):\n",
        "    print(\"*\",end=\"\")\n",
        "  print()\n",
        "for k in range(4,0,-1):\n",
        "  for m in range(1,k+1):\n",
        "    print(\"*\",end=\"\")\n",
        "  print()"
      ],
      "metadata": {
        "colab": {
          "base_uri": "https://localhost:8080/"
        },
        "id": "Zk3g4DLcTH1-",
        "outputId": "3e5fc558-c622-4627-e18f-5f2652622b7b"
      },
      "execution_count": null,
      "outputs": [
        {
          "output_type": "stream",
          "name": "stdout",
          "text": [
            "*\n",
            "**\n",
            "***\n",
            "****\n",
            "*****\n",
            "****\n",
            "***\n",
            "**\n",
            "*\n"
          ]
        }
      ]
    },
    {
      "cell_type": "markdown",
      "source": [
        "Python best practice Question answers"
      ],
      "metadata": {
        "id": "UHO6KgaNxruR"
      }
    },
    {
      "cell_type": "markdown",
      "source": [
        "Error handling and validation"
      ],
      "metadata": {
        "id": "na4xuBBAx5H2"
      }
    },
    {
      "cell_type": "code",
      "source": [
        "#challenge 1\n",
        "\n",
        "def check_voting_age(age):\n",
        "  if age >= 18:\n",
        "    return \"You are eligible to vote\"\n",
        "  else:\n",
        "    return \"you are not eligible to vote\"\n",
        "\n",
        "print(f\"Testing with age 25:{check_voting_age(25)}\")\n",
        "print(f\"Testing with age 16:{check_voting_age(16)}\")"
      ],
      "metadata": {
        "colab": {
          "base_uri": "https://localhost:8080/"
        },
        "id": "NKv4tIfMx13i",
        "outputId": "dea7f4da-346e-454f-a30f-b12ac95f6a0b"
      },
      "execution_count": null,
      "outputs": [
        {
          "output_type": "stream",
          "name": "stdout",
          "text": [
            "Testing with age 25:You are eligible to vote\n",
            "Testing with age 16:you are not eligible to vote\n"
          ]
        }
      ]
    },
    {
      "cell_type": "code",
      "source": [
        "#challenge 2\n",
        "\n",
        "def calculate_division(numerator_str,denominator_str):\n",
        "\n",
        "  try:\n",
        "    numerator = int(numerator_str)\n",
        "    denominator = int(denominator_str)\n",
        "    return numerator / denominator\n",
        "\n",
        "  except ValueError:\n",
        "    return \"Error: Cannot divide by zero\"\n",
        "\n",
        "  except ZeroDivisionError:\n",
        "    return \"Error: Cannot divide by zero\"\n",
        "\n",
        "print(f\"10/2= {calculate_division('10','2')}\")\n",
        "print(f\"10/0= {calculate_division('10','0')}\")\n",
        "print(f\"10/0= {calculate_division('10','0')}\")"
      ],
      "metadata": {
        "colab": {
          "base_uri": "https://localhost:8080/"
        },
        "id": "6qX_e0I4zVAt",
        "outputId": "b870bba4-cc27-4caa-894b-5307679fc75f"
      },
      "execution_count": null,
      "outputs": [
        {
          "output_type": "stream",
          "name": "stdout",
          "text": [
            "10/2= 5.0\n",
            "10/0= Error: Cannot divide by zero\n",
            "10/0= Error: Cannot divide by zero\n"
          ]
        }
      ]
    },
    {
      "cell_type": "code",
      "source": [
        "#challenge 3\n",
        "\n",
        "def process_data(data_list, index):\n",
        "\n",
        "  try:\n",
        "    value = data_list[index]\n",
        "\n",
        "  except IndexError:\n",
        "    print(\"Error: Index out of bounds\")\n",
        "\n",
        "  else:\n",
        "    print(\"Access succssful\")\n",
        "\n",
        "  finally:\n",
        "    print(\"processing complete\")\n",
        "\n",
        "process_data([10,20,30],1)\n",
        "process_data([10,20,30],5)"
      ],
      "metadata": {
        "colab": {
          "base_uri": "https://localhost:8080/"
        },
        "id": "zZuW8Und1tkT",
        "outputId": "16646a60-5467-4c7d-d4f3-04f88ac2a8e7"
      },
      "execution_count": null,
      "outputs": [
        {
          "output_type": "stream",
          "name": "stdout",
          "text": [
            "Access succssful\n",
            "processing complete\n",
            "Error: Index out of bounds\n",
            "processing complete\n"
          ]
        }
      ]
    },
    {
      "cell_type": "markdown",
      "source": [
        "Functions and DRY principle"
      ],
      "metadata": {
        "id": "pynS1eXA4Hkz"
      }
    },
    {
      "cell_type": "code",
      "source": [
        "#Refer and simplify\n",
        "\n",
        "def check_even_odd(num):\n",
        "  return \"Even\" if num % 2 == 0 else \"odd\"\n",
        "\n",
        "print(check_even_odd(5))"
      ],
      "metadata": {
        "colab": {
          "base_uri": "https://localhost:8080/"
        },
        "id": "3hRdclad4G9t",
        "outputId": "7e0bd073-a3b0-4cc9-f1ae-7ae0b88269d3"
      },
      "execution_count": null,
      "outputs": [
        {
          "output_type": "stream",
          "name": "stdout",
          "text": [
            "odd\n"
          ]
        }
      ]
    },
    {
      "cell_type": "code",
      "source": [
        "#3 Remove repetition with a function\n",
        "\n",
        "def rectangle_area(length, width):\n",
        "  print(f\"Area of rectangle: {length * width}\")\n",
        "\n",
        "rectangle_area(5,10)\n",
        "rectangle_area(3,8)\n",
        "rectangle_area(6,4)\n"
      ],
      "metadata": {
        "colab": {
          "base_uri": "https://localhost:8080/"
        },
        "id": "4bsIWrSv5Mpa",
        "outputId": "32c6cc75-a532-487a-92be-e2f0516d5945"
      },
      "execution_count": null,
      "outputs": [
        {
          "output_type": "stream",
          "name": "stdout",
          "text": [
            "Area of rectangle: 50\n",
            "Area of rectangle: 24\n",
            "Area of rectangle: 24\n"
          ]
        }
      ]
    },
    {
      "cell_type": "markdown",
      "source": [
        "pep8"
      ],
      "metadata": {
        "id": "yu6HRu8g6JIG"
      }
    },
    {
      "cell_type": "code",
      "source": [
        "def addTwoNumbers(a, b):\n",
        "  return a + b\n",
        "\n",
        "def SubtractTwoNumbers(a, b):\n",
        "  return a - b\n",
        "\n",
        "\n",
        "def multiplyTwoNumbers(a, b):\n",
        "  return a * b\n",
        "\n",
        "def divideTwoNumers(a, b):\n",
        "\n",
        "  if b!=0:\n",
        "      return a / b\n",
        "\n",
        "  else:\n",
        "    return None\n",
        "\n",
        "result1 = addTwoNumbers(5, 3)\n",
        "result2 = SubtractTwoNumbers(10, 4)\n",
        "result3 = multiplyTwoNumbers(2, 8)\n",
        "result4 = divideTwoNumers(10, 2)\n",
        "\n",
        "print(\"Addition result:\",result1)\n",
        "print(\"Subtraction result:\",result2)\n",
        "print(\"Multiplication result:\",result3)\n",
        "print(\"Division result:\",result4)"
      ],
      "metadata": {
        "colab": {
          "base_uri": "https://localhost:8080/"
        },
        "id": "4_rq-Sm76L03",
        "outputId": "be8c574b-4c5a-451d-f157-a9f6bddc9fb6"
      },
      "execution_count": null,
      "outputs": [
        {
          "output_type": "stream",
          "name": "stdout",
          "text": [
            "Addition result: 8\n",
            "Subtraction result: 6\n",
            "Multiplication result: 16\n",
            "Division result: 5.0\n"
          ]
        }
      ]
    }
  ]
}