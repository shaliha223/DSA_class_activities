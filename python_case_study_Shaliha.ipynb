{
  "nbformat": 4,
  "nbformat_minor": 0,
  "metadata": {
    "colab": {
      "provenance": [],
      "authorship_tag": "ABX9TyP2FyU3ren0lGJk4ZCgMdIO",
      "include_colab_link": true
    },
    "kernelspec": {
      "name": "python3",
      "display_name": "Python 3"
    },
    "language_info": {
      "name": "python"
    }
  },
  "cells": [
    {
      "cell_type": "markdown",
      "metadata": {
        "id": "view-in-github",
        "colab_type": "text"
      },
      "source": [
        "<a href=\"https://colab.research.google.com/github/shaliha223/python_activities/blob/main/python_case_study_Shaliha.ipynb\" target=\"_parent\"><img src=\"https://colab.research.google.com/assets/colab-badge.svg\" alt=\"Open In Colab\"/></a>"
      ]
    },
    {
      "cell_type": "markdown",
      "source": [
        "# Answer the following questions using only builtin Python datatypes and functions. Do not use Numpy or Scipy (i.e. No library imports allowed)"
      ],
      "metadata": {
        "id": "0CMpCRhFl3Se"
      }
    },
    {
      "cell_type": "markdown",
      "source": [
        "# Q1. Write a function that return the range (maximum and minimun) of a given list of numbers"
      ],
      "metadata": {
        "id": "xS2voxo6l8hi"
      }
    },
    {
      "cell_type": "code",
      "execution_count": 11,
      "metadata": {
        "colab": {
          "base_uri": "https://localhost:8080/"
        },
        "id": "QHs5OcNVlx_R",
        "outputId": "ff1a4556-c918-4bde-df88-dc276206c642"
      },
      "outputs": [
        {
          "output_type": "stream",
          "name": "stdout",
          "text": [
            "the range of given list is (2, 98)\n"
          ]
        }
      ],
      "source": [
        "def range(x):\n",
        "\n",
        "  x.sort()\n",
        "  l=len(x)\n",
        "  minimum = x[0]\n",
        "  maximum = x[l-1]\n",
        "\n",
        "  return minimum, maximum\n",
        "\n",
        "l=[2,45,98,34,86,87]\n",
        "print(\"the range of given list is\",range(l))"
      ]
    },
    {
      "cell_type": "markdown",
      "source": [
        "## Q2. Write function that returns mean value of a list of numbers"
      ],
      "metadata": {
        "id": "UEpbbQwjnvjF"
      }
    },
    {
      "cell_type": "code",
      "source": [
        "def mean(x):\n",
        "  m = 0\n",
        "\n",
        "  for i in x:\n",
        "    m+= i\n",
        "  mean = m / len(x)\n",
        "\n",
        "  return mean\n",
        "\n",
        "l = [2,45,98,34,86,87]\n",
        "print(\"The mean of the given list is\",mean(l))"
      ],
      "metadata": {
        "colab": {
          "base_uri": "https://localhost:8080/"
        },
        "id": "MfhZTJMPl4pK",
        "outputId": "18bd5394-19bc-4d9d-b408-1c411adfac6d"
      },
      "execution_count": 6,
      "outputs": [
        {
          "output_type": "stream",
          "name": "stdout",
          "text": [
            "The mean of the given list is 58.666666666666664\n"
          ]
        }
      ]
    },
    {
      "cell_type": "markdown",
      "source": [
        "# Q3. Write a function that returns the median value of a list of numbers"
      ],
      "metadata": {
        "id": "koTOUa7fo2NO"
      }
    },
    {
      "cell_type": "code",
      "source": [
        "def median(x):\n",
        "\n",
        "  x.sort()\n",
        "  l = len(x)\n",
        "\n",
        "  if l % 2 != 0:\n",
        "    mid = l // 2\n",
        "    median = x[mid]\n",
        "\n",
        "  else:\n",
        "    mid = l // 2\n",
        "    median = (x[mid - 1] + x[mid]) / 2\n",
        "\n",
        "  return median\n",
        "\n",
        "H = [1, 2, 4, 5, 3]\n",
        "print(\"The median of the given list is\", median(H))"
      ],
      "metadata": {
        "colab": {
          "base_uri": "https://localhost:8080/"
        },
        "id": "Ph2c4nZLpJhL",
        "outputId": "3127d02b-38e9-45cb-9d0d-bf9c69db8515"
      },
      "execution_count": 10,
      "outputs": [
        {
          "output_type": "stream",
          "name": "stdout",
          "text": [
            "The median of the given list is 3\n"
          ]
        }
      ]
    },
    {
      "cell_type": "markdown",
      "source": [
        "## Q4. Write a function to return the mod of a list of numbers, if no mod exists, it should return None. If more than one mod exist, return the mod values as list"
      ],
      "metadata": {
        "id": "vAZ_t-t1rbLN"
      }
    },
    {
      "cell_type": "code",
      "source": [
        "def mode(x):\n",
        "\n",
        "  count={}\n",
        "\n",
        "  for i in x:\n",
        "    if i in count:\n",
        "      count[i]+=1\n",
        "\n",
        "    else:\n",
        "      count[i]=1\n",
        "\n",
        "\n",
        "  max_count=max(count.values())\n",
        "\n",
        "  if max_count == 1:\n",
        "    mode = None\n",
        "\n",
        "  else:\n",
        "    mode = []\n",
        "\n",
        "    for a, b in count.items():\n",
        "      if b == max_count:\n",
        "          mode.append(a)\n",
        "\n",
        "  return mode\n",
        "\n",
        "L = [1,2,6,7,6,5,8,7]\n",
        "mode(L)\n",
        "\n"
      ],
      "metadata": {
        "colab": {
          "base_uri": "https://localhost:8080/"
        },
        "id": "zOw50XsYpJyX",
        "outputId": "c9337597-ca72-4693-923a-74e09286ff75"
      },
      "execution_count": 46,
      "outputs": [
        {
          "output_type": "execute_result",
          "data": {
            "text/plain": [
              "[6, 7]"
            ]
          },
          "metadata": {},
          "execution_count": 46
        }
      ]
    },
    {
      "cell_type": "markdown",
      "source": [
        "## Q5. Write function to compute a given percentile value (e.g. 90th percentile) of a list of numbers"
      ],
      "metadata": {
        "id": "BM-ZjnZMuieS"
      }
    },
    {
      "cell_type": "code",
      "source": [
        "def percentile(x,n):\n",
        "\n",
        "  x.sort()\n",
        "  l=len(x)\n",
        "  percentile_value = x[l*n//100 -1]\n",
        "\n",
        "  return percentile_value\n",
        "\n",
        "M = [1,2,3,4,5,6,7,8,9,10]\n",
        "print(\"percentile value= \", percentile(M,90))"
      ],
      "metadata": {
        "colab": {
          "base_uri": "https://localhost:8080/"
        },
        "id": "Vp4ZDbCuuf7C",
        "outputId": "d19ad9af-c66e-4341-8b24-4f6f6b82393d"
      },
      "execution_count": 25,
      "outputs": [
        {
          "output_type": "stream",
          "name": "stdout",
          "text": [
            "percentile value=  9\n"
          ]
        }
      ]
    },
    {
      "cell_type": "markdown",
      "source": [
        "# Q6. Write a function that returns the lower bound of a list of numbers"
      ],
      "metadata": {
        "id": "Y0AVegAFw8ss"
      }
    },
    {
      "cell_type": "code",
      "source": [
        "def lower_bound(x):\n",
        "\n",
        "  x.sort()\n",
        "  l = len(x)\n",
        "  Q1 = x[int(l*0.25) - 1]\n",
        "  Q3 = x[int(l*0.75)-1]\n",
        "  IQR = Q3 -Q1\n",
        "  lower_limit = Q1 - IQR*1.5\n",
        "\n",
        "  return lower_limit\n",
        "\n",
        "l=[2,45,98,34,8,6,87]\n",
        "lower_bound(l)"
      ],
      "metadata": {
        "colab": {
          "base_uri": "https://localhost:8080/"
        },
        "id": "e85aQGeYx9HS",
        "outputId": "5f8c1c1e-9c90-485a-b83d-f75b35515974"
      },
      "execution_count": 28,
      "outputs": [
        {
          "output_type": "execute_result",
          "data": {
            "text/plain": [
              "-124.0"
            ]
          },
          "metadata": {},
          "execution_count": 28
        }
      ]
    },
    {
      "cell_type": "markdown",
      "source": [
        "## Q7. Write function to return any outliers from a given list of numbers, if no outliers present it should return None"
      ],
      "metadata": {
        "id": "JpFEnUH9w9Vh"
      }
    },
    {
      "cell_type": "code",
      "source": [
        "def outliers(x):\n",
        "\n",
        "  outliers=[]\n",
        "\n",
        "  x.sort()\n",
        "  l = len(x)\n",
        "  Q1 = x[int(l*0.25) - 1]\n",
        "  Q3 = x[int(l*0.75)-1]\n",
        "  IQR = Q3 -Q1\n",
        "  lower_limit = Q1 - IQR*1.5\n",
        "  upper_limit = Q3 + 1.5*IQR\n",
        "\n",
        "  for i in x:\n",
        "\n",
        "    if i >upper_limit or i < lower_limit:\n",
        "       outliers.append(i)\n",
        "\n",
        "  return outliers\n",
        "\n",
        "\n",
        "l=[45,67,89,12,67,123,56,46,47]\n",
        "outliers(l)"
      ],
      "metadata": {
        "colab": {
          "base_uri": "https://localhost:8080/"
        },
        "id": "llv7RM8JzrN3",
        "outputId": "00edb454-0c4c-424c-b57b-d3835092ddaa"
      },
      "execution_count": 31,
      "outputs": [
        {
          "output_type": "execute_result",
          "data": {
            "text/plain": [
              "[123]"
            ]
          },
          "metadata": {},
          "execution_count": 31
        }
      ]
    },
    {
      "cell_type": "markdown",
      "source": [
        "##Q8. Write a function to return standard deviation of a list of numbers"
      ],
      "metadata": {
        "id": "P3EPal_k0_dD"
      }
    },
    {
      "cell_type": "code",
      "source": [
        "def standard_deviation(x):\n",
        "\n",
        "  m = 0\n",
        "  v=0\n",
        "\n",
        "  for i in x:\n",
        "    m+= i\n",
        "\n",
        "  mean = m / len(x)\n",
        "\n",
        "  for i in x:\n",
        "    v+=((i-mean)**2)\n",
        "  variance=v/len(x)\n",
        "  s_d=variance**(1/2)\n",
        "\n",
        "  return s_d\n",
        "\n",
        "l=[45,67,89,12,67,123,56,46,47]\n",
        "standard_deviation(l)"
      ],
      "metadata": {
        "colab": {
          "base_uri": "https://localhost:8080/"
        },
        "id": "SoymomoG1F5g",
        "outputId": "32c9d419-10c0-451b-d589-96722ad706a3"
      },
      "execution_count": 34,
      "outputs": [
        {
          "output_type": "execute_result",
          "data": {
            "text/plain": [
              "29.442976902631447"
            ]
          },
          "metadata": {},
          "execution_count": 34
        }
      ]
    },
    {
      "cell_type": "markdown",
      "source": [
        "## Q9. Write function to compute and return Z-score values of a list of numbers"
      ],
      "metadata": {
        "id": "zc1waxJd1vRG"
      }
    },
    {
      "cell_type": "code",
      "source": [
        "def z_score(x):\n",
        "\n",
        "  z=[]\n",
        "  m=0\n",
        "  v=0\n",
        "\n",
        "  for i in x:\n",
        "    m+= i\n",
        "  mean = m / len(x)\n",
        "\n",
        "  for i in x:\n",
        "    v+=((i-mean)**2)\n",
        "\n",
        "  variance=v/len(x)\n",
        "  s_d=variance**(1/2)\n",
        "\n",
        "\n",
        "  for i in x:\n",
        "    Z = (i-mean) / s_d\n",
        "    z.append(Z)\n",
        "\n",
        "  return z\n",
        "\n",
        "\n",
        "l=[45,67,89,12,67,123,56,46,47]\n",
        "z_score(l)"
      ],
      "metadata": {
        "colab": {
          "base_uri": "https://localhost:8080/"
        },
        "id": "wuMjhM1z2Ai4",
        "outputId": "5165f575-fe7c-4554-9b6b-0ab62dbb9f5c"
      },
      "execution_count": 37,
      "outputs": [
        {
          "output_type": "execute_result",
          "data": {
            "text/plain": [
              "[-0.5547446301828792,\n",
              " 0.19246242271650899,\n",
              " 0.9396694756158972,\n",
              " -1.6755552095319615,\n",
              " 0.19246242271650899,\n",
              " 2.0944440119149514,\n",
              " -0.1811411037331851,\n",
              " -0.520780673232907,\n",
              " -0.4868167162829348]"
            ]
          },
          "metadata": {},
          "execution_count": 37
        }
      ]
    },
    {
      "cell_type": "markdown",
      "source": [
        "## Q10. Write a function to compute and return the Pearson correlation coefficient value of two list of numbers"
      ],
      "metadata": {
        "id": "rncXwX4m3goK"
      }
    },
    {
      "cell_type": "code",
      "source": [
        "def pearson_coefficient(x, y):\n",
        "\n",
        "  cov=0\n",
        "\n",
        "  for a, b in enumerate(x):\n",
        "\n",
        "    for c, d in enumerate(y):\n",
        "\n",
        "      if a == c:\n",
        "\n",
        "        cov+= (b - mean(x))*(d - mean(y))\n",
        "\n",
        "  covariance = cov / len(x)\n",
        "  p_c_c = covariance /(standard_deviation(x)*standard_deviation(y))\n",
        "\n",
        "  return p_c_c\n",
        "\n",
        "\n",
        "l = [45,67,89,12,67,123,56,46,47]\n",
        "m = [23,45,26,67,98,103,156,87,23]\n",
        "\n",
        "print(pearson_coefficient(l, m))\n"
      ],
      "metadata": {
        "colab": {
          "base_uri": "https://localhost:8080/"
        },
        "id": "K6ngk2Bo3k3K",
        "outputId": "261f940e-2276-49a7-c759-ae394aebe07e"
      },
      "execution_count": 41,
      "outputs": [
        {
          "output_type": "stream",
          "name": "stdout",
          "text": [
            "0.15003611803441483\n"
          ]
        }
      ]
    }
  ]
}