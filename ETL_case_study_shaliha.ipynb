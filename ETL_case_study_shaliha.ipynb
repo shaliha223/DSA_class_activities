{
  "nbformat": 4,
  "nbformat_minor": 0,
  "metadata": {
    "colab": {
      "provenance": [],
      "authorship_tag": "ABX9TyMNxMZNknuVVLuni3AsfLAT",
      "include_colab_link": true
    },
    "kernelspec": {
      "name": "python3",
      "display_name": "Python 3"
    },
    "language_info": {
      "name": "python"
    }
  },
  "cells": [
    {
      "cell_type": "markdown",
      "metadata": {
        "id": "view-in-github",
        "colab_type": "text"
      },
      "source": [
        "<a href=\"https://colab.research.google.com/github/shaliha223/DSA_class_activities/blob/main/ETL_case_study_shaliha.ipynb\" target=\"_parent\"><img src=\"https://colab.research.google.com/assets/colab-badge.svg\" alt=\"Open In Colab\"/></a>"
      ]
    },
    {
      "cell_type": "code",
      "execution_count": 20,
      "metadata": {
        "id": "LKzvg6xcZYaT"
      },
      "outputs": [],
      "source": [
        "import pandas as pd\n",
        "import numpy as np"
      ]
    },
    {
      "cell_type": "code",
      "source": [
        "#Load the dataset into a DataFrame"
      ],
      "metadata": {
        "id": "qxAmzAldk16e"
      },
      "execution_count": 21,
      "outputs": []
    },
    {
      "cell_type": "code",
      "source": [
        "df = pd.read_csv(\"/content/all_month.csv\")"
      ],
      "metadata": {
        "id": "9fWtj2HZZj-l"
      },
      "execution_count": 22,
      "outputs": []
    },
    {
      "cell_type": "code",
      "source": [
        "df.columns"
      ],
      "metadata": {
        "colab": {
          "base_uri": "https://localhost:8080/"
        },
        "id": "xX0oKyrlapo4",
        "outputId": "226ce771-532a-4735-9d4d-5932cce86517"
      },
      "execution_count": null,
      "outputs": [
        {
          "output_type": "execute_result",
          "data": {
            "text/plain": [
              "Index(['time', 'latitude', 'longitude', 'depth', 'mag', 'magType', 'nst',\n",
              "       'gap', 'dmin', 'rms', 'net', 'id', 'updated', 'place', 'type',\n",
              "       'horizontalError', 'depthError', 'magError', 'magNst', 'status',\n",
              "       'locationSource', 'magSource'],\n",
              "      dtype='object')"
            ]
          },
          "metadata": {},
          "execution_count": 12
        }
      ]
    },
    {
      "cell_type": "markdown",
      "source": [
        "Identify number of records and unique locations"
      ],
      "metadata": {
        "id": "42VB7zm2k-iB"
      }
    },
    {
      "cell_type": "code",
      "source": [
        "len(df)"
      ],
      "metadata": {
        "colab": {
          "base_uri": "https://localhost:8080/"
        },
        "id": "1VMptFzCZ59b",
        "outputId": "6e94e054-0915-405d-8603-e6d1411c8d57"
      },
      "execution_count": null,
      "outputs": [
        {
          "output_type": "execute_result",
          "data": {
            "text/plain": [
              "9925"
            ]
          },
          "metadata": {},
          "execution_count": 6
        }
      ]
    },
    {
      "cell_type": "code",
      "source": [
        "df['place'].nunique()"
      ],
      "metadata": {
        "colab": {
          "base_uri": "https://localhost:8080/"
        },
        "id": "owAzKmHYaBWR",
        "outputId": "606b1c52-d60e-4410-c183-12839bfffb9c"
      },
      "execution_count": null,
      "outputs": [
        {
          "output_type": "execute_result",
          "data": {
            "text/plain": [
              "5258"
            ]
          },
          "metadata": {},
          "execution_count": 7
        }
      ]
    },
    {
      "cell_type": "code",
      "source": [
        "print(df['place'].unique())"
      ],
      "metadata": {
        "colab": {
          "base_uri": "https://localhost:8080/"
        },
        "id": "UbONabqsbEf1",
        "outputId": "6c3579d7-b43e-4f10-88b9-35a668c2ed15"
      },
      "execution_count": null,
      "outputs": [
        {
          "output_type": "stream",
          "name": "stdout",
          "text": [
            "['34 km SW of Trapper Creek, Alaska' '21 km ESE of Little Lake, CA'\n",
            " '29 km WSW of Anchor Point, Alaska' ... '3 km ENE of Willow, Alaska'\n",
            " '25 km ESE of Kupang, Indonesia' '221 km SW of Tual, Indonesia']\n"
          ]
        }
      ]
    },
    {
      "cell_type": "markdown",
      "source": [
        "Print top 5 rows and column names\n"
      ],
      "metadata": {
        "id": "8Fhut2cBlBAV"
      }
    },
    {
      "cell_type": "code",
      "source": [
        "df.head(5)"
      ],
      "metadata": {
        "colab": {
          "base_uri": "https://localhost:8080/",
          "height": 602
        },
        "id": "zZllNVYabhzy",
        "outputId": "655d2e72-fbb6-4e2e-c658-11b9bf35103d"
      },
      "execution_count": null,
      "outputs": [
        {
          "output_type": "execute_result",
          "data": {
            "text/plain": [
              "                       time   latitude   longitude  depth   mag magType   nst  \\\n",
              "0  2025-09-21T08:26:10.435Z  62.062900 -150.622600  28.10  1.50      ml   NaN   \n",
              "1  2025-09-21T08:24:50.580Z  35.892000 -117.681167   2.15  0.02      ml   9.0   \n",
              "2  2025-09-21T08:21:13.690Z  35.898000 -117.676000   2.38  0.69      ml  24.0   \n",
              "3  2025-09-21T08:19:55.940Z  35.895833 -117.676500   2.35  0.96      ml  25.0   \n",
              "4  2025-09-21T08:17:41.920Z  35.898000 -117.678500   2.31  2.02      ml  40.0   \n",
              "\n",
              "     gap     dmin   rms  ...                   updated  \\\n",
              "0    NaN      NaN  0.57  ...  2025-09-21T08:27:44.079Z   \n",
              "1  117.0  0.06112  0.08  ...  2025-09-21T08:28:14.348Z   \n",
              "2   43.0  0.05396  0.14  ...  2025-09-21T08:24:40.709Z   \n",
              "3   43.0  0.05612  0.17  ...  2025-09-21T08:23:22.786Z   \n",
              "4   35.0  0.05478  0.18  ...  2025-09-21T08:21:16.510Z   \n",
              "\n",
              "                               place        type horizontalError depthError  \\\n",
              "0  34 km SW of Trapper Creek, Alaska  earthquake             NaN       0.30   \n",
              "1       21 km ESE of Little Lake, CA  earthquake            0.28       0.27   \n",
              "2       21 km ESE of Little Lake, CA  earthquake            0.15       0.25   \n",
              "3       21 km ESE of Little Lake, CA  earthquake            0.18       0.32   \n",
              "4       21 km ESE of Little Lake, CA  earthquake            0.15       0.28   \n",
              "\n",
              "   magError  magNst     status  locationSource magSource  \n",
              "0       NaN     NaN  automatic              ak        ak  \n",
              "1     0.073     3.0  automatic              ci        ci  \n",
              "2     0.111    12.0  automatic              ci        ci  \n",
              "3     0.141    18.0  automatic              ci        ci  \n",
              "4     0.133    25.0  automatic              ci        ci  \n",
              "\n",
              "[5 rows x 22 columns]"
            ],
            "text/html": [
              "\n",
              "  <div id=\"df-a894ee91-a166-4ad2-87a3-68539a090069\" class=\"colab-df-container\">\n",
              "    <div>\n",
              "<style scoped>\n",
              "    .dataframe tbody tr th:only-of-type {\n",
              "        vertical-align: middle;\n",
              "    }\n",
              "\n",
              "    .dataframe tbody tr th {\n",
              "        vertical-align: top;\n",
              "    }\n",
              "\n",
              "    .dataframe thead th {\n",
              "        text-align: right;\n",
              "    }\n",
              "</style>\n",
              "<table border=\"1\" class=\"dataframe\">\n",
              "  <thead>\n",
              "    <tr style=\"text-align: right;\">\n",
              "      <th></th>\n",
              "      <th>time</th>\n",
              "      <th>latitude</th>\n",
              "      <th>longitude</th>\n",
              "      <th>depth</th>\n",
              "      <th>mag</th>\n",
              "      <th>magType</th>\n",
              "      <th>nst</th>\n",
              "      <th>gap</th>\n",
              "      <th>dmin</th>\n",
              "      <th>rms</th>\n",
              "      <th>...</th>\n",
              "      <th>updated</th>\n",
              "      <th>place</th>\n",
              "      <th>type</th>\n",
              "      <th>horizontalError</th>\n",
              "      <th>depthError</th>\n",
              "      <th>magError</th>\n",
              "      <th>magNst</th>\n",
              "      <th>status</th>\n",
              "      <th>locationSource</th>\n",
              "      <th>magSource</th>\n",
              "    </tr>\n",
              "  </thead>\n",
              "  <tbody>\n",
              "    <tr>\n",
              "      <th>0</th>\n",
              "      <td>2025-09-21T08:26:10.435Z</td>\n",
              "      <td>62.062900</td>\n",
              "      <td>-150.622600</td>\n",
              "      <td>28.10</td>\n",
              "      <td>1.50</td>\n",
              "      <td>ml</td>\n",
              "      <td>NaN</td>\n",
              "      <td>NaN</td>\n",
              "      <td>NaN</td>\n",
              "      <td>0.57</td>\n",
              "      <td>...</td>\n",
              "      <td>2025-09-21T08:27:44.079Z</td>\n",
              "      <td>34 km SW of Trapper Creek, Alaska</td>\n",
              "      <td>earthquake</td>\n",
              "      <td>NaN</td>\n",
              "      <td>0.30</td>\n",
              "      <td>NaN</td>\n",
              "      <td>NaN</td>\n",
              "      <td>automatic</td>\n",
              "      <td>ak</td>\n",
              "      <td>ak</td>\n",
              "    </tr>\n",
              "    <tr>\n",
              "      <th>1</th>\n",
              "      <td>2025-09-21T08:24:50.580Z</td>\n",
              "      <td>35.892000</td>\n",
              "      <td>-117.681167</td>\n",
              "      <td>2.15</td>\n",
              "      <td>0.02</td>\n",
              "      <td>ml</td>\n",
              "      <td>9.0</td>\n",
              "      <td>117.0</td>\n",
              "      <td>0.06112</td>\n",
              "      <td>0.08</td>\n",
              "      <td>...</td>\n",
              "      <td>2025-09-21T08:28:14.348Z</td>\n",
              "      <td>21 km ESE of Little Lake, CA</td>\n",
              "      <td>earthquake</td>\n",
              "      <td>0.28</td>\n",
              "      <td>0.27</td>\n",
              "      <td>0.073</td>\n",
              "      <td>3.0</td>\n",
              "      <td>automatic</td>\n",
              "      <td>ci</td>\n",
              "      <td>ci</td>\n",
              "    </tr>\n",
              "    <tr>\n",
              "      <th>2</th>\n",
              "      <td>2025-09-21T08:21:13.690Z</td>\n",
              "      <td>35.898000</td>\n",
              "      <td>-117.676000</td>\n",
              "      <td>2.38</td>\n",
              "      <td>0.69</td>\n",
              "      <td>ml</td>\n",
              "      <td>24.0</td>\n",
              "      <td>43.0</td>\n",
              "      <td>0.05396</td>\n",
              "      <td>0.14</td>\n",
              "      <td>...</td>\n",
              "      <td>2025-09-21T08:24:40.709Z</td>\n",
              "      <td>21 km ESE of Little Lake, CA</td>\n",
              "      <td>earthquake</td>\n",
              "      <td>0.15</td>\n",
              "      <td>0.25</td>\n",
              "      <td>0.111</td>\n",
              "      <td>12.0</td>\n",
              "      <td>automatic</td>\n",
              "      <td>ci</td>\n",
              "      <td>ci</td>\n",
              "    </tr>\n",
              "    <tr>\n",
              "      <th>3</th>\n",
              "      <td>2025-09-21T08:19:55.940Z</td>\n",
              "      <td>35.895833</td>\n",
              "      <td>-117.676500</td>\n",
              "      <td>2.35</td>\n",
              "      <td>0.96</td>\n",
              "      <td>ml</td>\n",
              "      <td>25.0</td>\n",
              "      <td>43.0</td>\n",
              "      <td>0.05612</td>\n",
              "      <td>0.17</td>\n",
              "      <td>...</td>\n",
              "      <td>2025-09-21T08:23:22.786Z</td>\n",
              "      <td>21 km ESE of Little Lake, CA</td>\n",
              "      <td>earthquake</td>\n",
              "      <td>0.18</td>\n",
              "      <td>0.32</td>\n",
              "      <td>0.141</td>\n",
              "      <td>18.0</td>\n",
              "      <td>automatic</td>\n",
              "      <td>ci</td>\n",
              "      <td>ci</td>\n",
              "    </tr>\n",
              "    <tr>\n",
              "      <th>4</th>\n",
              "      <td>2025-09-21T08:17:41.920Z</td>\n",
              "      <td>35.898000</td>\n",
              "      <td>-117.678500</td>\n",
              "      <td>2.31</td>\n",
              "      <td>2.02</td>\n",
              "      <td>ml</td>\n",
              "      <td>40.0</td>\n",
              "      <td>35.0</td>\n",
              "      <td>0.05478</td>\n",
              "      <td>0.18</td>\n",
              "      <td>...</td>\n",
              "      <td>2025-09-21T08:21:16.510Z</td>\n",
              "      <td>21 km ESE of Little Lake, CA</td>\n",
              "      <td>earthquake</td>\n",
              "      <td>0.15</td>\n",
              "      <td>0.28</td>\n",
              "      <td>0.133</td>\n",
              "      <td>25.0</td>\n",
              "      <td>automatic</td>\n",
              "      <td>ci</td>\n",
              "      <td>ci</td>\n",
              "    </tr>\n",
              "  </tbody>\n",
              "</table>\n",
              "<p>5 rows × 22 columns</p>\n",
              "</div>\n",
              "    <div class=\"colab-df-buttons\">\n",
              "\n",
              "  <div class=\"colab-df-container\">\n",
              "    <button class=\"colab-df-convert\" onclick=\"convertToInteractive('df-a894ee91-a166-4ad2-87a3-68539a090069')\"\n",
              "            title=\"Convert this dataframe to an interactive table.\"\n",
              "            style=\"display:none;\">\n",
              "\n",
              "  <svg xmlns=\"http://www.w3.org/2000/svg\" height=\"24px\" viewBox=\"0 -960 960 960\">\n",
              "    <path d=\"M120-120v-720h720v720H120Zm60-500h600v-160H180v160Zm220 220h160v-160H400v160Zm0 220h160v-160H400v160ZM180-400h160v-160H180v160Zm440 0h160v-160H620v160ZM180-180h160v-160H180v160Zm440 0h160v-160H620v160Z\"/>\n",
              "  </svg>\n",
              "    </button>\n",
              "\n",
              "  <style>\n",
              "    .colab-df-container {\n",
              "      display:flex;\n",
              "      gap: 12px;\n",
              "    }\n",
              "\n",
              "    .colab-df-convert {\n",
              "      background-color: #E8F0FE;\n",
              "      border: none;\n",
              "      border-radius: 50%;\n",
              "      cursor: pointer;\n",
              "      display: none;\n",
              "      fill: #1967D2;\n",
              "      height: 32px;\n",
              "      padding: 0 0 0 0;\n",
              "      width: 32px;\n",
              "    }\n",
              "\n",
              "    .colab-df-convert:hover {\n",
              "      background-color: #E2EBFA;\n",
              "      box-shadow: 0px 1px 2px rgba(60, 64, 67, 0.3), 0px 1px 3px 1px rgba(60, 64, 67, 0.15);\n",
              "      fill: #174EA6;\n",
              "    }\n",
              "\n",
              "    .colab-df-buttons div {\n",
              "      margin-bottom: 4px;\n",
              "    }\n",
              "\n",
              "    [theme=dark] .colab-df-convert {\n",
              "      background-color: #3B4455;\n",
              "      fill: #D2E3FC;\n",
              "    }\n",
              "\n",
              "    [theme=dark] .colab-df-convert:hover {\n",
              "      background-color: #434B5C;\n",
              "      box-shadow: 0px 1px 3px 1px rgba(0, 0, 0, 0.15);\n",
              "      filter: drop-shadow(0px 1px 2px rgba(0, 0, 0, 0.3));\n",
              "      fill: #FFFFFF;\n",
              "    }\n",
              "  </style>\n",
              "\n",
              "    <script>\n",
              "      const buttonEl =\n",
              "        document.querySelector('#df-a894ee91-a166-4ad2-87a3-68539a090069 button.colab-df-convert');\n",
              "      buttonEl.style.display =\n",
              "        google.colab.kernel.accessAllowed ? 'block' : 'none';\n",
              "\n",
              "      async function convertToInteractive(key) {\n",
              "        const element = document.querySelector('#df-a894ee91-a166-4ad2-87a3-68539a090069');\n",
              "        const dataTable =\n",
              "          await google.colab.kernel.invokeFunction('convertToInteractive',\n",
              "                                                    [key], {});\n",
              "        if (!dataTable) return;\n",
              "\n",
              "        const docLinkHtml = 'Like what you see? Visit the ' +\n",
              "          '<a target=\"_blank\" href=https://colab.research.google.com/notebooks/data_table.ipynb>data table notebook</a>'\n",
              "          + ' to learn more about interactive tables.';\n",
              "        element.innerHTML = '';\n",
              "        dataTable['output_type'] = 'display_data';\n",
              "        await google.colab.output.renderOutput(dataTable, element);\n",
              "        const docLink = document.createElement('div');\n",
              "        docLink.innerHTML = docLinkHtml;\n",
              "        element.appendChild(docLink);\n",
              "      }\n",
              "    </script>\n",
              "  </div>\n",
              "\n",
              "\n",
              "    <div id=\"df-5e5f41d9-0778-40f2-9e72-1214c4bb7659\">\n",
              "      <button class=\"colab-df-quickchart\" onclick=\"quickchart('df-5e5f41d9-0778-40f2-9e72-1214c4bb7659')\"\n",
              "                title=\"Suggest charts\"\n",
              "                style=\"display:none;\">\n",
              "\n",
              "<svg xmlns=\"http://www.w3.org/2000/svg\" height=\"24px\"viewBox=\"0 0 24 24\"\n",
              "     width=\"24px\">\n",
              "    <g>\n",
              "        <path d=\"M19 3H5c-1.1 0-2 .9-2 2v14c0 1.1.9 2 2 2h14c1.1 0 2-.9 2-2V5c0-1.1-.9-2-2-2zM9 17H7v-7h2v7zm4 0h-2V7h2v10zm4 0h-2v-4h2v4z\"/>\n",
              "    </g>\n",
              "</svg>\n",
              "      </button>\n",
              "\n",
              "<style>\n",
              "  .colab-df-quickchart {\n",
              "      --bg-color: #E8F0FE;\n",
              "      --fill-color: #1967D2;\n",
              "      --hover-bg-color: #E2EBFA;\n",
              "      --hover-fill-color: #174EA6;\n",
              "      --disabled-fill-color: #AAA;\n",
              "      --disabled-bg-color: #DDD;\n",
              "  }\n",
              "\n",
              "  [theme=dark] .colab-df-quickchart {\n",
              "      --bg-color: #3B4455;\n",
              "      --fill-color: #D2E3FC;\n",
              "      --hover-bg-color: #434B5C;\n",
              "      --hover-fill-color: #FFFFFF;\n",
              "      --disabled-bg-color: #3B4455;\n",
              "      --disabled-fill-color: #666;\n",
              "  }\n",
              "\n",
              "  .colab-df-quickchart {\n",
              "    background-color: var(--bg-color);\n",
              "    border: none;\n",
              "    border-radius: 50%;\n",
              "    cursor: pointer;\n",
              "    display: none;\n",
              "    fill: var(--fill-color);\n",
              "    height: 32px;\n",
              "    padding: 0;\n",
              "    width: 32px;\n",
              "  }\n",
              "\n",
              "  .colab-df-quickchart:hover {\n",
              "    background-color: var(--hover-bg-color);\n",
              "    box-shadow: 0 1px 2px rgba(60, 64, 67, 0.3), 0 1px 3px 1px rgba(60, 64, 67, 0.15);\n",
              "    fill: var(--button-hover-fill-color);\n",
              "  }\n",
              "\n",
              "  .colab-df-quickchart-complete:disabled,\n",
              "  .colab-df-quickchart-complete:disabled:hover {\n",
              "    background-color: var(--disabled-bg-color);\n",
              "    fill: var(--disabled-fill-color);\n",
              "    box-shadow: none;\n",
              "  }\n",
              "\n",
              "  .colab-df-spinner {\n",
              "    border: 2px solid var(--fill-color);\n",
              "    border-color: transparent;\n",
              "    border-bottom-color: var(--fill-color);\n",
              "    animation:\n",
              "      spin 1s steps(1) infinite;\n",
              "  }\n",
              "\n",
              "  @keyframes spin {\n",
              "    0% {\n",
              "      border-color: transparent;\n",
              "      border-bottom-color: var(--fill-color);\n",
              "      border-left-color: var(--fill-color);\n",
              "    }\n",
              "    20% {\n",
              "      border-color: transparent;\n",
              "      border-left-color: var(--fill-color);\n",
              "      border-top-color: var(--fill-color);\n",
              "    }\n",
              "    30% {\n",
              "      border-color: transparent;\n",
              "      border-left-color: var(--fill-color);\n",
              "      border-top-color: var(--fill-color);\n",
              "      border-right-color: var(--fill-color);\n",
              "    }\n",
              "    40% {\n",
              "      border-color: transparent;\n",
              "      border-right-color: var(--fill-color);\n",
              "      border-top-color: var(--fill-color);\n",
              "    }\n",
              "    60% {\n",
              "      border-color: transparent;\n",
              "      border-right-color: var(--fill-color);\n",
              "    }\n",
              "    80% {\n",
              "      border-color: transparent;\n",
              "      border-right-color: var(--fill-color);\n",
              "      border-bottom-color: var(--fill-color);\n",
              "    }\n",
              "    90% {\n",
              "      border-color: transparent;\n",
              "      border-bottom-color: var(--fill-color);\n",
              "    }\n",
              "  }\n",
              "</style>\n",
              "\n",
              "      <script>\n",
              "        async function quickchart(key) {\n",
              "          const quickchartButtonEl =\n",
              "            document.querySelector('#' + key + ' button');\n",
              "          quickchartButtonEl.disabled = true;  // To prevent multiple clicks.\n",
              "          quickchartButtonEl.classList.add('colab-df-spinner');\n",
              "          try {\n",
              "            const charts = await google.colab.kernel.invokeFunction(\n",
              "                'suggestCharts', [key], {});\n",
              "          } catch (error) {\n",
              "            console.error('Error during call to suggestCharts:', error);\n",
              "          }\n",
              "          quickchartButtonEl.classList.remove('colab-df-spinner');\n",
              "          quickchartButtonEl.classList.add('colab-df-quickchart-complete');\n",
              "        }\n",
              "        (() => {\n",
              "          let quickchartButtonEl =\n",
              "            document.querySelector('#df-5e5f41d9-0778-40f2-9e72-1214c4bb7659 button');\n",
              "          quickchartButtonEl.style.display =\n",
              "            google.colab.kernel.accessAllowed ? 'block' : 'none';\n",
              "        })();\n",
              "      </script>\n",
              "    </div>\n",
              "\n",
              "    </div>\n",
              "  </div>\n"
            ],
            "application/vnd.google.colaboratory.intrinsic+json": {
              "type": "dataframe",
              "variable_name": "df"
            }
          },
          "metadata": {},
          "execution_count": 9
        }
      ]
    },
    {
      "cell_type": "markdown",
      "source": [
        "Convert time to datetime"
      ],
      "metadata": {
        "id": "6J_7QI23lGLh"
      }
    },
    {
      "cell_type": "code",
      "source": [
        "df['time']= pd.to_datetime(df['time'])"
      ],
      "metadata": {
        "id": "hA3gOt3nc9qu"
      },
      "execution_count": null,
      "outputs": []
    },
    {
      "cell_type": "code",
      "source": [
        "df['time'].head(1)"
      ],
      "metadata": {
        "colab": {
          "base_uri": "https://localhost:8080/",
          "height": 115
        },
        "id": "iab9mpuSdSyA",
        "outputId": "a88ae27e-b02c-427e-f12e-905c56f4e4a8"
      },
      "execution_count": null,
      "outputs": [
        {
          "output_type": "execute_result",
          "data": {
            "text/plain": [
              "0   2025-09-21 08:26:10.435000+00:00\n",
              "Name: time, dtype: datetime64[ns, UTC]"
            ],
            "text/html": [
              "<div>\n",
              "<style scoped>\n",
              "    .dataframe tbody tr th:only-of-type {\n",
              "        vertical-align: middle;\n",
              "    }\n",
              "\n",
              "    .dataframe tbody tr th {\n",
              "        vertical-align: top;\n",
              "    }\n",
              "\n",
              "    .dataframe thead th {\n",
              "        text-align: right;\n",
              "    }\n",
              "</style>\n",
              "<table border=\"1\" class=\"dataframe\">\n",
              "  <thead>\n",
              "    <tr style=\"text-align: right;\">\n",
              "      <th></th>\n",
              "      <th>time</th>\n",
              "    </tr>\n",
              "  </thead>\n",
              "  <tbody>\n",
              "    <tr>\n",
              "      <th>0</th>\n",
              "      <td>2025-09-21 08:26:10.435000+00:00</td>\n",
              "    </tr>\n",
              "  </tbody>\n",
              "</table>\n",
              "</div><br><label><b>dtype:</b> datetime64[ns, UTC]</label>"
            ]
          },
          "metadata": {},
          "execution_count": 11
        }
      ]
    },
    {
      "cell_type": "markdown",
      "source": [
        "Drop records with missing latitude, longitude, mag\n"
      ],
      "metadata": {
        "id": "thktj9tElN0L"
      }
    },
    {
      "cell_type": "code",
      "source": [
        "df[['latitude', 'longitude', 'mag']].isnull().sum()"
      ],
      "metadata": {
        "colab": {
          "base_uri": "https://localhost:8080/",
          "height": 178
        },
        "id": "NNN9i5QpdhaI",
        "outputId": "8b1ee898-8f0e-4aa0-b987-5d88efc9dcc2"
      },
      "execution_count": null,
      "outputs": [
        {
          "output_type": "execute_result",
          "data": {
            "text/plain": [
              "latitude     0\n",
              "longitude    0\n",
              "mag          1\n",
              "dtype: int64"
            ],
            "text/html": [
              "<div>\n",
              "<style scoped>\n",
              "    .dataframe tbody tr th:only-of-type {\n",
              "        vertical-align: middle;\n",
              "    }\n",
              "\n",
              "    .dataframe tbody tr th {\n",
              "        vertical-align: top;\n",
              "    }\n",
              "\n",
              "    .dataframe thead th {\n",
              "        text-align: right;\n",
              "    }\n",
              "</style>\n",
              "<table border=\"1\" class=\"dataframe\">\n",
              "  <thead>\n",
              "    <tr style=\"text-align: right;\">\n",
              "      <th></th>\n",
              "      <th>0</th>\n",
              "    </tr>\n",
              "  </thead>\n",
              "  <tbody>\n",
              "    <tr>\n",
              "      <th>latitude</th>\n",
              "      <td>0</td>\n",
              "    </tr>\n",
              "    <tr>\n",
              "      <th>longitude</th>\n",
              "      <td>0</td>\n",
              "    </tr>\n",
              "    <tr>\n",
              "      <th>mag</th>\n",
              "      <td>1</td>\n",
              "    </tr>\n",
              "  </tbody>\n",
              "</table>\n",
              "</div><br><label><b>dtype:</b> int64</label>"
            ]
          },
          "metadata": {},
          "execution_count": 12
        }
      ]
    },
    {
      "cell_type": "code",
      "source": [
        "df = df.dropna(subset=['mag'])"
      ],
      "metadata": {
        "id": "G8c7C7BlerZ8"
      },
      "execution_count": 23,
      "outputs": []
    },
    {
      "cell_type": "code",
      "source": [
        "print(df['mag'].isnull().sum())"
      ],
      "metadata": {
        "colab": {
          "base_uri": "https://localhost:8080/"
        },
        "id": "uFAIS-qPfcs0",
        "outputId": "4c77fa37-6f1e-48d2-ef2c-7ad3c1058dbd"
      },
      "execution_count": null,
      "outputs": [
        {
          "output_type": "stream",
          "name": "stdout",
          "text": [
            "0\n"
          ]
        }
      ]
    },
    {
      "cell_type": "markdown",
      "source": [
        "Filter only earthquakes with magnitude >= 4.0"
      ],
      "metadata": {
        "id": "yL95Os6-lSm6"
      }
    },
    {
      "cell_type": "code",
      "source": [
        "df1 = df[df['mag'] >= 4.0]"
      ],
      "metadata": {
        "id": "DTrtv1JRfrHN"
      },
      "execution_count": null,
      "outputs": []
    },
    {
      "cell_type": "code",
      "source": [
        "df1['mag'].unique()"
      ],
      "metadata": {
        "colab": {
          "base_uri": "https://localhost:8080/"
        },
        "id": "rriEJfa3g1UU",
        "outputId": "c524f2ff-fb8f-4545-db4e-287d05aacf62"
      },
      "execution_count": null,
      "outputs": [
        {
          "output_type": "execute_result",
          "data": {
            "text/plain": [
              "array([4.9 , 4.6 , 5.1 , 4.8 , 5.2 , 4.5 , 4.3 , 5.7 , 4.1 , 4.2 , 4.4 ,\n",
              "       4.7 , 5.  , 5.3 , 5.9 , 5.5 , 5.4 , 4.06, 5.6 , 5.8 , 7.8 , 6.1 ,\n",
              "       6.  , 4.  , 7.4 , 4.13, 4.01, 6.4 , 4.14])"
            ]
          },
          "metadata": {},
          "execution_count": 17
        }
      ]
    },
    {
      "cell_type": "markdown",
      "source": [
        "Add a column day_of_week from time"
      ],
      "metadata": {
        "id": "A_UUeBkTlW_a"
      }
    },
    {
      "cell_type": "code",
      "source": [
        "df['day_of_week'] = df['time'].dt.day_name()\n"
      ],
      "metadata": {
        "id": "oEi0Y_JHf8jS"
      },
      "execution_count": null,
      "outputs": []
    },
    {
      "cell_type": "code",
      "source": [
        "df['day_of_week'].head()"
      ],
      "metadata": {
        "colab": {
          "base_uri": "https://localhost:8080/",
          "height": 241
        },
        "id": "XgAzglFmf-LY",
        "outputId": "33d8aac7-e6c8-4502-8344-e92daf65ee83"
      },
      "execution_count": null,
      "outputs": [
        {
          "output_type": "execute_result",
          "data": {
            "text/plain": [
              "0    Sunday\n",
              "1    Sunday\n",
              "2    Sunday\n",
              "3    Sunday\n",
              "4    Sunday\n",
              "Name: day_of_week, dtype: object"
            ],
            "text/html": [
              "<div>\n",
              "<style scoped>\n",
              "    .dataframe tbody tr th:only-of-type {\n",
              "        vertical-align: middle;\n",
              "    }\n",
              "\n",
              "    .dataframe tbody tr th {\n",
              "        vertical-align: top;\n",
              "    }\n",
              "\n",
              "    .dataframe thead th {\n",
              "        text-align: right;\n",
              "    }\n",
              "</style>\n",
              "<table border=\"1\" class=\"dataframe\">\n",
              "  <thead>\n",
              "    <tr style=\"text-align: right;\">\n",
              "      <th></th>\n",
              "      <th>day_of_week</th>\n",
              "    </tr>\n",
              "  </thead>\n",
              "  <tbody>\n",
              "    <tr>\n",
              "      <th>0</th>\n",
              "      <td>Sunday</td>\n",
              "    </tr>\n",
              "    <tr>\n",
              "      <th>1</th>\n",
              "      <td>Sunday</td>\n",
              "    </tr>\n",
              "    <tr>\n",
              "      <th>2</th>\n",
              "      <td>Sunday</td>\n",
              "    </tr>\n",
              "    <tr>\n",
              "      <th>3</th>\n",
              "      <td>Sunday</td>\n",
              "    </tr>\n",
              "    <tr>\n",
              "      <th>4</th>\n",
              "      <td>Sunday</td>\n",
              "    </tr>\n",
              "  </tbody>\n",
              "</table>\n",
              "</div><br><label><b>dtype:</b> object</label>"
            ]
          },
          "metadata": {},
          "execution_count": 19
        }
      ]
    },
    {
      "cell_type": "markdown",
      "source": [
        "Create a column severity_level based on magnitude:\n",
        "○ <4.0: \"Low\"\n",
        "○ 4.0 - 6.0: \"Moderate\"\n",
        "○ 6.0+: \"High\""
      ],
      "metadata": {
        "id": "rc4Gz_hUlaP9"
      }
    },
    {
      "cell_type": "code",
      "source": [
        "def severity(mag):\n",
        "    if mag < 4.0:\n",
        "        return \"Low\"\n",
        "    elif 4.0 <= mag < 6.0:\n",
        "        return \"Moderate\"\n",
        "    else:\n",
        "        return \"High\"\n",
        "\n",
        "\n",
        "df['severity_level'] = df['mag'].apply(severity)"
      ],
      "metadata": {
        "id": "iqm1Hlr6gI8l"
      },
      "execution_count": null,
      "outputs": []
    },
    {
      "cell_type": "code",
      "source": [
        "df['severity_level'].unique()"
      ],
      "metadata": {
        "colab": {
          "base_uri": "https://localhost:8080/"
        },
        "id": "LKE0f6MchVZZ",
        "outputId": "7c236dcc-f9f8-481f-f052-fdc3e44ddffa"
      },
      "execution_count": null,
      "outputs": [
        {
          "output_type": "execute_result",
          "data": {
            "text/plain": [
              "array(['Low', 'Moderate', 'High'], dtype=object)"
            ]
          },
          "metadata": {},
          "execution_count": 22
        }
      ]
    },
    {
      "cell_type": "markdown",
      "source": [
        "Count number of earthquakes per place"
      ],
      "metadata": {
        "id": "x_qOt93Yle0k"
      }
    },
    {
      "cell_type": "code",
      "source": [
        "df['type'].unique()"
      ],
      "metadata": {
        "colab": {
          "base_uri": "https://localhost:8080/"
        },
        "id": "Wm5v6xProbZ_",
        "outputId": "e5d71242-23e6-4d20-8c30-d6876edd19a9"
      },
      "execution_count": 24,
      "outputs": [
        {
          "output_type": "execute_result",
          "data": {
            "text/plain": [
              "array(['earthquake', 'explosion', 'quarry blast', 'landslide'],\n",
              "      dtype=object)"
            ]
          },
          "metadata": {},
          "execution_count": 24
        }
      ]
    },
    {
      "cell_type": "code",
      "source": [
        "df2 = df[df['type']=='earthquake']\n",
        "earth_quakes_per_place = df2.groupby('place').size().reset_index(name='earthquake_count')\n",
        "earth_quakes_per_place.head()"
      ],
      "metadata": {
        "colab": {
          "base_uri": "https://localhost:8080/",
          "height": 206
        },
        "id": "A7FEfwTNheFw",
        "outputId": "62b93409-122d-4fb6-911d-191f7954b5a6"
      },
      "execution_count": 25,
      "outputs": [
        {
          "output_type": "execute_result",
          "data": {
            "text/plain": [
              "                             place  earthquake_count\n",
              "0         0 km  of The Geysers, CA                 1\n",
              "1      0 km ENE of Minco, Oklahoma                 2\n",
              "2      0 km ENE of The Geysers, CA                 1\n",
              "3  0 km ESE of Indios, Puerto Rico                 1\n",
              "4      0 km ESE of Minco, Oklahoma                 2"
            ],
            "text/html": [
              "\n",
              "  <div id=\"df-cb1a8947-13cd-483b-9697-e2cd2be1bce8\" class=\"colab-df-container\">\n",
              "    <div>\n",
              "<style scoped>\n",
              "    .dataframe tbody tr th:only-of-type {\n",
              "        vertical-align: middle;\n",
              "    }\n",
              "\n",
              "    .dataframe tbody tr th {\n",
              "        vertical-align: top;\n",
              "    }\n",
              "\n",
              "    .dataframe thead th {\n",
              "        text-align: right;\n",
              "    }\n",
              "</style>\n",
              "<table border=\"1\" class=\"dataframe\">\n",
              "  <thead>\n",
              "    <tr style=\"text-align: right;\">\n",
              "      <th></th>\n",
              "      <th>place</th>\n",
              "      <th>earthquake_count</th>\n",
              "    </tr>\n",
              "  </thead>\n",
              "  <tbody>\n",
              "    <tr>\n",
              "      <th>0</th>\n",
              "      <td>0 km  of The Geysers, CA</td>\n",
              "      <td>1</td>\n",
              "    </tr>\n",
              "    <tr>\n",
              "      <th>1</th>\n",
              "      <td>0 km ENE of Minco, Oklahoma</td>\n",
              "      <td>2</td>\n",
              "    </tr>\n",
              "    <tr>\n",
              "      <th>2</th>\n",
              "      <td>0 km ENE of The Geysers, CA</td>\n",
              "      <td>1</td>\n",
              "    </tr>\n",
              "    <tr>\n",
              "      <th>3</th>\n",
              "      <td>0 km ESE of Indios, Puerto Rico</td>\n",
              "      <td>1</td>\n",
              "    </tr>\n",
              "    <tr>\n",
              "      <th>4</th>\n",
              "      <td>0 km ESE of Minco, Oklahoma</td>\n",
              "      <td>2</td>\n",
              "    </tr>\n",
              "  </tbody>\n",
              "</table>\n",
              "</div>\n",
              "    <div class=\"colab-df-buttons\">\n",
              "\n",
              "  <div class=\"colab-df-container\">\n",
              "    <button class=\"colab-df-convert\" onclick=\"convertToInteractive('df-cb1a8947-13cd-483b-9697-e2cd2be1bce8')\"\n",
              "            title=\"Convert this dataframe to an interactive table.\"\n",
              "            style=\"display:none;\">\n",
              "\n",
              "  <svg xmlns=\"http://www.w3.org/2000/svg\" height=\"24px\" viewBox=\"0 -960 960 960\">\n",
              "    <path d=\"M120-120v-720h720v720H120Zm60-500h600v-160H180v160Zm220 220h160v-160H400v160Zm0 220h160v-160H400v160ZM180-400h160v-160H180v160Zm440 0h160v-160H620v160ZM180-180h160v-160H180v160Zm440 0h160v-160H620v160Z\"/>\n",
              "  </svg>\n",
              "    </button>\n",
              "\n",
              "  <style>\n",
              "    .colab-df-container {\n",
              "      display:flex;\n",
              "      gap: 12px;\n",
              "    }\n",
              "\n",
              "    .colab-df-convert {\n",
              "      background-color: #E8F0FE;\n",
              "      border: none;\n",
              "      border-radius: 50%;\n",
              "      cursor: pointer;\n",
              "      display: none;\n",
              "      fill: #1967D2;\n",
              "      height: 32px;\n",
              "      padding: 0 0 0 0;\n",
              "      width: 32px;\n",
              "    }\n",
              "\n",
              "    .colab-df-convert:hover {\n",
              "      background-color: #E2EBFA;\n",
              "      box-shadow: 0px 1px 2px rgba(60, 64, 67, 0.3), 0px 1px 3px 1px rgba(60, 64, 67, 0.15);\n",
              "      fill: #174EA6;\n",
              "    }\n",
              "\n",
              "    .colab-df-buttons div {\n",
              "      margin-bottom: 4px;\n",
              "    }\n",
              "\n",
              "    [theme=dark] .colab-df-convert {\n",
              "      background-color: #3B4455;\n",
              "      fill: #D2E3FC;\n",
              "    }\n",
              "\n",
              "    [theme=dark] .colab-df-convert:hover {\n",
              "      background-color: #434B5C;\n",
              "      box-shadow: 0px 1px 3px 1px rgba(0, 0, 0, 0.15);\n",
              "      filter: drop-shadow(0px 1px 2px rgba(0, 0, 0, 0.3));\n",
              "      fill: #FFFFFF;\n",
              "    }\n",
              "  </style>\n",
              "\n",
              "    <script>\n",
              "      const buttonEl =\n",
              "        document.querySelector('#df-cb1a8947-13cd-483b-9697-e2cd2be1bce8 button.colab-df-convert');\n",
              "      buttonEl.style.display =\n",
              "        google.colab.kernel.accessAllowed ? 'block' : 'none';\n",
              "\n",
              "      async function convertToInteractive(key) {\n",
              "        const element = document.querySelector('#df-cb1a8947-13cd-483b-9697-e2cd2be1bce8');\n",
              "        const dataTable =\n",
              "          await google.colab.kernel.invokeFunction('convertToInteractive',\n",
              "                                                    [key], {});\n",
              "        if (!dataTable) return;\n",
              "\n",
              "        const docLinkHtml = 'Like what you see? Visit the ' +\n",
              "          '<a target=\"_blank\" href=https://colab.research.google.com/notebooks/data_table.ipynb>data table notebook</a>'\n",
              "          + ' to learn more about interactive tables.';\n",
              "        element.innerHTML = '';\n",
              "        dataTable['output_type'] = 'display_data';\n",
              "        await google.colab.output.renderOutput(dataTable, element);\n",
              "        const docLink = document.createElement('div');\n",
              "        docLink.innerHTML = docLinkHtml;\n",
              "        element.appendChild(docLink);\n",
              "      }\n",
              "    </script>\n",
              "  </div>\n",
              "\n",
              "\n",
              "    <div id=\"df-adf466b9-ad78-4afa-9596-cd44c555191f\">\n",
              "      <button class=\"colab-df-quickchart\" onclick=\"quickchart('df-adf466b9-ad78-4afa-9596-cd44c555191f')\"\n",
              "                title=\"Suggest charts\"\n",
              "                style=\"display:none;\">\n",
              "\n",
              "<svg xmlns=\"http://www.w3.org/2000/svg\" height=\"24px\"viewBox=\"0 0 24 24\"\n",
              "     width=\"24px\">\n",
              "    <g>\n",
              "        <path d=\"M19 3H5c-1.1 0-2 .9-2 2v14c0 1.1.9 2 2 2h14c1.1 0 2-.9 2-2V5c0-1.1-.9-2-2-2zM9 17H7v-7h2v7zm4 0h-2V7h2v10zm4 0h-2v-4h2v4z\"/>\n",
              "    </g>\n",
              "</svg>\n",
              "      </button>\n",
              "\n",
              "<style>\n",
              "  .colab-df-quickchart {\n",
              "      --bg-color: #E8F0FE;\n",
              "      --fill-color: #1967D2;\n",
              "      --hover-bg-color: #E2EBFA;\n",
              "      --hover-fill-color: #174EA6;\n",
              "      --disabled-fill-color: #AAA;\n",
              "      --disabled-bg-color: #DDD;\n",
              "  }\n",
              "\n",
              "  [theme=dark] .colab-df-quickchart {\n",
              "      --bg-color: #3B4455;\n",
              "      --fill-color: #D2E3FC;\n",
              "      --hover-bg-color: #434B5C;\n",
              "      --hover-fill-color: #FFFFFF;\n",
              "      --disabled-bg-color: #3B4455;\n",
              "      --disabled-fill-color: #666;\n",
              "  }\n",
              "\n",
              "  .colab-df-quickchart {\n",
              "    background-color: var(--bg-color);\n",
              "    border: none;\n",
              "    border-radius: 50%;\n",
              "    cursor: pointer;\n",
              "    display: none;\n",
              "    fill: var(--fill-color);\n",
              "    height: 32px;\n",
              "    padding: 0;\n",
              "    width: 32px;\n",
              "  }\n",
              "\n",
              "  .colab-df-quickchart:hover {\n",
              "    background-color: var(--hover-bg-color);\n",
              "    box-shadow: 0 1px 2px rgba(60, 64, 67, 0.3), 0 1px 3px 1px rgba(60, 64, 67, 0.15);\n",
              "    fill: var(--button-hover-fill-color);\n",
              "  }\n",
              "\n",
              "  .colab-df-quickchart-complete:disabled,\n",
              "  .colab-df-quickchart-complete:disabled:hover {\n",
              "    background-color: var(--disabled-bg-color);\n",
              "    fill: var(--disabled-fill-color);\n",
              "    box-shadow: none;\n",
              "  }\n",
              "\n",
              "  .colab-df-spinner {\n",
              "    border: 2px solid var(--fill-color);\n",
              "    border-color: transparent;\n",
              "    border-bottom-color: var(--fill-color);\n",
              "    animation:\n",
              "      spin 1s steps(1) infinite;\n",
              "  }\n",
              "\n",
              "  @keyframes spin {\n",
              "    0% {\n",
              "      border-color: transparent;\n",
              "      border-bottom-color: var(--fill-color);\n",
              "      border-left-color: var(--fill-color);\n",
              "    }\n",
              "    20% {\n",
              "      border-color: transparent;\n",
              "      border-left-color: var(--fill-color);\n",
              "      border-top-color: var(--fill-color);\n",
              "    }\n",
              "    30% {\n",
              "      border-color: transparent;\n",
              "      border-left-color: var(--fill-color);\n",
              "      border-top-color: var(--fill-color);\n",
              "      border-right-color: var(--fill-color);\n",
              "    }\n",
              "    40% {\n",
              "      border-color: transparent;\n",
              "      border-right-color: var(--fill-color);\n",
              "      border-top-color: var(--fill-color);\n",
              "    }\n",
              "    60% {\n",
              "      border-color: transparent;\n",
              "      border-right-color: var(--fill-color);\n",
              "    }\n",
              "    80% {\n",
              "      border-color: transparent;\n",
              "      border-right-color: var(--fill-color);\n",
              "      border-bottom-color: var(--fill-color);\n",
              "    }\n",
              "    90% {\n",
              "      border-color: transparent;\n",
              "      border-bottom-color: var(--fill-color);\n",
              "    }\n",
              "  }\n",
              "</style>\n",
              "\n",
              "      <script>\n",
              "        async function quickchart(key) {\n",
              "          const quickchartButtonEl =\n",
              "            document.querySelector('#' + key + ' button');\n",
              "          quickchartButtonEl.disabled = true;  // To prevent multiple clicks.\n",
              "          quickchartButtonEl.classList.add('colab-df-spinner');\n",
              "          try {\n",
              "            const charts = await google.colab.kernel.invokeFunction(\n",
              "                'suggestCharts', [key], {});\n",
              "          } catch (error) {\n",
              "            console.error('Error during call to suggestCharts:', error);\n",
              "          }\n",
              "          quickchartButtonEl.classList.remove('colab-df-spinner');\n",
              "          quickchartButtonEl.classList.add('colab-df-quickchart-complete');\n",
              "        }\n",
              "        (() => {\n",
              "          let quickchartButtonEl =\n",
              "            document.querySelector('#df-adf466b9-ad78-4afa-9596-cd44c555191f button');\n",
              "          quickchartButtonEl.style.display =\n",
              "            google.colab.kernel.accessAllowed ? 'block' : 'none';\n",
              "        })();\n",
              "      </script>\n",
              "    </div>\n",
              "\n",
              "    </div>\n",
              "  </div>\n"
            ],
            "application/vnd.google.colaboratory.intrinsic+json": {
              "type": "dataframe",
              "variable_name": "earth_quakes_per_place",
              "summary": "{\n  \"name\": \"earth_quakes_per_place\",\n  \"rows\": 5109,\n  \"fields\": [\n    {\n      \"column\": \"place\",\n      \"properties\": {\n        \"dtype\": \"string\",\n        \"num_unique_values\": 5109,\n        \"samples\": [\n          \"8 km WSW of Copper Center, Alaska\",\n          \"75 km SW of Yonakuni, Japan\",\n          \"5 km S of Redlands, CA\"\n        ],\n        \"semantic_type\": \"\",\n        \"description\": \"\"\n      }\n    },\n    {\n      \"column\": \"earthquake_count\",\n      \"properties\": {\n        \"dtype\": \"number\",\n        \"std\": 4,\n        \"min\": 1,\n        \"max\": 203,\n        \"num_unique_values\": 46,\n        \"samples\": [\n          24,\n          20,\n          46\n        ],\n        \"semantic_type\": \"\",\n        \"description\": \"\"\n      }\n    }\n  ]\n}"
            }
          },
          "metadata": {},
          "execution_count": 25
        }
      ]
    },
    {
      "cell_type": "code",
      "source": [
        "earth_quakes_per_place"
      ],
      "metadata": {
        "id": "yxJArDnfo9lg"
      },
      "execution_count": null,
      "outputs": []
    },
    {
      "cell_type": "code",
      "source": [
        "len(df2)"
      ],
      "metadata": {
        "colab": {
          "base_uri": "https://localhost:8080/"
        },
        "id": "7p9gfYdCpwq3",
        "outputId": "ea86ee9f-9174-4c97-ee25-4c518a4b3815"
      },
      "execution_count": null,
      "outputs": [
        {
          "output_type": "execute_result",
          "data": {
            "text/plain": [
              "9737"
            ]
          },
          "metadata": {},
          "execution_count": 29
        }
      ]
    },
    {
      "cell_type": "markdown",
      "source": [
        "Compute average magnitude and max depth per day"
      ],
      "metadata": {
        "id": "xxvUcHlallPN"
      }
    },
    {
      "cell_type": "code",
      "source": [
        "df['date'] = df['time'].dt.date\n",
        "\n",
        "daily_stats = df.groupby('date').agg(\n",
        "    avg_magnitude=('mag', 'mean'),\n",
        "    max_depth=('depth', 'max')\n",
        ").reset_index()\n",
        "\n",
        "print(daily_stats.head(10))\n"
      ],
      "metadata": {
        "colab": {
          "base_uri": "https://localhost:8080/"
        },
        "id": "cIiTfF3widel",
        "outputId": "53ac69c6-81d8-40fc-90a3-61d650f04465"
      },
      "execution_count": null,
      "outputs": [
        {
          "output_type": "stream",
          "name": "stdout",
          "text": [
            "         date  avg_magnitude  max_depth\n",
            "0  2025-08-22       1.330734    515.056\n",
            "1  2025-08-23       1.565403    565.087\n",
            "2  2025-08-24       1.433423    499.800\n",
            "3  2025-08-25       1.228933    126.766\n",
            "4  2025-08-26       1.394417    612.812\n",
            "5  2025-08-27       1.336623    128.261\n",
            "6  2025-08-28       1.313672    260.716\n",
            "7  2025-08-29       1.274347    541.434\n",
            "8  2025-08-30       1.409890    206.809\n",
            "9  2025-08-31       1.412689    554.091\n"
          ]
        }
      ]
    },
    {
      "cell_type": "code",
      "source": [
        "df.columns"
      ],
      "metadata": {
        "colab": {
          "base_uri": "https://localhost:8080/"
        },
        "id": "W4RqQDHekwzN",
        "outputId": "1b07a7cb-e67e-47c1-d06c-71df240650a4"
      },
      "execution_count": null,
      "outputs": [
        {
          "output_type": "execute_result",
          "data": {
            "text/plain": [
              "Index(['time', 'latitude', 'longitude', 'depth', 'mag', 'magType', 'nst',\n",
              "       'gap', 'dmin', 'rms', 'net', 'id', 'updated', 'place', 'type',\n",
              "       'horizontalError', 'depthError', 'magError', 'magNst', 'status',\n",
              "       'locationSource', 'magSource', 'day_of_week', 'severity_level', 'date'],\n",
              "      dtype='object')"
            ]
          },
          "metadata": {},
          "execution_count": 25
        }
      ]
    },
    {
      "cell_type": "code",
      "source": [
        "# Save cleaned dataset\n",
        "df.to_csv(\"cleaned_earthquakes.csv\", index=False)\n"
      ],
      "metadata": {
        "id": "zMHhBF8dlEpn"
      },
      "execution_count": null,
      "outputs": []
    },
    {
      "cell_type": "code",
      "source": [
        "daily_stats.to_csv(\"earthquake_daily_summary.csv\", index=False)\n",
        "earth_quakes_per_place.to_csv(\"earthquake_place_summary.csv\")"
      ],
      "metadata": {
        "id": "BbaNa8yNlLIJ"
      },
      "execution_count": null,
      "outputs": []
    },
    {
      "cell_type": "markdown",
      "source": [
        "Store into SQLite table"
      ],
      "metadata": {
        "id": "pCI9uD7frJRe"
      }
    },
    {
      "cell_type": "code",
      "source": [
        "import sqlite3"
      ],
      "metadata": {
        "id": "iuxWRfOdrKcU"
      },
      "execution_count": null,
      "outputs": []
    },
    {
      "cell_type": "code",
      "source": [
        "conn = sqlite3.connect(\"earthquakes.db\")\n",
        "cursor = conn.cursor()"
      ],
      "metadata": {
        "id": "n1hymPN0rKp3"
      },
      "execution_count": null,
      "outputs": []
    },
    {
      "cell_type": "code",
      "source": [
        "df.to_sql(\"cleaned_earthquakes\", conn, if_exists=\"replace\", index=False)\n",
        "\n",
        "print(\"✅ Cleaned dataset stored in table 'cleaned_earthquakes'\")\n"
      ],
      "metadata": {
        "colab": {
          "base_uri": "https://localhost:8080/"
        },
        "id": "nquhRQFBsV5F",
        "outputId": "26a899fc-2fc6-43c7-98ea-ceaa678818a1"
      },
      "execution_count": null,
      "outputs": [
        {
          "output_type": "stream",
          "name": "stdout",
          "text": [
            "✅ Cleaned dataset stored in table 'cleaned_earthquakes'\n"
          ]
        }
      ]
    },
    {
      "cell_type": "code",
      "source": [
        "earth_quakes_per_place.to_sql(\"earthquake_place_summary\",conn)"
      ],
      "metadata": {
        "colab": {
          "base_uri": "https://localhost:8080/"
        },
        "id": "nYvc2DJ9sfTm",
        "outputId": "97b78633-64d9-414d-b320-af6975ad1a38"
      },
      "execution_count": null,
      "outputs": [
        {
          "output_type": "execute_result",
          "data": {
            "text/plain": [
              "5109"
            ]
          },
          "metadata": {},
          "execution_count": 34
        }
      ]
    },
    {
      "cell_type": "code",
      "source": [
        "daily_stats.to_sql(\"earthquake_daily_summary\",conn)\n",
        "\n",
        "print(\"✅ earthquake daily summary stored in table 'earthquake_daily_summary'\")\n"
      ],
      "metadata": {
        "colab": {
          "base_uri": "https://localhost:8080/"
        },
        "id": "h2FLswjxuNyx",
        "outputId": "fb4fb3cf-c520-4d23-f181-b4eadc0c52a2"
      },
      "execution_count": null,
      "outputs": [
        {
          "output_type": "stream",
          "name": "stdout",
          "text": [
            "✅ earthquake daily summary stored in table 'earthquake_daily_summary'\n"
          ]
        }
      ]
    },
    {
      "cell_type": "markdown",
      "source": [
        "Flow chart"
      ],
      "metadata": {
        "id": "tsIngWONa29m"
      }
    },
    {
      "cell_type": "code",
      "source": [
        "from graphviz import Digraph\n",
        "from IPython.display import display\n",
        "\n",
        "# Create directed graph\n",
        "dot = Digraph('ETL', format='png')\n",
        "dot.attr(rankdir='LR')  # Left to right layout\n",
        "\n",
        "# --- Nodes ---\n",
        "dot.node('E', 'Extract\\n(Read CSV)', shape='box', color='black')\n",
        "dot.node('T', '''Transform\n",
        "- Convert time to datetime\n",
        "- Drop missing  mag rows\n",
        "- Add day_of_week column\n",
        "- Add severity_level column''', shape='box', color='black')\n",
        "dot.node('L', 'Load\\n(Save to SQLite)', shape='box', color='black')\n",
        "\n",
        "# --- Edges ---\n",
        "dot.edge('E', 'T')\n",
        "dot.edge('T', 'L')\n",
        "\n",
        "# Display directly in notebook/Colab\n",
        "display(dot)\n"
      ],
      "metadata": {
        "colab": {
          "base_uri": "https://localhost:8080/",
          "height": 143
        },
        "id": "MSKKr9lBcf-y",
        "outputId": "f7f519cd-b3dc-4a1e-d3e1-32b0a260f8f3"
      },
      "execution_count": null,
      "outputs": [
        {
          "output_type": "display_data",
          "data": {
            "image/svg+xml": "<?xml version=\"1.0\" encoding=\"UTF-8\" standalone=\"no\"?>\n<!DOCTYPE svg PUBLIC \"-//W3C//DTD SVG 1.1//EN\"\n \"http://www.w3.org/Graphics/SVG/1.1/DTD/svg11.dtd\">\n<!-- Generated by graphviz version 2.43.0 (0)\n -->\n<!-- Title: ETL Pages: 1 -->\n<svg width=\"444pt\" height=\"91pt\"\n viewBox=\"0.00 0.00 444.00 91.00\" xmlns=\"http://www.w3.org/2000/svg\" xmlns:xlink=\"http://www.w3.org/1999/xlink\">\n<g id=\"graph0\" class=\"graph\" transform=\"scale(1 1) rotate(0) translate(4 87)\">\n<title>ETL</title>\n<polygon fill=\"white\" stroke=\"transparent\" points=\"-4,4 -4,-87 440,-87 440,4 -4,4\"/>\n<!-- E -->\n<g id=\"node1\" class=\"node\">\n<title>E</title>\n<polygon fill=\"none\" stroke=\"black\" points=\"83,-60.5 0,-60.5 0,-22.5 83,-22.5 83,-60.5\"/>\n<text text-anchor=\"middle\" x=\"41.5\" y=\"-45.3\" font-family=\"Times,serif\" font-size=\"14.00\">Extract</text>\n<text text-anchor=\"middle\" x=\"41.5\" y=\"-30.3\" font-family=\"Times,serif\" font-size=\"14.00\">(Read CSV)</text>\n</g>\n<!-- T -->\n<g id=\"node2\" class=\"node\">\n<title>T</title>\n<polygon fill=\"none\" stroke=\"black\" points=\"291,-83 119,-83 119,0 291,0 291,-83\"/>\n<text text-anchor=\"middle\" x=\"205\" y=\"-67.8\" font-family=\"Times,serif\" font-size=\"14.00\">Transform</text>\n<text text-anchor=\"middle\" x=\"205\" y=\"-52.8\" font-family=\"Times,serif\" font-size=\"14.00\">&#45; Convert time to datetime</text>\n<text text-anchor=\"middle\" x=\"205\" y=\"-37.8\" font-family=\"Times,serif\" font-size=\"14.00\">&#45; Drop missing &#160;mag rows</text>\n<text text-anchor=\"middle\" x=\"205\" y=\"-22.8\" font-family=\"Times,serif\" font-size=\"14.00\">&#45; Add day_of_week column</text>\n<text text-anchor=\"middle\" x=\"205\" y=\"-7.8\" font-family=\"Times,serif\" font-size=\"14.00\">&#45; Add severity_level column</text>\n</g>\n<!-- E&#45;&gt;T -->\n<g id=\"edge1\" class=\"edge\">\n<title>E&#45;&gt;T</title>\n<path fill=\"none\" stroke=\"black\" d=\"M83.25,-41.5C91.2,-41.5 99.83,-41.5 108.71,-41.5\"/>\n<polygon fill=\"black\" stroke=\"black\" points=\"108.81,-45 118.81,-41.5 108.81,-38 108.81,-45\"/>\n</g>\n<!-- L -->\n<g id=\"node3\" class=\"node\">\n<title>L</title>\n<polygon fill=\"none\" stroke=\"black\" points=\"436,-60.5 327,-60.5 327,-22.5 436,-22.5 436,-60.5\"/>\n<text text-anchor=\"middle\" x=\"381.5\" y=\"-45.3\" font-family=\"Times,serif\" font-size=\"14.00\">Load</text>\n<text text-anchor=\"middle\" x=\"381.5\" y=\"-30.3\" font-family=\"Times,serif\" font-size=\"14.00\">(Save to SQLite)</text>\n</g>\n<!-- T&#45;&gt;L -->\n<g id=\"edge2\" class=\"edge\">\n<title>T&#45;&gt;L</title>\n<path fill=\"none\" stroke=\"black\" d=\"M291.21,-41.5C299.72,-41.5 308.26,-41.5 316.51,-41.5\"/>\n<polygon fill=\"black\" stroke=\"black\" points=\"316.77,-45 326.77,-41.5 316.76,-38 316.77,-45\"/>\n</g>\n</g>\n</svg>\n",
            "text/plain": [
              "<graphviz.graphs.Digraph at 0x7ffa3b4821e0>"
            ]
          },
          "metadata": {}
        }
      ]
    },
    {
      "cell_type": "markdown",
      "source": [
        "extracted earthquake data from a CSV file into Pandas for processing. During transformation, cleaned missing values of magnitudes, converted time to datetime, filtered earthquakes with magnitude ≥ 4.0, engineered new features like day_of_week and severity_level, and aggregated statistics per place and per day. Finally, loaded both the cleaned dataset and summary tables into a SQLite database for storage and analysis."
      ],
      "metadata": {
        "id": "9dngUkXvfiRu"
      }
    },
    {
      "cell_type": "markdown",
      "source": [
        "One insight your team discovered from the data"
      ],
      "metadata": {
        "id": "ZLF5bHxDjU-L"
      }
    },
    {
      "cell_type": "code",
      "source": [
        "import matplotlib.pyplot as plt"
      ],
      "metadata": {
        "id": "7eo7dfMAjTwx"
      },
      "execution_count": null,
      "outputs": []
    },
    {
      "cell_type": "code",
      "source": [
        "df.isna().sum()"
      ],
      "metadata": {
        "colab": {
          "base_uri": "https://localhost:8080/",
          "height": 774
        },
        "id": "KdGgXo39jemI",
        "outputId": "451077a9-3251-4e45-b9be-01872de396f8"
      },
      "execution_count": null,
      "outputs": [
        {
          "output_type": "execute_result",
          "data": {
            "text/plain": [
              "time                  0\n",
              "latitude              0\n",
              "longitude             0\n",
              "depth                 0\n",
              "mag                   0\n",
              "magType               0\n",
              "nst                1139\n",
              "gap                1139\n",
              "dmin               1140\n",
              "rms                   0\n",
              "net                   0\n",
              "id                    0\n",
              "updated               0\n",
              "place                 0\n",
              "type                  0\n",
              "horizontalError    2020\n",
              "depthError            2\n",
              "magError           1180\n",
              "magNst             1158\n",
              "status                0\n",
              "locationSource        0\n",
              "magSource             0\n",
              "dtype: int64"
            ],
            "text/html": [
              "<div>\n",
              "<style scoped>\n",
              "    .dataframe tbody tr th:only-of-type {\n",
              "        vertical-align: middle;\n",
              "    }\n",
              "\n",
              "    .dataframe tbody tr th {\n",
              "        vertical-align: top;\n",
              "    }\n",
              "\n",
              "    .dataframe thead th {\n",
              "        text-align: right;\n",
              "    }\n",
              "</style>\n",
              "<table border=\"1\" class=\"dataframe\">\n",
              "  <thead>\n",
              "    <tr style=\"text-align: right;\">\n",
              "      <th></th>\n",
              "      <th>0</th>\n",
              "    </tr>\n",
              "  </thead>\n",
              "  <tbody>\n",
              "    <tr>\n",
              "      <th>time</th>\n",
              "      <td>0</td>\n",
              "    </tr>\n",
              "    <tr>\n",
              "      <th>latitude</th>\n",
              "      <td>0</td>\n",
              "    </tr>\n",
              "    <tr>\n",
              "      <th>longitude</th>\n",
              "      <td>0</td>\n",
              "    </tr>\n",
              "    <tr>\n",
              "      <th>depth</th>\n",
              "      <td>0</td>\n",
              "    </tr>\n",
              "    <tr>\n",
              "      <th>mag</th>\n",
              "      <td>0</td>\n",
              "    </tr>\n",
              "    <tr>\n",
              "      <th>magType</th>\n",
              "      <td>0</td>\n",
              "    </tr>\n",
              "    <tr>\n",
              "      <th>nst</th>\n",
              "      <td>1139</td>\n",
              "    </tr>\n",
              "    <tr>\n",
              "      <th>gap</th>\n",
              "      <td>1139</td>\n",
              "    </tr>\n",
              "    <tr>\n",
              "      <th>dmin</th>\n",
              "      <td>1140</td>\n",
              "    </tr>\n",
              "    <tr>\n",
              "      <th>rms</th>\n",
              "      <td>0</td>\n",
              "    </tr>\n",
              "    <tr>\n",
              "      <th>net</th>\n",
              "      <td>0</td>\n",
              "    </tr>\n",
              "    <tr>\n",
              "      <th>id</th>\n",
              "      <td>0</td>\n",
              "    </tr>\n",
              "    <tr>\n",
              "      <th>updated</th>\n",
              "      <td>0</td>\n",
              "    </tr>\n",
              "    <tr>\n",
              "      <th>place</th>\n",
              "      <td>0</td>\n",
              "    </tr>\n",
              "    <tr>\n",
              "      <th>type</th>\n",
              "      <td>0</td>\n",
              "    </tr>\n",
              "    <tr>\n",
              "      <th>horizontalError</th>\n",
              "      <td>2020</td>\n",
              "    </tr>\n",
              "    <tr>\n",
              "      <th>depthError</th>\n",
              "      <td>2</td>\n",
              "    </tr>\n",
              "    <tr>\n",
              "      <th>magError</th>\n",
              "      <td>1180</td>\n",
              "    </tr>\n",
              "    <tr>\n",
              "      <th>magNst</th>\n",
              "      <td>1158</td>\n",
              "    </tr>\n",
              "    <tr>\n",
              "      <th>status</th>\n",
              "      <td>0</td>\n",
              "    </tr>\n",
              "    <tr>\n",
              "      <th>locationSource</th>\n",
              "      <td>0</td>\n",
              "    </tr>\n",
              "    <tr>\n",
              "      <th>magSource</th>\n",
              "      <td>0</td>\n",
              "    </tr>\n",
              "  </tbody>\n",
              "</table>\n",
              "</div><br><label><b>dtype:</b> int64</label>"
            ]
          },
          "metadata": {},
          "execution_count": 16
        }
      ]
    },
    {
      "cell_type": "code",
      "source": [
        "summary = df.groupby('type').agg(\n",
        "    avg_magnitude=('mag', 'mean'),\n",
        "    max_magnitude=('mag', 'max'),\n",
        "    avg_depth=('depth', 'mean'),\n",
        "    max_depth=('depth', 'max'),\n",
        "    count=('type', 'count')\n",
        ").reset_index()\n",
        "\n",
        "print(\"Summary by Type:\\n\", summary)"
      ],
      "metadata": {
        "colab": {
          "base_uri": "https://localhost:8080/"
        },
        "id": "ilEHU_HNjsz7",
        "outputId": "2edd1d1e-6a59-44ed-fea9-f1db062d7683"
      },
      "execution_count": null,
      "outputs": [
        {
          "output_type": "stream",
          "name": "stdout",
          "text": [
            "Summary by Type:\n",
            "            type  avg_magnitude  max_magnitude  avg_depth  max_depth  count\n",
            "0    earthquake       1.437823           7.80  17.027621    639.511   9737\n",
            "1     explosion       1.435410           2.24  -0.166557     16.000     61\n",
            "2     landslide       1.400000           1.40   0.000000      0.000      1\n",
            "3  quarry blast       1.352960           2.10  -0.506480      5.590    125\n"
          ]
        }
      ]
    },
    {
      "cell_type": "code",
      "source": [
        "plt.figure(figsize=(10,6))\n",
        "for t in df['type'].unique():\n",
        "    subset = df[df['type'] == t]\n",
        "    plt.scatter(subset['mag'], subset['depth'], label=t, alpha=0.6)\n",
        "\n",
        "plt.gca().invert_yaxis()  # Depth increases downwards in real life\n",
        "plt.xlabel(\"Magnitude\")\n",
        "plt.ylabel(\"Depth (km)\")\n",
        "plt.title(\"Magnitude vs Depth by Event Type\")\n",
        "plt.legend()\n",
        "plt.show()"
      ],
      "metadata": {
        "colab": {
          "base_uri": "https://localhost:8080/",
          "height": 564
        },
        "id": "u5Q2C52ZkkLO",
        "outputId": "2fa5e52d-32a5-42c0-ecbb-a67eaa670641"
      },
      "execution_count": null,
      "outputs": [
        {
          "output_type": "display_data",
          "data": {
            "text/plain": [
              "<Figure size 1000x600 with 1 Axes>"
            ],
            "image/png": "[encoded data removed]"
          },
          "metadata": {}
        }
      ]
    },
    {
      "cell_type": "markdown",
      "source": [
        "Earthquakes occur across a wide range of depths (up to 640 km) and magnitudes (up to 7.8), while quarry blasts and explosions are consistently shallow (near 0 km) and weak (<2.5 magnitude)."
      ],
      "metadata": {
        "id": "ZGcBGYXukv9U"
      }
    },
    {
      "cell_type": "code",
      "source": [
        "# Count number of earthquakes per place\n",
        "place_counts = df.groupby('place').size().reset_index(name='earthquake_count')\n",
        "\n",
        "# Average magnitude per place\n",
        "place_magnitude = df.groupby('place')['mag'].mean().reset_index(name='avg_magnitude')\n",
        "\n",
        "# Merge both summaries\n",
        "place_summary = pd.merge(place_counts, place_magnitude, on='place')\n",
        "\n",
        "# Sort by earthquake count (Top 10 places)\n",
        "top_places = place_summary.sort_values(by='earthquake_count', ascending=False).head(10)\n",
        "\n",
        "print(\"Top 10 Places by Earthquake Frequency with Average Magnitude:\\n\")\n",
        "print(top_places)\n"
      ],
      "metadata": {
        "colab": {
          "base_uri": "https://localhost:8080/"
        },
        "id": "Bxq1CqbopO_p",
        "outputId": "671d6638-7ac0-43de-e5d5-b7363309ca1a"
      },
      "execution_count": 26,
      "outputs": [
        {
          "output_type": "stream",
          "name": "stdout",
          "text": [
            "Top 10 Places by Earthquake Frequency with Average Magnitude:\n",
            "\n",
            "                                        place  earthquake_count  avg_magnitude\n",
            "1057                15 km NE of Milford, Utah               203       1.023596\n",
            "2338  27 km W of Hebgen Lake Estates, Montana                80       0.546875\n",
            "4412              7 km NNW of The Geysers, CA                58       0.931034\n",
            "4500                     7 km WNW of Cobb, CA                57       0.859825\n",
            "4732              8 km NNW of The Geysers, CA                51       0.938627\n",
            "4092                     6 km WNW of Cobb, CA                51       0.694510\n",
            "3429              47 km ESE of Beatty, Nevada                48      -0.033333\n",
            "3874       56 km S of Whites City, New Mexico                47       1.468085\n",
            "2988          38 km WSW of False Pass, Alaska                46       0.373696\n",
            "1873             21 km ESE of Little Lake, CA                46       0.793043\n"
          ]
        }
      ]
    }
  ]
}