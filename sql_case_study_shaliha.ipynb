{
  "nbformat": 4,
  "nbformat_minor": 0,
  "metadata": {
    "colab": {
      "provenance": [],
      "authorship_tag": "ABX9TyPw0waHOZl3sjR9WripGEEv",
      "include_colab_link": true
    },
    "kernelspec": {
      "name": "python3",
      "display_name": "Python 3"
    },
    "language_info": {
      "name": "python"
    }
  },
  "cells": [
    {
      "cell_type": "markdown",
      "metadata": {
        "id": "view-in-github",
        "colab_type": "text"
      },
      "source": [
        "<a href=\"https://colab.research.google.com/github/shaliha223/DSA_class_activities/blob/main/sql_case_study_shaliha.ipynb\" target=\"_parent\"><img src=\"https://colab.research.google.com/assets/colab-badge.svg\" alt=\"Open In Colab\"/></a>"
      ]
    },
    {
      "cell_type": "code",
      "execution_count": 1,
      "metadata": {
        "id": "zcMDDwy75S42"
      },
      "outputs": [],
      "source": [
        "import sqlite3\n",
        "import pandas as pd"
      ]
    },
    {
      "cell_type": "code",
      "source": [
        "def load_imdb_database(db_path):\n",
        "  try:\n",
        "    conn = sqlite3.connect(db_path)\n",
        "    print(\"IMDB database loaded successfully.\")\n",
        "    return conn\n",
        "  except sqlite3.Error as e:\n",
        "    print(f\"Error loading IMDB database: {e}\")\n",
        "    return None"
      ],
      "metadata": {
        "id": "g1-3lE6k5dXj"
      },
      "execution_count": 41,
      "outputs": []
    },
    {
      "cell_type": "code",
      "source": [
        "db_path = \"/content/imdb.db\"\n",
        "conn = load_imdb_database(db_path)\n",
        "\n",
        "if conn:\n",
        "  print(\"Connection successful\")\n",
        "  cursor = conn.cursor()"
      ],
      "metadata": {
        "colab": {
          "base_uri": "https://localhost:8080/"
        },
        "id": "xlTwr12n5o9L",
        "outputId": "c23a0337-9f48-4183-e115-1e88453688c9"
      },
      "execution_count": 42,
      "outputs": [
        {
          "output_type": "stream",
          "name": "stdout",
          "text": [
            "IMDB database loaded successfully.\n",
            "Connection successful\n"
          ]
        }
      ]
    },
    {
      "cell_type": "code",
      "source": [
        "cursor.execute(\"SELECT name FROM sqlite_master WHERE type='table';\")\n",
        "tables = cursor.fetchall()\n",
        "\n",
        "print(\"Database Schema:\")\n",
        "for table in tables:\n",
        "    table_name = table[0]\n",
        "    print(f\"\\nTable: {table_name}\")\n",
        "\n",
        "    cursor.execute(f\"PRAGMA table_info({table_name});\")\n",
        "    schema = cursor.fetchall()\n",
        "\n",
        "    print(\"Columns:\")\n",
        "    for column in schema:\n",
        "        cid, name, dtype, notnull, dflt_value, pk = column\n",
        "        print(f\"  - {name} ({dtype}), NOT NULL: {bool(notnull)}, Default: {dflt_value}, Primary Key: {bool(pk)}\")"
      ],
      "metadata": {
        "colab": {
          "base_uri": "https://localhost:8080/"
        },
        "id": "e5hbfnOP52-7",
        "outputId": "8bd8e268-383e-44f2-dd9f-5e533a0ee1db"
      },
      "execution_count": 4,
      "outputs": [
        {
          "output_type": "stream",
          "name": "stdout",
          "text": [
            "Database Schema:\n",
            "\n",
            "Table: Movie\n",
            "Columns:\n",
            "  - index (INTEGER), NOT NULL: False, Default: None, Primary Key: False\n",
            "  - MID (TEXT), NOT NULL: False, Default: None, Primary Key: False\n",
            "  - title (TEXT), NOT NULL: False, Default: None, Primary Key: False\n",
            "  - year (TEXT), NOT NULL: False, Default: None, Primary Key: False\n",
            "  - rating (REAL), NOT NULL: False, Default: None, Primary Key: False\n",
            "  - num_votes (INTEGER), NOT NULL: False, Default: None, Primary Key: False\n",
            "\n",
            "Table: Genre\n",
            "Columns:\n",
            "  - index (INTEGER), NOT NULL: False, Default: None, Primary Key: False\n",
            "  - Name (TEXT), NOT NULL: False, Default: None, Primary Key: False\n",
            "  - GID (INTEGER), NOT NULL: False, Default: None, Primary Key: False\n",
            "\n",
            "Table: Language\n",
            "Columns:\n",
            "  - index (INTEGER), NOT NULL: False, Default: None, Primary Key: False\n",
            "  - Name (TEXT), NOT NULL: False, Default: None, Primary Key: False\n",
            "  - LAID (INTEGER), NOT NULL: False, Default: None, Primary Key: False\n",
            "\n",
            "Table: Country\n",
            "Columns:\n",
            "  - index (INTEGER), NOT NULL: False, Default: None, Primary Key: False\n",
            "  - Name (TEXT), NOT NULL: False, Default: None, Primary Key: False\n",
            "  - CID (INTEGER), NOT NULL: False, Default: None, Primary Key: False\n",
            "\n",
            "Table: Location\n",
            "Columns:\n",
            "  - index (INTEGER), NOT NULL: False, Default: None, Primary Key: False\n",
            "  - Name (TEXT), NOT NULL: False, Default: None, Primary Key: False\n",
            "  - LID (INTEGER), NOT NULL: False, Default: None, Primary Key: False\n",
            "\n",
            "Table: M_Location\n",
            "Columns:\n",
            "  - index (INTEGER), NOT NULL: False, Default: None, Primary Key: False\n",
            "  - MID (TEXT), NOT NULL: False, Default: None, Primary Key: False\n",
            "  - LID (REAL), NOT NULL: False, Default: None, Primary Key: False\n",
            "  - ID (INTEGER), NOT NULL: False, Default: None, Primary Key: False\n",
            "\n",
            "Table: M_Country\n",
            "Columns:\n",
            "  - index (INTEGER), NOT NULL: False, Default: None, Primary Key: False\n",
            "  - MID (TEXT), NOT NULL: False, Default: None, Primary Key: False\n",
            "  - CID (REAL), NOT NULL: False, Default: None, Primary Key: False\n",
            "  - ID (INTEGER), NOT NULL: False, Default: None, Primary Key: False\n",
            "\n",
            "Table: M_Language\n",
            "Columns:\n",
            "  - index (INTEGER), NOT NULL: False, Default: None, Primary Key: False\n",
            "  - MID (TEXT), NOT NULL: False, Default: None, Primary Key: False\n",
            "  - LAID (INTEGER), NOT NULL: False, Default: None, Primary Key: False\n",
            "  - ID (INTEGER), NOT NULL: False, Default: None, Primary Key: False\n",
            "\n",
            "Table: M_Genre\n",
            "Columns:\n",
            "  - index (INTEGER), NOT NULL: False, Default: None, Primary Key: False\n",
            "  - MID (TEXT), NOT NULL: False, Default: None, Primary Key: False\n",
            "  - GID (INTEGER), NOT NULL: False, Default: None, Primary Key: False\n",
            "  - ID (INTEGER), NOT NULL: False, Default: None, Primary Key: False\n",
            "\n",
            "Table: Person\n",
            "Columns:\n",
            "  - index (INTEGER), NOT NULL: False, Default: None, Primary Key: False\n",
            "  - PID (TEXT), NOT NULL: False, Default: None, Primary Key: False\n",
            "  - Name (TEXT), NOT NULL: False, Default: None, Primary Key: False\n",
            "  - Gender (TEXT), NOT NULL: False, Default: None, Primary Key: False\n",
            "\n",
            "Table: M_Producer\n",
            "Columns:\n",
            "  - index (INTEGER), NOT NULL: False, Default: None, Primary Key: False\n",
            "  - MID (TEXT), NOT NULL: False, Default: None, Primary Key: False\n",
            "  - PID (TEXT), NOT NULL: False, Default: None, Primary Key: False\n",
            "  - ID (INTEGER), NOT NULL: False, Default: None, Primary Key: False\n",
            "\n",
            "Table: M_Director\n",
            "Columns:\n",
            "  - index (INTEGER), NOT NULL: False, Default: None, Primary Key: False\n",
            "  - MID (TEXT), NOT NULL: False, Default: None, Primary Key: False\n",
            "  - PID (TEXT), NOT NULL: False, Default: None, Primary Key: False\n",
            "  - ID (INTEGER), NOT NULL: False, Default: None, Primary Key: False\n",
            "\n",
            "Table: M_Cast\n",
            "Columns:\n",
            "  - index (INTEGER), NOT NULL: False, Default: None, Primary Key: False\n",
            "  - MID (TEXT), NOT NULL: False, Default: None, Primary Key: False\n",
            "  - PID (TEXT), NOT NULL: False, Default: None, Primary Key: False\n",
            "  - ID (INTEGER), NOT NULL: False, Default: None, Primary Key: False\n"
          ]
        }
      ]
    },
    {
      "cell_type": "code",
      "source": [
        "## 1. Write query to list first 5 rows of Person table\n",
        "\n",
        "q1 = \"\"\"SELECT * FROM Person limit 5\"\"\"\n",
        "\n",
        "def q1_grader(q1):\n",
        "  result = pd.read_sql_query(q1, conn)\n",
        "  return result.shape == (5, 4)\n",
        "print(q1_grader(q1))"
      ],
      "metadata": {
        "colab": {
          "base_uri": "https://localhost:8080/"
        },
        "id": "RgA46sbe6VhI",
        "outputId": "0fbd180f-fbf7-4595-e7c1-e243a97225cc"
      },
      "execution_count": 5,
      "outputs": [
        {
          "output_type": "stream",
          "name": "stdout",
          "text": [
            "True\n"
          ]
        }
      ]
    },
    {
      "cell_type": "code",
      "source": [
        "## 2. Write query to select title, year and rating from Movie table\n",
        "\n",
        "q2 = \"\"\"SELECT title ,year, rating FROM Movie\"\"\"\n",
        "\n",
        "def q2_grader(q2):\n",
        "  result = pd.read_sql_query(q2, conn)\n",
        "  return result.shape == (3473, 3) and result['title'][0]=='Mowgli'\n",
        "print(q2_grader(q2))"
      ],
      "metadata": {
        "colab": {
          "base_uri": "https://localhost:8080/"
        },
        "id": "Qk6a1Xnp8MAl",
        "outputId": "0cc16fc3-2e9a-448c-e1a3-a953f453f80b"
      },
      "execution_count": 6,
      "outputs": [
        {
          "output_type": "stream",
          "name": "stdout",
          "text": [
            "True\n"
          ]
        }
      ]
    },
    {
      "cell_type": "code",
      "source": [
        "## 3. Write query to get title of first movie in movie table sorted by year in ascending order\n",
        "\n",
        "q3 = \"\"\"SELECT title FROM Movie order by year asc limit 1\"\"\"\n",
        "\n",
        "def q3_grader(q3):\n",
        "  result = pd.read_sql_query(q3, conn)\n",
        "  return result['title']=='Alam Ara'\n",
        "print(q3_grader(q3))"
      ],
      "metadata": {
        "colab": {
          "base_uri": "https://localhost:8080/"
        },
        "id": "Kr_6tFeU8092",
        "outputId": "8440420e-f8f7-4298-8caa-fbd6b6d1cbea"
      },
      "execution_count": 7,
      "outputs": [
        {
          "output_type": "stream",
          "name": "stdout",
          "text": [
            "0    True\n",
            "Name: title, dtype: bool\n"
          ]
        }
      ]
    },
    {
      "cell_type": "code",
      "source": [
        "## 4. Write query to get the very first year in which Devdas movie was released\n",
        "\n",
        "q4 = \"\"\"select year from Movie where title = 'Devdas' order by year asc limit 1\"\"\"\n",
        "\n",
        "def q4_grader(q4):\n",
        "  result = pd.read_sql_query(q4, conn)\n",
        "  return result['year']=='1936'\n",
        "print(q4_grader(q4))"
      ],
      "metadata": {
        "colab": {
          "base_uri": "https://localhost:8080/"
        },
        "id": "1Lvgekhj9-eJ",
        "outputId": "e7419d57-4845-4be6-a58f-13bb595ed45c"
      },
      "execution_count": 12,
      "outputs": [
        {
          "output_type": "stream",
          "name": "stdout",
          "text": [
            "0    True\n",
            "Name: year, dtype: bool\n"
          ]
        }
      ]
    },
    {
      "cell_type": "code",
      "source": [
        "## 5. Write query to get the number of movies released in 2018\n",
        "\n",
        "q5 = \"\"\"select count(*) from Movie where year = 2018\"\"\"\n",
        "\n",
        "def q5_grader(q5):\n",
        "  result = pd.read_sql_query(q5, conn)\n",
        "  return result.iloc[0, 0] == 93\n",
        "print(q5_grader(q5))"
      ],
      "metadata": {
        "colab": {
          "base_uri": "https://localhost:8080/"
        },
        "id": "NcatObC6_loO",
        "outputId": "7a76b674-59e5-49c6-d4c2-48b951702402"
      },
      "execution_count": 13,
      "outputs": [
        {
          "output_type": "stream",
          "name": "stdout",
          "text": [
            "True\n"
          ]
        }
      ]
    },
    {
      "cell_type": "code",
      "source": [
        "## 6. Write query to get the title of the movie with most number of votes in 2012\n",
        "\n",
        "q6 = \"\"\"select title from Movie where year = 2012 order by num_votes desc limit 1\"\"\"\n",
        "\n",
        "def q6_grader(q6):\n",
        "  result = pd.read_sql_query(q6, conn)\n",
        "  return result[\"title\"]==\"The Avengers\"\n",
        "print(q6_grader(q6))"
      ],
      "metadata": {
        "colab": {
          "base_uri": "https://localhost:8080/"
        },
        "id": "4aBhghU1ADbN",
        "outputId": "aea9a2ea-d8a4-4ef7-9840-7bf40698a56b"
      },
      "execution_count": 15,
      "outputs": [
        {
          "output_type": "stream",
          "name": "stdout",
          "text": [
            "0    True\n",
            "Name: title, dtype: bool\n"
          ]
        }
      ]
    },
    {
      "cell_type": "code",
      "source": [
        "## 7. Write SQL query to find all the unique movie titles released in 2018\n",
        "\n",
        "q7 = \"\"\"select distinct title from Movie where year = 2018\"\"\"\n",
        "\n",
        "def q7_grader(q7):\n",
        "  result = pd.read_sql_query(q7, conn)\n",
        "  return result.shape==(93, 1)\n",
        "print(q7_grader(q7))"
      ],
      "metadata": {
        "colab": {
          "base_uri": "https://localhost:8080/"
        },
        "id": "TAPNIxtsBAve",
        "outputId": "416d2123-d18d-4fcc-82e5-381db83c16f5"
      },
      "execution_count": 16,
      "outputs": [
        {
          "output_type": "stream",
          "name": "stdout",
          "text": [
            "True\n"
          ]
        }
      ]
    },
    {
      "cell_type": "code",
      "source": [
        "## 8. Write SQL query to get total number of movies released between 2017 (inclusive) and 2018 (inclusive)\n",
        "\n",
        "q8 = \"\"\"select count(*) from Movie where year>=2017 and year<=2018\"\"\"\n",
        "\n",
        "def q8_grader(q8):\n",
        "  result = pd.read_sql_query(q8, conn)\n",
        "  return result.iloc[0, 0] == 211\n",
        "print(q8_grader(q8))"
      ],
      "metadata": {
        "colab": {
          "base_uri": "https://localhost:8080/"
        },
        "id": "cjtUiiRBCcro",
        "outputId": "8adee48d-10e4-48e9-dac9-a297c073fbfb"
      },
      "execution_count": 18,
      "outputs": [
        {
          "output_type": "stream",
          "name": "stdout",
          "text": [
            "True\n"
          ]
        }
      ]
    },
    {
      "cell_type": "code",
      "source": [
        "## 9. Write SQL query to find the year in which maximum number of movies released\n",
        "\n",
        "q9 = \"\"\"select year from Movie group by year order by count(*) desc\"\"\"\n",
        "\n",
        "def q9_grader(q9):\n",
        "  result = pd.read_sql_query(q9, conn)\n",
        "  return result[\"year\"][0]==\"2005\"\n",
        "print(q9_grader(q9))"
      ],
      "metadata": {
        "colab": {
          "base_uri": "https://localhost:8080/"
        },
        "id": "XJuQrqJeCyRU",
        "outputId": "9ee4cfce-3d91-4d2a-c91d-b3fa422dec4f"
      },
      "execution_count": 21,
      "outputs": [
        {
          "output_type": "stream",
          "name": "stdout",
          "text": [
            "True\n"
          ]
        }
      ]
    },
    {
      "cell_type": "code",
      "source": [
        "## 10. Write SQL query to find the title of the movie with rating>9.5 and number of votes > 90\n",
        "\n",
        "q10 = \"\"\"select title from Movie where rating>9.5 and num_votes>90\"\"\"\n",
        "\n",
        "def q10_grader(q10):\n",
        "  result = pd.read_sql_query(q10, conn)\n",
        "  return result[\"title\"][0]==\"Man on Mission Fauladi\"\n",
        "print(q10_grader(q10))"
      ],
      "metadata": {
        "colab": {
          "base_uri": "https://localhost:8080/"
        },
        "id": "kHxKvcN0EN4Q",
        "outputId": "13a81c74-7dcb-4872-c4a4-0ef97b47d95e"
      },
      "execution_count": 22,
      "outputs": [
        {
          "output_type": "stream",
          "name": "stdout",
          "text": [
            "True\n"
          ]
        }
      ]
    },
    {
      "cell_type": "code",
      "source": [
        "## 11. Write SQL query to find the number of movies which has the word 'Dilwale' in their title\n",
        "\n",
        "q11 = \"\"\"select count(title) from Movie where title like '%Dilwale%'\"\"\"\n",
        "\n",
        "def q11_grader(q11):\n",
        "  result = pd.read_sql_query(q11, conn)\n",
        "  return result.iloc[0, 0] == 4\n",
        "print(q11_grader(q11))"
      ],
      "metadata": {
        "colab": {
          "base_uri": "https://localhost:8080/"
        },
        "id": "4JgdWouDEvw_",
        "outputId": "08fffcfe-3102-41bb-c54f-83c141ccec8b"
      },
      "execution_count": 25,
      "outputs": [
        {
          "output_type": "stream",
          "name": "stdout",
          "text": [
            "True\n"
          ]
        }
      ]
    },
    {
      "cell_type": "code",
      "source": [
        "## 12. Write nested SQL query to find the CID of country which produced most number of movie\n",
        "\n",
        "q12 = \"\"\" select CID from country where CID = (select CID from M_country group by MID order by count(*) desc limit 1)\"\"\"\n",
        "\n",
        "def q12_grader(q12):\n",
        "  result = pd.read_sql_query(q12, conn)\n",
        "  return result.iloc[0]==2.0\n",
        "print(q12_grader(q12))"
      ],
      "metadata": {
        "colab": {
          "base_uri": "https://localhost:8080/"
        },
        "id": "9kgjpJAJGNdQ",
        "outputId": "9e0bdcb6-f504-4265-8056-85909cbd58b8"
      },
      "execution_count": 34,
      "outputs": [
        {
          "output_type": "stream",
          "name": "stdout",
          "text": [
            "CID    True\n",
            "Name: 0, dtype: bool\n"
          ]
        }
      ]
    },
    {
      "cell_type": "code",
      "source": [
        "## 13. Write nested SQL query to the country which produced most number of movies (use both Courty table and M_Country table)\n",
        "\n",
        "q13 = \"\"\"select Name from country where CID = (select CID from M_country group by MID order by count(*) desc limit 1) \"\"\"\n",
        "\n",
        "def q13_grader(q13):\n",
        "  result = pd.read_sql_query(q13, conn)\n",
        "  return result.iloc[0, 0] == \"India\"\n",
        "print(q13_grader(q13))"
      ],
      "metadata": {
        "colab": {
          "base_uri": "https://localhost:8080/"
        },
        "id": "JvlX1KtaGkNW",
        "outputId": "ec177b9f-82e4-4298-d68b-0817720baed2"
      },
      "execution_count": 35,
      "outputs": [
        {
          "output_type": "stream",
          "name": "stdout",
          "text": [
            "True\n"
          ]
        }
      ]
    },
    {
      "cell_type": "code",
      "source": [
        "## 14. Write SQL query to get the year and number of movies per year having number of movies per year is greater than 100\n",
        "\n",
        "q14 = \"\"\"select year, count(*) from Movie group by year having count(*)>100\"\"\"\n",
        "\n",
        "def q14_grader(q14):\n",
        "  result = pd.read_sql_query(q14, conn)\n",
        "  return result.shape==(13,2)\n",
        "print(q14_grader(q14))"
      ],
      "metadata": {
        "colab": {
          "base_uri": "https://localhost:8080/"
        },
        "id": "_cuIR9gXT89x",
        "outputId": "9dc16d3d-b978-435b-bac9-e6d2676f652e"
      },
      "execution_count": 43,
      "outputs": [
        {
          "output_type": "stream",
          "name": "stdout",
          "text": [
            "True\n"
          ]
        }
      ]
    },
    {
      "cell_type": "code",
      "source": [
        "## 15. Write SQL query to get the Name and Language ID (LAID) corresponding to Malayalam language\n",
        "\n",
        "q15 = \"\"\"select Name,LAID from Language where Name = 'Malayalam' \"\"\"\n",
        "\n",
        "def q15_grader(q15):\n",
        "  result = pd.read_sql_query(q15, conn)\n",
        "  print(result)\n",
        "  return result[[\"Name\", \"LAID\"]].values.tolist() == [['Malayalam', 19]]\n",
        "print(q15_grader(q15))"
      ],
      "metadata": {
        "colab": {
          "base_uri": "https://localhost:8080/"
        },
        "id": "QwHe39ffUIp5",
        "outputId": "b834ab88-9bb0-4d7c-b348-76164e7014a2"
      },
      "execution_count": 44,
      "outputs": [
        {
          "output_type": "stream",
          "name": "stdout",
          "text": [
            "        Name  LAID\n",
            "0  Malayalam    19\n",
            "True\n"
          ]
        }
      ]
    },
    {
      "cell_type": "code",
      "source": [
        "## 16. Write SQL query to do inner join with movie table and M_Language table with MID colums\n",
        "\n",
        "q16 = \"\"\"select title,year,LAID from Movie inner join M_language on Movie.MID = M_language.MID \"\"\"\n",
        "\n",
        "def q16_grader(q16):\n",
        "  result = pd.read_sql_query(q16, conn)\n",
        "  return result\n",
        "print(q16_grader(q16))"
      ],
      "metadata": {
        "colab": {
          "base_uri": "https://localhost:8080/"
        },
        "id": "Fwu_rh2eUUHa",
        "outputId": "ce9f8aed-83dc-41b2-9a2e-e7c3e0724a65"
      },
      "execution_count": 47,
      "outputs": [
        {
          "output_type": "stream",
          "name": "stdout",
          "text": [
            "              title  year  LAID\n",
            "0            Mowgli  2018     0\n",
            "1     Ocean's Eight  2018     0\n",
            "2       Tomb Raider  2018     0\n",
            "3      The Avengers  2012     0\n",
            "4           Tumbbad  2018     1\n",
            "...             ...   ...   ...\n",
            "3468    Allah-Rakha  1986     2\n",
            "3469          Anari  1993     2\n",
            "3470  Come December  2006     2\n",
            "3471     Kala Jigar  1939     2\n",
            "3472         Kanoon  1994     2\n",
            "\n",
            "[3473 rows x 3 columns]\n"
          ]
        }
      ]
    },
    {
      "cell_type": "code",
      "source": [
        "## 17. Write SQL query to list title, year and rating of malayalam movies in the database by doing an inner join with movie table and M_Language table with MID column, also assuming language ID of malayalam movies as 19\n",
        "\n",
        "q17 = \"\"\"select title, year,rating from Movie inner join M_language on Movie.MID = M_language.MID where M_language.LAID = 19 \"\"\"\n",
        "\n",
        "def q17_grader(q17):\n",
        "  result = pd.read_sql_query(q17, conn)\n",
        "  return result.shape==(16,3)\n",
        "print(q17_grader(q17))"
      ],
      "metadata": {
        "colab": {
          "base_uri": "https://localhost:8080/"
        },
        "id": "A_XfVzzqUdvc",
        "outputId": "49ff884f-f7a0-42aa-93dc-8746c5131596"
      },
      "execution_count": 48,
      "outputs": [
        {
          "output_type": "stream",
          "name": "stdout",
          "text": [
            "True\n"
          ]
        }
      ]
    },
    {
      "cell_type": "code",
      "source": [
        "![ -f academic.db ] && rm academic.db\n",
        "\n",
        "conn = sqlite3.connect(\"academic.db\")\n",
        "cursor = conn.cursor()"
      ],
      "metadata": {
        "id": "eBxv_gBrUozw"
      },
      "execution_count": 82,
      "outputs": []
    },
    {
      "cell_type": "code",
      "source": [
        "## 18. Write SQL query to Create a table named students with two columns id (integer type) and name (varchar type)\n",
        "\n",
        "q18 = \"\"\"create table students(\n",
        "  id int AUTO_INCREMENT PRIMARY KEY,\n",
        "  name varchar(50)\n",
        ")\"\"\"\n",
        "\n",
        "def q18_grader_a(q18):\n",
        "    try:\n",
        "        cursor.execute(q18)\n",
        "        return True\n",
        "    except Exception as e:\n",
        "        print(\"Error:\", e)\n",
        "        return False\n",
        "\n",
        "def q18_grader_b(q19):\n",
        "  result = pd.read_sql_query(q19, conn)\n",
        "  return result.columns.tolist() == ['id', 'name']\n",
        "\n",
        "q18b = \"\"\"SELECT * FROM students;\"\"\"\n",
        "\n",
        "print(q18_grader_a(q18) and q18_grader_b(q18b))\n"
      ],
      "metadata": {
        "colab": {
          "base_uri": "https://localhost:8080/"
        },
        "id": "LPOWXbtxUwJY",
        "outputId": "6c9b4439-bb3f-48be-c285-3556c5216382"
      },
      "execution_count": 83,
      "outputs": [
        {
          "output_type": "stream",
          "name": "stdout",
          "text": [
            "True\n"
          ]
        }
      ]
    },
    {
      "cell_type": "code",
      "source": [
        "## 19. Write SQL query to insert the values (1, 'Alice') into students table\n",
        "\n",
        "q19_a = \"\"\"insert into students (id, name) values(1,'Alice') \"\"\"\n",
        "\n",
        "def q19_grader_a(q19_a):\n",
        "  try:\n",
        "    cursor.execute(q19_a)\n",
        "  except:\n",
        "    pass\n",
        "  return True\n",
        "\n",
        "def q19_grader_b(q19_b):\n",
        "  result = pd.read_sql_query(q19_b, conn)\n",
        "  return result.values.tolist() == [[1, 'Alice']]\n",
        "\n",
        "q19_b = \"SELECT * FROM students\"\n",
        "print(q19_grader_a(q19_a) and q19_grader_b(q19_b))"
      ],
      "metadata": {
        "colab": {
          "base_uri": "https://localhost:8080/"
        },
        "id": "TVDytyHwfVNP",
        "outputId": "c05a20fb-e33e-44dc-9d5f-39964f5479f9"
      },
      "execution_count": 84,
      "outputs": [
        {
          "output_type": "stream",
          "name": "stdout",
          "text": [
            "True\n"
          ]
        }
      ]
    },
    {
      "cell_type": "code",
      "source": [
        "## 20. Write SQL Query to add the following more information to students table\n",
        "\n",
        "\"\"\"| ID | Name    |\n",
        "|----|---------|\n",
        "| 2  | Bob     |\n",
        "| 3  | Charlie |\"\"\"\n",
        "\n",
        "q20 = \"\"\" insert into students (id,name) values (2,'Bob'),(3,'Charlie')\"\"\"\n",
        "\n",
        "def q20_grader(q20):\n",
        "  try:\n",
        "    cursor.execute(q20)\n",
        "  except:\n",
        "    pass\n",
        "  return True\n",
        "\n",
        "def q20_grader_b(q20_b):\n",
        "  result = pd.read_sql_query(q20_b, conn)\n",
        "  return result.values.tolist() == [[1, 'Alice'], [2, 'Bob'], [3, 'Charlie']]\n",
        "\n",
        "print(q20_grader(q20) and q20_grader_b(q19_b))"
      ],
      "metadata": {
        "colab": {
          "base_uri": "https://localhost:8080/"
        },
        "id": "ibhfKf4TfwM0",
        "outputId": "9fb427eb-121b-45e7-d5be-4a54fa2fd68e"
      },
      "execution_count": 85,
      "outputs": [
        {
          "output_type": "stream",
          "name": "stdout",
          "text": [
            "True\n"
          ]
        }
      ]
    }
  ]
}